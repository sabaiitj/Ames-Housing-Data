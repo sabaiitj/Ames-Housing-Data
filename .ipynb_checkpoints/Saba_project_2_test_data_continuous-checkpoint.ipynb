{
 "cells": [
  {
   "cell_type": "code",
   "execution_count": 1,
   "id": "e9bc3c01",
   "metadata": {},
   "outputs": [],
   "source": [
    "import pandas as pd\n",
    "import seaborn as sns\n",
    "import matplotlib.pyplot as plt\n",
    "import numpy as np"
   ]
  },
  {
   "cell_type": "code",
   "execution_count": 2,
   "id": "22154dab",
   "metadata": {},
   "outputs": [],
   "source": [
    "df = pd.read_csv('datasets/test.csv')"
   ]
  },
  {
   "cell_type": "code",
   "execution_count": 3,
   "id": "33f74d3b",
   "metadata": {},
   "outputs": [
    {
     "data": {
      "text/html": [
       "<div>\n",
       "<style scoped>\n",
       "    .dataframe tbody tr th:only-of-type {\n",
       "        vertical-align: middle;\n",
       "    }\n",
       "\n",
       "    .dataframe tbody tr th {\n",
       "        vertical-align: top;\n",
       "    }\n",
       "\n",
       "    .dataframe thead th {\n",
       "        text-align: right;\n",
       "    }\n",
       "</style>\n",
       "<table border=\"1\" class=\"dataframe\">\n",
       "  <thead>\n",
       "    <tr style=\"text-align: right;\">\n",
       "      <th></th>\n",
       "      <th>Id</th>\n",
       "      <th>PID</th>\n",
       "      <th>MS SubClass</th>\n",
       "      <th>MS Zoning</th>\n",
       "      <th>Lot Frontage</th>\n",
       "      <th>Lot Area</th>\n",
       "      <th>Street</th>\n",
       "      <th>Alley</th>\n",
       "      <th>Lot Shape</th>\n",
       "      <th>Land Contour</th>\n",
       "      <th>...</th>\n",
       "      <th>3Ssn Porch</th>\n",
       "      <th>Screen Porch</th>\n",
       "      <th>Pool Area</th>\n",
       "      <th>Pool QC</th>\n",
       "      <th>Fence</th>\n",
       "      <th>Misc Feature</th>\n",
       "      <th>Misc Val</th>\n",
       "      <th>Mo Sold</th>\n",
       "      <th>Yr Sold</th>\n",
       "      <th>Sale Type</th>\n",
       "    </tr>\n",
       "  </thead>\n",
       "  <tbody>\n",
       "    <tr>\n",
       "      <th>0</th>\n",
       "      <td>2658</td>\n",
       "      <td>902301120</td>\n",
       "      <td>190</td>\n",
       "      <td>RM</td>\n",
       "      <td>69.0</td>\n",
       "      <td>9142</td>\n",
       "      <td>Pave</td>\n",
       "      <td>Grvl</td>\n",
       "      <td>Reg</td>\n",
       "      <td>Lvl</td>\n",
       "      <td>...</td>\n",
       "      <td>0</td>\n",
       "      <td>0</td>\n",
       "      <td>0</td>\n",
       "      <td>NaN</td>\n",
       "      <td>NaN</td>\n",
       "      <td>NaN</td>\n",
       "      <td>0</td>\n",
       "      <td>4</td>\n",
       "      <td>2006</td>\n",
       "      <td>WD</td>\n",
       "    </tr>\n",
       "    <tr>\n",
       "      <th>1</th>\n",
       "      <td>2718</td>\n",
       "      <td>905108090</td>\n",
       "      <td>90</td>\n",
       "      <td>RL</td>\n",
       "      <td>NaN</td>\n",
       "      <td>9662</td>\n",
       "      <td>Pave</td>\n",
       "      <td>NaN</td>\n",
       "      <td>IR1</td>\n",
       "      <td>Lvl</td>\n",
       "      <td>...</td>\n",
       "      <td>0</td>\n",
       "      <td>0</td>\n",
       "      <td>0</td>\n",
       "      <td>NaN</td>\n",
       "      <td>NaN</td>\n",
       "      <td>NaN</td>\n",
       "      <td>0</td>\n",
       "      <td>8</td>\n",
       "      <td>2006</td>\n",
       "      <td>WD</td>\n",
       "    </tr>\n",
       "    <tr>\n",
       "      <th>2</th>\n",
       "      <td>2414</td>\n",
       "      <td>528218130</td>\n",
       "      <td>60</td>\n",
       "      <td>RL</td>\n",
       "      <td>58.0</td>\n",
       "      <td>17104</td>\n",
       "      <td>Pave</td>\n",
       "      <td>NaN</td>\n",
       "      <td>IR1</td>\n",
       "      <td>Lvl</td>\n",
       "      <td>...</td>\n",
       "      <td>0</td>\n",
       "      <td>0</td>\n",
       "      <td>0</td>\n",
       "      <td>NaN</td>\n",
       "      <td>NaN</td>\n",
       "      <td>NaN</td>\n",
       "      <td>0</td>\n",
       "      <td>9</td>\n",
       "      <td>2006</td>\n",
       "      <td>New</td>\n",
       "    </tr>\n",
       "    <tr>\n",
       "      <th>3</th>\n",
       "      <td>1989</td>\n",
       "      <td>902207150</td>\n",
       "      <td>30</td>\n",
       "      <td>RM</td>\n",
       "      <td>60.0</td>\n",
       "      <td>8520</td>\n",
       "      <td>Pave</td>\n",
       "      <td>NaN</td>\n",
       "      <td>Reg</td>\n",
       "      <td>Lvl</td>\n",
       "      <td>...</td>\n",
       "      <td>0</td>\n",
       "      <td>0</td>\n",
       "      <td>0</td>\n",
       "      <td>NaN</td>\n",
       "      <td>NaN</td>\n",
       "      <td>NaN</td>\n",
       "      <td>0</td>\n",
       "      <td>7</td>\n",
       "      <td>2007</td>\n",
       "      <td>WD</td>\n",
       "    </tr>\n",
       "    <tr>\n",
       "      <th>4</th>\n",
       "      <td>625</td>\n",
       "      <td>535105100</td>\n",
       "      <td>20</td>\n",
       "      <td>RL</td>\n",
       "      <td>NaN</td>\n",
       "      <td>9500</td>\n",
       "      <td>Pave</td>\n",
       "      <td>NaN</td>\n",
       "      <td>IR1</td>\n",
       "      <td>Lvl</td>\n",
       "      <td>...</td>\n",
       "      <td>0</td>\n",
       "      <td>185</td>\n",
       "      <td>0</td>\n",
       "      <td>NaN</td>\n",
       "      <td>NaN</td>\n",
       "      <td>NaN</td>\n",
       "      <td>0</td>\n",
       "      <td>7</td>\n",
       "      <td>2009</td>\n",
       "      <td>WD</td>\n",
       "    </tr>\n",
       "  </tbody>\n",
       "</table>\n",
       "<p>5 rows × 80 columns</p>\n",
       "</div>"
      ],
      "text/plain": [
       "     Id        PID  MS SubClass MS Zoning  Lot Frontage  Lot Area Street  \\\n",
       "0  2658  902301120          190        RM          69.0      9142   Pave   \n",
       "1  2718  905108090           90        RL           NaN      9662   Pave   \n",
       "2  2414  528218130           60        RL          58.0     17104   Pave   \n",
       "3  1989  902207150           30        RM          60.0      8520   Pave   \n",
       "4   625  535105100           20        RL           NaN      9500   Pave   \n",
       "\n",
       "  Alley Lot Shape Land Contour  ... 3Ssn Porch Screen Porch Pool Area Pool QC  \\\n",
       "0  Grvl       Reg          Lvl  ...          0            0         0     NaN   \n",
       "1   NaN       IR1          Lvl  ...          0            0         0     NaN   \n",
       "2   NaN       IR1          Lvl  ...          0            0         0     NaN   \n",
       "3   NaN       Reg          Lvl  ...          0            0         0     NaN   \n",
       "4   NaN       IR1          Lvl  ...          0          185         0     NaN   \n",
       "\n",
       "  Fence Misc Feature Misc Val Mo Sold  Yr Sold  Sale Type  \n",
       "0   NaN          NaN        0       4     2006        WD   \n",
       "1   NaN          NaN        0       8     2006        WD   \n",
       "2   NaN          NaN        0       9     2006        New  \n",
       "3   NaN          NaN        0       7     2007        WD   \n",
       "4   NaN          NaN        0       7     2009        WD   \n",
       "\n",
       "[5 rows x 80 columns]"
      ]
     },
     "execution_count": 3,
     "metadata": {},
     "output_type": "execute_result"
    }
   ],
   "source": [
    "df.head()"
   ]
  },
  {
   "cell_type": "code",
   "execution_count": 4,
   "id": "324bac9e",
   "metadata": {},
   "outputs": [
    {
     "data": {
      "text/plain": [
       "Index(['Id', 'PID', 'MS SubClass', 'MS Zoning', 'Lot Frontage', 'Lot Area',\n",
       "       'Street', 'Alley', 'Lot Shape', 'Land Contour', 'Utilities',\n",
       "       'Lot Config', 'Land Slope', 'Neighborhood', 'Condition 1',\n",
       "       'Condition 2', 'Bldg Type', 'House Style', 'Overall Qual',\n",
       "       'Overall Cond', 'Year Built', 'Year Remod/Add', 'Roof Style',\n",
       "       'Roof Matl', 'Exterior 1st', 'Exterior 2nd', 'Mas Vnr Type',\n",
       "       'Mas Vnr Area', 'Exter Qual', 'Exter Cond', 'Foundation', 'Bsmt Qual',\n",
       "       'Bsmt Cond', 'Bsmt Exposure', 'BsmtFin Type 1', 'BsmtFin SF 1',\n",
       "       'BsmtFin Type 2', 'BsmtFin SF 2', 'Bsmt Unf SF', 'Total Bsmt SF',\n",
       "       'Heating', 'Heating QC', 'Central Air', 'Electrical', '1st Flr SF',\n",
       "       '2nd Flr SF', 'Low Qual Fin SF', 'Gr Liv Area', 'Bsmt Full Bath',\n",
       "       'Bsmt Half Bath', 'Full Bath', 'Half Bath', 'Bedroom AbvGr',\n",
       "       'Kitchen AbvGr', 'Kitchen Qual', 'TotRms AbvGrd', 'Functional',\n",
       "       'Fireplaces', 'Fireplace Qu', 'Garage Type', 'Garage Yr Blt',\n",
       "       'Garage Finish', 'Garage Cars', 'Garage Area', 'Garage Qual',\n",
       "       'Garage Cond', 'Paved Drive', 'Wood Deck SF', 'Open Porch SF',\n",
       "       'Enclosed Porch', '3Ssn Porch', 'Screen Porch', 'Pool Area', 'Pool QC',\n",
       "       'Fence', 'Misc Feature', 'Misc Val', 'Mo Sold', 'Yr Sold', 'Sale Type'],\n",
       "      dtype='object')"
      ]
     },
     "execution_count": 4,
     "metadata": {},
     "output_type": "execute_result"
    }
   ],
   "source": [
    "df.columns"
   ]
  },
  {
   "cell_type": "code",
   "execution_count": 5,
   "id": "eaa15d4f",
   "metadata": {},
   "outputs": [],
   "source": [
    "df.columns = [col.lower().replace(' ','_') for col in df.columns]"
   ]
  },
  {
   "cell_type": "code",
   "execution_count": 6,
   "id": "b825b82d",
   "metadata": {},
   "outputs": [],
   "source": [
    "df.rename(columns={'3ssn_porch':'ssn3_porch', \n",
    "                   '2nd_flr_sf': 'flr2nd_sf'},inplace=True)"
   ]
  },
  {
   "cell_type": "code",
   "execution_count": 7,
   "id": "8acb9b7b",
   "metadata": {},
   "outputs": [
    {
     "data": {
      "text/plain": [
       "Index(['id', 'pid', 'ms_subclass', 'ms_zoning', 'lot_frontage', 'lot_area',\n",
       "       'street', 'alley', 'lot_shape', 'land_contour', 'utilities',\n",
       "       'lot_config', 'land_slope', 'neighborhood', 'condition_1',\n",
       "       'condition_2', 'bldg_type', 'house_style', 'overall_qual',\n",
       "       'overall_cond', 'year_built', 'year_remod/add', 'roof_style',\n",
       "       'roof_matl', 'exterior_1st', 'exterior_2nd', 'mas_vnr_type',\n",
       "       'mas_vnr_area', 'exter_qual', 'exter_cond', 'foundation', 'bsmt_qual',\n",
       "       'bsmt_cond', 'bsmt_exposure', 'bsmtfin_type_1', 'bsmtfin_sf_1',\n",
       "       'bsmtfin_type_2', 'bsmtfin_sf_2', 'bsmt_unf_sf', 'total_bsmt_sf',\n",
       "       'heating', 'heating_qc', 'central_air', 'electrical', '1st_flr_sf',\n",
       "       'flr2nd_sf', 'low_qual_fin_sf', 'gr_liv_area', 'bsmt_full_bath',\n",
       "       'bsmt_half_bath', 'full_bath', 'half_bath', 'bedroom_abvgr',\n",
       "       'kitchen_abvgr', 'kitchen_qual', 'totrms_abvgrd', 'functional',\n",
       "       'fireplaces', 'fireplace_qu', 'garage_type', 'garage_yr_blt',\n",
       "       'garage_finish', 'garage_cars', 'garage_area', 'garage_qual',\n",
       "       'garage_cond', 'paved_drive', 'wood_deck_sf', 'open_porch_sf',\n",
       "       'enclosed_porch', 'ssn3_porch', 'screen_porch', 'pool_area', 'pool_qc',\n",
       "       'fence', 'misc_feature', 'misc_val', 'mo_sold', 'yr_sold', 'sale_type'],\n",
       "      dtype='object')"
      ]
     },
     "execution_count": 7,
     "metadata": {},
     "output_type": "execute_result"
    }
   ],
   "source": [
    "df.columns"
   ]
  },
  {
   "cell_type": "code",
   "execution_count": 8,
   "id": "054b7470",
   "metadata": {},
   "outputs": [
    {
     "data": {
      "text/plain": [
       "4171"
      ]
     },
     "execution_count": 8,
     "metadata": {},
     "output_type": "execute_result"
    }
   ],
   "source": [
    "df.isnull().sum().sum() "
   ]
  },
  {
   "cell_type": "code",
   "execution_count": 9,
   "id": "eb5bc27c",
   "metadata": {},
   "outputs": [
    {
     "data": {
      "text/plain": [
       "(878, 80)"
      ]
     },
     "execution_count": 9,
     "metadata": {},
     "output_type": "execute_result"
    }
   ],
   "source": [
    "df.shape"
   ]
  },
  {
   "cell_type": "markdown",
   "id": "0e391ccf",
   "metadata": {},
   "source": [
    "#### ms_subclass"
   ]
  },
  {
   "cell_type": "code",
   "execution_count": 10,
   "id": "59ff7bf2",
   "metadata": {},
   "outputs": [],
   "source": [
    "#from data dictionary provided\n",
    "values_for_ms_subclass = ('020','030','040','045','045','050','060','070','075','080','085','090','120','150','160','180','190')"
   ]
  },
  {
   "cell_type": "code",
   "execution_count": 11,
   "id": "91bd74ee",
   "metadata": {},
   "outputs": [],
   "source": [
    "df.ms_subclass = [str(entry) for entry in df.ms_subclass]"
   ]
  },
  {
   "cell_type": "code",
   "execution_count": 12,
   "id": "c7492e77",
   "metadata": {},
   "outputs": [],
   "source": [
    "df.ms_subclass = ['0'+ entry if len(entry)==2 else entry for entry in df.ms_subclass]"
   ]
  },
  {
   "cell_type": "code",
   "execution_count": 13,
   "id": "3189d4c7",
   "metadata": {},
   "outputs": [
    {
     "data": {
      "text/plain": [
       "array(['190', '090', '060', '030', '020', '160', '120', '070', '080',\n",
       "       '050', '085', '045', '075', '180', '040'], dtype=object)"
      ]
     },
     "execution_count": 13,
     "metadata": {},
     "output_type": "execute_result"
    }
   ],
   "source": [
    "df.ms_subclass.unique()"
   ]
  },
  {
   "cell_type": "markdown",
   "id": "ebd3bb3e",
   "metadata": {},
   "source": [
    "#### mszoning"
   ]
  },
  {
   "cell_type": "code",
   "execution_count": 14,
   "id": "fa545d6f",
   "metadata": {},
   "outputs": [],
   "source": [
    "dict_ms_zoning = {'C (all)':'C', \n",
    "                 'A (agr)':'A',\n",
    "                 'I (all)':'I',\n",
    "                 'RL':'RL',\n",
    "                 'RM':'RM',\n",
    "                 'FV':'FV',\n",
    "                 'RH':'RH'}"
   ]
  },
  {
   "cell_type": "code",
   "execution_count": 15,
   "id": "2f1525d6",
   "metadata": {},
   "outputs": [],
   "source": [
    "df.ms_zoning = [dict_ms_zoning[entry] for entry in df.ms_zoning]#cleaned entries "
   ]
  },
  {
   "cell_type": "code",
   "execution_count": 16,
   "id": "9d2ef4b9",
   "metadata": {},
   "outputs": [
    {
     "data": {
      "text/plain": [
       "RL    674\n",
       "RM    146\n",
       "FV     38\n",
       "RH     13\n",
       "C       6\n",
       "I       1\n",
       "Name: ms_zoning, dtype: int64"
      ]
     },
     "execution_count": 16,
     "metadata": {},
     "output_type": "execute_result"
    }
   ],
   "source": [
    "df.ms_zoning.value_counts(dropna=False)"
   ]
  },
  {
   "cell_type": "markdown",
   "id": "51d7232c",
   "metadata": {},
   "source": [
    "#### lot frontage"
   ]
  },
  {
   "cell_type": "code",
   "execution_count": 17,
   "id": "005e0b2b",
   "metadata": {},
   "outputs": [],
   "source": [
    "df.lot_frontage.interpolate(method='nearest',inplace=True)"
   ]
  },
  {
   "cell_type": "code",
   "execution_count": 18,
   "id": "a7260143",
   "metadata": {},
   "outputs": [
    {
     "data": {
      "text/plain": [
       "60.0     120\n",
       "80.0      50\n",
       "70.0      47\n",
       "75.0      45\n",
       "85.0      32\n",
       "        ... \n",
       "101.0      1\n",
       "113.0      1\n",
       "152.0      1\n",
       "30.0       1\n",
       "182.0      1\n",
       "Name: lot_frontage, Length: 104, dtype: int64"
      ]
     },
     "execution_count": 18,
     "metadata": {},
     "output_type": "execute_result"
    }
   ],
   "source": [
    "df.lot_frontage.value_counts(dropna=False)"
   ]
  },
  {
   "cell_type": "code",
   "execution_count": 19,
   "id": "cfc7df77",
   "metadata": {},
   "outputs": [
    {
     "data": {
      "text/plain": [
       "0"
      ]
     },
     "execution_count": 19,
     "metadata": {},
     "output_type": "execute_result"
    }
   ],
   "source": [
    "df.lot_area.isnull().sum()"
   ]
  },
  {
   "cell_type": "code",
   "execution_count": 20,
   "id": "56901ded",
   "metadata": {},
   "outputs": [
    {
     "data": {
      "text/html": [
       "<div>\n",
       "<style scoped>\n",
       "    .dataframe tbody tr th:only-of-type {\n",
       "        vertical-align: middle;\n",
       "    }\n",
       "\n",
       "    .dataframe tbody tr th {\n",
       "        vertical-align: top;\n",
       "    }\n",
       "\n",
       "    .dataframe thead th {\n",
       "        text-align: right;\n",
       "    }\n",
       "</style>\n",
       "<table border=\"1\" class=\"dataframe\">\n",
       "  <thead>\n",
       "    <tr style=\"text-align: right;\">\n",
       "      <th></th>\n",
       "      <th>id</th>\n",
       "      <th>pid</th>\n",
       "      <th>ms_subclass</th>\n",
       "      <th>ms_zoning</th>\n",
       "      <th>lot_frontage</th>\n",
       "      <th>lot_area</th>\n",
       "      <th>street</th>\n",
       "      <th>alley</th>\n",
       "      <th>lot_shape</th>\n",
       "      <th>land_contour</th>\n",
       "      <th>...</th>\n",
       "      <th>ssn3_porch</th>\n",
       "      <th>screen_porch</th>\n",
       "      <th>pool_area</th>\n",
       "      <th>pool_qc</th>\n",
       "      <th>fence</th>\n",
       "      <th>misc_feature</th>\n",
       "      <th>misc_val</th>\n",
       "      <th>mo_sold</th>\n",
       "      <th>yr_sold</th>\n",
       "      <th>sale_type</th>\n",
       "    </tr>\n",
       "  </thead>\n",
       "  <tbody>\n",
       "  </tbody>\n",
       "</table>\n",
       "<p>0 rows × 80 columns</p>\n",
       "</div>"
      ],
      "text/plain": [
       "Empty DataFrame\n",
       "Columns: [id, pid, ms_subclass, ms_zoning, lot_frontage, lot_area, street, alley, lot_shape, land_contour, utilities, lot_config, land_slope, neighborhood, condition_1, condition_2, bldg_type, house_style, overall_qual, overall_cond, year_built, year_remod/add, roof_style, roof_matl, exterior_1st, exterior_2nd, mas_vnr_type, mas_vnr_area, exter_qual, exter_cond, foundation, bsmt_qual, bsmt_cond, bsmt_exposure, bsmtfin_type_1, bsmtfin_sf_1, bsmtfin_type_2, bsmtfin_sf_2, bsmt_unf_sf, total_bsmt_sf, heating, heating_qc, central_air, electrical, 1st_flr_sf, flr2nd_sf, low_qual_fin_sf, gr_liv_area, bsmt_full_bath, bsmt_half_bath, full_bath, half_bath, bedroom_abvgr, kitchen_abvgr, kitchen_qual, totrms_abvgrd, functional, fireplaces, fireplace_qu, garage_type, garage_yr_blt, garage_finish, garage_cars, garage_area, garage_qual, garage_cond, paved_drive, wood_deck_sf, open_porch_sf, enclosed_porch, ssn3_porch, screen_porch, pool_area, pool_qc, fence, misc_feature, misc_val, mo_sold, yr_sold, sale_type]\n",
       "Index: []\n",
       "\n",
       "[0 rows x 80 columns]"
      ]
     },
     "execution_count": 20,
     "metadata": {},
     "output_type": "execute_result"
    }
   ],
   "source": [
    "df[df.lot_area<0]"
   ]
  },
  {
   "cell_type": "markdown",
   "id": "a2afde2e",
   "metadata": {},
   "source": [
    "#### street"
   ]
  },
  {
   "cell_type": "code",
   "execution_count": 21,
   "id": "ffbaa222",
   "metadata": {},
   "outputs": [
    {
     "data": {
      "text/plain": [
       "0"
      ]
     },
     "execution_count": 21,
     "metadata": {},
     "output_type": "execute_result"
    }
   ],
   "source": [
    "df.street.isnull().sum()"
   ]
  },
  {
   "cell_type": "markdown",
   "id": "450d8f85",
   "metadata": {},
   "source": [
    "#### alley"
   ]
  },
  {
   "cell_type": "code",
   "execution_count": 22,
   "id": "1234bbf6",
   "metadata": {},
   "outputs": [
    {
     "data": {
      "text/plain": [
       "NaN     820\n",
       "Grvl     35\n",
       "Pave     23\n",
       "Name: alley, dtype: int64"
      ]
     },
     "execution_count": 22,
     "metadata": {},
     "output_type": "execute_result"
    }
   ],
   "source": [
    "df.alley.value_counts(dropna=False)"
   ]
  },
  {
   "cell_type": "markdown",
   "id": "f4802830",
   "metadata": {},
   "source": [
    "#### Lot Shape (Ordinal): General shape of property"
   ]
  },
  {
   "cell_type": "code",
   "execution_count": 23,
   "id": "1a3b840b",
   "metadata": {},
   "outputs": [
    {
     "data": {
      "text/plain": [
       "0"
      ]
     },
     "execution_count": 23,
     "metadata": {},
     "output_type": "execute_result"
    }
   ],
   "source": [
    "df.lot_shape.isnull().sum()"
   ]
  },
  {
   "cell_type": "markdown",
   "id": "af3e893a",
   "metadata": {},
   "source": [
    "#### Land Contour"
   ]
  },
  {
   "cell_type": "code",
   "execution_count": 24,
   "id": "dce3dc29",
   "metadata": {},
   "outputs": [
    {
     "data": {
      "text/plain": [
       "0"
      ]
     },
     "execution_count": 24,
     "metadata": {},
     "output_type": "execute_result"
    }
   ],
   "source": [
    "df.land_contour.isna().sum()"
   ]
  },
  {
   "cell_type": "markdown",
   "id": "282f36e2",
   "metadata": {},
   "source": [
    "#### Utilities"
   ]
  },
  {
   "cell_type": "code",
   "execution_count": 25,
   "id": "735047ac",
   "metadata": {},
   "outputs": [
    {
     "data": {
      "text/plain": [
       "AllPub    877\n",
       "NoSewr      1\n",
       "Name: utilities, dtype: int64"
      ]
     },
     "execution_count": 25,
     "metadata": {},
     "output_type": "execute_result"
    }
   ],
   "source": [
    "df.utilities.value_counts(dropna=False)"
   ]
  },
  {
   "cell_type": "markdown",
   "id": "54733a7c",
   "metadata": {},
   "source": [
    "#### Lot config"
   ]
  },
  {
   "cell_type": "code",
   "execution_count": 26,
   "id": "54b64d4e",
   "metadata": {},
   "outputs": [
    {
     "data": {
      "text/plain": [
       "Inside     636\n",
       "Corner     163\n",
       "CulDSac     49\n",
       "FR2         25\n",
       "FR3          5\n",
       "Name: lot_config, dtype: int64"
      ]
     },
     "execution_count": 26,
     "metadata": {},
     "output_type": "execute_result"
    }
   ],
   "source": [
    "df.lot_config.value_counts(dropna=False)"
   ]
  },
  {
   "cell_type": "code",
   "execution_count": 27,
   "id": "e9b4bc17",
   "metadata": {},
   "outputs": [],
   "source": [
    "nominal=['pid','ms_subclass','ms_zoning','street','alley','land_contour','lot_config',\n",
    "         'neighborhood','condition_1','condition_2', 'bldg_type',\n",
    "       'house_style','roof_style', 'roof_matl', 'exterior_1st',\n",
    "       'exterior_2nd', 'mas_vnr_type','foundation','heating','central_air',\n",
    "        'garage_type','misc_feature']\n",
    "\n",
    "ordinal=['lot_shape','utilities','land_slope','overall_qual','overall_cond','exter_qual','exter_cond',\n",
    "        'bsmt_qual','bsmt_cond','bsmt_exposure','bsmtfin_type_1','bsmtfin_type_2',\n",
    "         'heating_qc','electrical','kitchen_qual','functional','fireplace_qu',\n",
    "         'garage_finish','garage_qual','garage_cond','paved_drive','pool_qc',\n",
    "         'fence']\n",
    "discrete =['year_built','year_remod/add','bsmt_full_bath', 'bsmt_half_bath', 'full_bath',\n",
    "       'half_bath', 'bedroom_abvgr', 'kitchen_abvgr','totrms_abvgrd',\n",
    "          'fireplaces','garage_yr_blt','garage_cars','mo_sold', 'yr_sold']\n",
    "continuous= ['lot_frontage','lot_area','mas_vnr_area','bsmtfin_sf_1',\n",
    "    'bsmtfin_sf_2','bsmt_unf_sf', 'total_bsmt_sf','1st_flr_sf', 'flr2nd_sf', 'low_qual_fin_sf',\n",
    "    'gr_liv_area','garage_area','wood_deck_sf', 'open_porch_sf', 'enclosed_porch', 'ssn3_porch',\n",
    "       'screen_porch', 'pool_area','misc_val']"
   ]
  },
  {
   "cell_type": "code",
   "execution_count": 28,
   "id": "30ab5968",
   "metadata": {},
   "outputs": [
    {
     "data": {
      "text/html": [
       "<div>\n",
       "<style scoped>\n",
       "    .dataframe tbody tr th:only-of-type {\n",
       "        vertical-align: middle;\n",
       "    }\n",
       "\n",
       "    .dataframe tbody tr th {\n",
       "        vertical-align: top;\n",
       "    }\n",
       "\n",
       "    .dataframe thead th {\n",
       "        text-align: right;\n",
       "    }\n",
       "</style>\n",
       "<table border=\"1\" class=\"dataframe\">\n",
       "  <thead>\n",
       "    <tr style=\"text-align: right;\">\n",
       "      <th></th>\n",
       "      <th>column</th>\n",
       "      <th>unique_values</th>\n",
       "      <th>#unique_values</th>\n",
       "      <th>#missing_values</th>\n",
       "      <th>type</th>\n",
       "    </tr>\n",
       "  </thead>\n",
       "  <tbody>\n",
       "    <tr>\n",
       "      <th>0</th>\n",
       "      <td>pid</td>\n",
       "      <td>[902301120, 905108090, 528218130, 902207150, 5...</td>\n",
       "      <td>878</td>\n",
       "      <td>0</td>\n",
       "      <td>&lt;class 'str'&gt;</td>\n",
       "    </tr>\n",
       "    <tr>\n",
       "      <th>1</th>\n",
       "      <td>ms_subclass</td>\n",
       "      <td>[190, 090, 060, 030, 020, 160, 120, 070, 080, ...</td>\n",
       "      <td>15</td>\n",
       "      <td>0</td>\n",
       "      <td>&lt;class 'str'&gt;</td>\n",
       "    </tr>\n",
       "    <tr>\n",
       "      <th>2</th>\n",
       "      <td>ms_zoning</td>\n",
       "      <td>[RM, RL, FV, RH, C, I]</td>\n",
       "      <td>6</td>\n",
       "      <td>0</td>\n",
       "      <td>&lt;class 'str'&gt;</td>\n",
       "    </tr>\n",
       "    <tr>\n",
       "      <th>3</th>\n",
       "      <td>street</td>\n",
       "      <td>[Pave, Grvl]</td>\n",
       "      <td>2</td>\n",
       "      <td>0</td>\n",
       "      <td>&lt;class 'str'&gt;</td>\n",
       "    </tr>\n",
       "    <tr>\n",
       "      <th>4</th>\n",
       "      <td>alley</td>\n",
       "      <td>[Grvl, nan, Pave]</td>\n",
       "      <td>3</td>\n",
       "      <td>820</td>\n",
       "      <td>&lt;class 'str'&gt;</td>\n",
       "    </tr>\n",
       "    <tr>\n",
       "      <th>5</th>\n",
       "      <td>land_contour</td>\n",
       "      <td>[Lvl, Bnk, Low, HLS]</td>\n",
       "      <td>4</td>\n",
       "      <td>0</td>\n",
       "      <td>&lt;class 'str'&gt;</td>\n",
       "    </tr>\n",
       "    <tr>\n",
       "      <th>6</th>\n",
       "      <td>lot_config</td>\n",
       "      <td>[Inside, CulDSac, Corner, FR2, FR3]</td>\n",
       "      <td>5</td>\n",
       "      <td>0</td>\n",
       "      <td>&lt;class 'str'&gt;</td>\n",
       "    </tr>\n",
       "    <tr>\n",
       "      <th>7</th>\n",
       "      <td>neighborhood</td>\n",
       "      <td>[OldTown, Sawyer, Gilbert, NAmes, MeadowV, Col...</td>\n",
       "      <td>26</td>\n",
       "      <td>0</td>\n",
       "      <td>&lt;class 'str'&gt;</td>\n",
       "    </tr>\n",
       "    <tr>\n",
       "      <th>8</th>\n",
       "      <td>condition_1</td>\n",
       "      <td>[Norm, Feedr, Artery, PosA, RRAn, RRNn, RRAe, ...</td>\n",
       "      <td>9</td>\n",
       "      <td>0</td>\n",
       "      <td>&lt;class 'str'&gt;</td>\n",
       "    </tr>\n",
       "    <tr>\n",
       "      <th>9</th>\n",
       "      <td>condition_2</td>\n",
       "      <td>[Norm, Feedr, PosA]</td>\n",
       "      <td>3</td>\n",
       "      <td>0</td>\n",
       "      <td>&lt;class 'str'&gt;</td>\n",
       "    </tr>\n",
       "    <tr>\n",
       "      <th>10</th>\n",
       "      <td>bldg_type</td>\n",
       "      <td>[2fmCon, Duplex, 1Fam, TwnhsE, Twnhs]</td>\n",
       "      <td>5</td>\n",
       "      <td>0</td>\n",
       "      <td>&lt;class 'str'&gt;</td>\n",
       "    </tr>\n",
       "    <tr>\n",
       "      <th>11</th>\n",
       "      <td>house_style</td>\n",
       "      <td>[2Story, 1Story, 1.5Fin, SLvl, SFoyer, 2.5Fin,...</td>\n",
       "      <td>8</td>\n",
       "      <td>0</td>\n",
       "      <td>&lt;class 'str'&gt;</td>\n",
       "    </tr>\n",
       "    <tr>\n",
       "      <th>12</th>\n",
       "      <td>roof_style</td>\n",
       "      <td>[Gable, Hip, Gambrel, Flat, Mansard, Shed]</td>\n",
       "      <td>6</td>\n",
       "      <td>0</td>\n",
       "      <td>&lt;class 'str'&gt;</td>\n",
       "    </tr>\n",
       "    <tr>\n",
       "      <th>13</th>\n",
       "      <td>roof_matl</td>\n",
       "      <td>[CompShg, Metal, WdShake, Tar&amp;Grv, WdShngl, Roll]</td>\n",
       "      <td>6</td>\n",
       "      <td>0</td>\n",
       "      <td>&lt;class 'str'&gt;</td>\n",
       "    </tr>\n",
       "    <tr>\n",
       "      <th>14</th>\n",
       "      <td>exterior_1st</td>\n",
       "      <td>[AsbShng, Plywood, VinylSd, Wd Sdng, CemntBd, ...</td>\n",
       "      <td>13</td>\n",
       "      <td>0</td>\n",
       "      <td>&lt;class 'str'&gt;</td>\n",
       "    </tr>\n",
       "    <tr>\n",
       "      <th>15</th>\n",
       "      <td>exterior_2nd</td>\n",
       "      <td>[AsbShng, Plywood, VinylSd, Wd Sdng, CmentBd, ...</td>\n",
       "      <td>16</td>\n",
       "      <td>0</td>\n",
       "      <td>&lt;class 'str'&gt;</td>\n",
       "    </tr>\n",
       "    <tr>\n",
       "      <th>16</th>\n",
       "      <td>mas_vnr_type</td>\n",
       "      <td>[None, BrkFace, Stone, BrkCmn, CBlock, nan]</td>\n",
       "      <td>6</td>\n",
       "      <td>1</td>\n",
       "      <td>&lt;class 'str'&gt;</td>\n",
       "    </tr>\n",
       "    <tr>\n",
       "      <th>17</th>\n",
       "      <td>foundation</td>\n",
       "      <td>[Stone, CBlock, PConc, BrkTil, Slab, Wood]</td>\n",
       "      <td>6</td>\n",
       "      <td>0</td>\n",
       "      <td>&lt;class 'str'&gt;</td>\n",
       "    </tr>\n",
       "    <tr>\n",
       "      <th>18</th>\n",
       "      <td>heating</td>\n",
       "      <td>[GasA, GasW, Grav, Floor]</td>\n",
       "      <td>4</td>\n",
       "      <td>0</td>\n",
       "      <td>&lt;class 'str'&gt;</td>\n",
       "    </tr>\n",
       "    <tr>\n",
       "      <th>19</th>\n",
       "      <td>central_air</td>\n",
       "      <td>[N, Y]</td>\n",
       "      <td>2</td>\n",
       "      <td>0</td>\n",
       "      <td>&lt;class 'str'&gt;</td>\n",
       "    </tr>\n",
       "    <tr>\n",
       "      <th>20</th>\n",
       "      <td>garage_type</td>\n",
       "      <td>[Detchd, Attchd, BuiltIn, nan, 2Types, CarPort...</td>\n",
       "      <td>7</td>\n",
       "      <td>44</td>\n",
       "      <td>&lt;class 'str'&gt;</td>\n",
       "    </tr>\n",
       "    <tr>\n",
       "      <th>21</th>\n",
       "      <td>misc_feature</td>\n",
       "      <td>[nan, Shed, Othr, Gar2]</td>\n",
       "      <td>4</td>\n",
       "      <td>837</td>\n",
       "      <td>&lt;class 'str'&gt;</td>\n",
       "    </tr>\n",
       "  </tbody>\n",
       "</table>\n",
       "</div>"
      ],
      "text/plain": [
       "          column                                      unique_values  \\\n",
       "0            pid  [902301120, 905108090, 528218130, 902207150, 5...   \n",
       "1    ms_subclass  [190, 090, 060, 030, 020, 160, 120, 070, 080, ...   \n",
       "2      ms_zoning                             [RM, RL, FV, RH, C, I]   \n",
       "3         street                                       [Pave, Grvl]   \n",
       "4          alley                                  [Grvl, nan, Pave]   \n",
       "5   land_contour                               [Lvl, Bnk, Low, HLS]   \n",
       "6     lot_config                [Inside, CulDSac, Corner, FR2, FR3]   \n",
       "7   neighborhood  [OldTown, Sawyer, Gilbert, NAmes, MeadowV, Col...   \n",
       "8    condition_1  [Norm, Feedr, Artery, PosA, RRAn, RRNn, RRAe, ...   \n",
       "9    condition_2                                [Norm, Feedr, PosA]   \n",
       "10     bldg_type              [2fmCon, Duplex, 1Fam, TwnhsE, Twnhs]   \n",
       "11   house_style  [2Story, 1Story, 1.5Fin, SLvl, SFoyer, 2.5Fin,...   \n",
       "12    roof_style         [Gable, Hip, Gambrel, Flat, Mansard, Shed]   \n",
       "13     roof_matl  [CompShg, Metal, WdShake, Tar&Grv, WdShngl, Roll]   \n",
       "14  exterior_1st  [AsbShng, Plywood, VinylSd, Wd Sdng, CemntBd, ...   \n",
       "15  exterior_2nd  [AsbShng, Plywood, VinylSd, Wd Sdng, CmentBd, ...   \n",
       "16  mas_vnr_type        [None, BrkFace, Stone, BrkCmn, CBlock, nan]   \n",
       "17    foundation         [Stone, CBlock, PConc, BrkTil, Slab, Wood]   \n",
       "18       heating                          [GasA, GasW, Grav, Floor]   \n",
       "19   central_air                                             [N, Y]   \n",
       "20   garage_type  [Detchd, Attchd, BuiltIn, nan, 2Types, CarPort...   \n",
       "21  misc_feature                            [nan, Shed, Othr, Gar2]   \n",
       "\n",
       "    #unique_values  #missing_values           type  \n",
       "0              878                0  <class 'str'>  \n",
       "1               15                0  <class 'str'>  \n",
       "2                6                0  <class 'str'>  \n",
       "3                2                0  <class 'str'>  \n",
       "4                3              820  <class 'str'>  \n",
       "5                4                0  <class 'str'>  \n",
       "6                5                0  <class 'str'>  \n",
       "7               26                0  <class 'str'>  \n",
       "8                9                0  <class 'str'>  \n",
       "9                3                0  <class 'str'>  \n",
       "10               5                0  <class 'str'>  \n",
       "11               8                0  <class 'str'>  \n",
       "12               6                0  <class 'str'>  \n",
       "13               6                0  <class 'str'>  \n",
       "14              13                0  <class 'str'>  \n",
       "15              16                0  <class 'str'>  \n",
       "16               6                1  <class 'str'>  \n",
       "17               6                0  <class 'str'>  \n",
       "18               4                0  <class 'str'>  \n",
       "19               2                0  <class 'str'>  \n",
       "20               7               44  <class 'str'>  \n",
       "21               4              837  <class 'str'>  "
      ]
     },
     "execution_count": 28,
     "metadata": {},
     "output_type": "execute_result"
    }
   ],
   "source": [
    "result = pd.DataFrame([[col, df[col].unique(),len(df[col].unique()), df[col].isnull().sum(), type(col)] for col in nominal], columns=['column','unique_values','#unique_values','#missing_values','type'])\n",
    "result"
   ]
  },
  {
   "cell_type": "code",
   "execution_count": 29,
   "id": "d0414046",
   "metadata": {},
   "outputs": [],
   "source": [
    "df.drop(columns=['alley','misc_feature'], inplace=True)"
   ]
  },
  {
   "cell_type": "code",
   "execution_count": 34,
   "id": "620fa90b",
   "metadata": {},
   "outputs": [],
   "source": [
    "#Neighbourhood-Nominal\n",
    "string = \"\"\"    Blmngtn\tBloomington Heights\n",
    "       Blueste\tBluestem\n",
    "       BrDale\tBriardale\n",
    "       BrkSide\tBrookside\n",
    "       ClearCr\tClear Creek\n",
    "       CollgCr\tCollege Creek\n",
    "       Crawfor\tCrawford\n",
    "       Edwards\tEdwards\n",
    "       Gilbert\tGilbert\n",
    "       Greens\tGreens\n",
    "       GrnHill\tGreen Hills\n",
    "       IDOTRR\tIowa DOT and Rail Road\n",
    "       Landmrk\tLandmark\n",
    "       MeadowV\tMeadow Village\n",
    "       Mitchel\tMitchell\n",
    "       Names\tNorth Ames\n",
    "       NoRidge\tNorthridge\n",
    "       NPkVill\tNorthpark Villa\n",
    "       NridgHt\tNorthridge Heights\n",
    "       NWAmes\tNorthwest Ames\n",
    "       OldTown\tOld Town\n",
    "       SWISU\tSouth & West of Iowa State University\n",
    "       Sawyer\tSawyer\n",
    "       SawyerW\tSawyer West\n",
    "       Somerst\tSomerset\n",
    "       StoneBr\tStone Brook\n",
    "       Timber\tTimberland\n",
    "       Veenker\tVeenker\"\"\"\n",
    "\n",
    "dict_neighborhood = {s.strip().split('\\t')[0]:s.strip().split('\\t')[1] for s in string.split(\"\\n\")}\n",
    "\n"
   ]
  },
  {
   "cell_type": "code",
   "execution_count": null,
   "id": "d4e29197",
   "metadata": {},
   "outputs": [],
   "source": [
    "#Lot Config (Nominal): Lot configuration\n",
    "string=\"\"\"Inside\tInside lot\n",
    "       Corner\tCorner lot\n",
    "       CulDSac\tCul-de-sac\n",
    "       FR2\tFrontage on 2 sides of property\n",
    "       FR3\tFrontage on 3 sides of property\"\"\"   \n",
    "dict_lot_config = {s.strip().split('\\t')[0]:s.strip().split('\\t')[1] for s in string.split(\"\\n\")}\n"
   ]
  },
  {
   "cell_type": "code",
   "execution_count": null,
   "id": "94ab72c9",
   "metadata": {},
   "outputs": [],
   "source": [
    "#Condition 1 (Nominal): Proximity to various conditions\n",
    "\n",
    "string=\"\"\"Artery\tAdjacent to arterial street\n",
    "       Feedr\tAdjacent to feeder street\t\n",
    "       Norm\tNormal\t\n",
    "       RRNn\tWithin 200' of North-South Railroad\n",
    "       RRAn\tAdjacent to North-South Railroad\n",
    "       PosN\tNear positive off-site feature--park, greenbelt, etc.\n",
    "       PosA\tAdjacent to postive off-site feature\n",
    "       RRNe\tWithin 200' of East-West Railroad\n",
    "       RRAe\tAdjacent to East-West Railroad\"\"\"\n",
    "dict_condition_1 = {s.strip().split('\\t')[0]:s.strip().split('\\t')[1] for s in string.split(\"\\n\")}\n"
   ]
  },
  {
   "cell_type": "code",
   "execution_count": 35,
   "id": "12be4a01",
   "metadata": {},
   "outputs": [],
   "source": [
    "#Condition 2 (Nominal): Proximity to various conditions (if more than one is present)\n",
    "\n",
    "string=\"\"\"Artery\tAdjacent to arterial street\n",
    "       Feedr\tAdjacent to feeder street\t\n",
    "       Norm\tNormal\t\n",
    "       RRNn\tWithin 200' of North-South Railroad\n",
    "       RRAn\tAdjacent to North-South Railroad\n",
    "       PosN\tNear positive off-site feature--park, greenbelt, etc.\n",
    "       PosA\tAdjacent to postive off-site feature\n",
    "       RRNe\tWithin 200' of East-West Railroad\n",
    "       RRAe\tAdjacent to East-West Railroad\"\"\" \n",
    "dict_condition_2 = {s.strip().split('\\t')[0]:s.strip().split('\\t')[1] for s in string.split(\"\\n\")}\n",
    "# dict_condition2"
   ]
  },
  {
   "cell_type": "code",
   "execution_count": 36,
   "id": "f47bcc8d",
   "metadata": {},
   "outputs": [],
   "source": [
    "#Land Slope (Ordinal): Slope of property\n",
    "\t\t\n",
    "string=\"\"\"Gtl\tGentle slope\n",
    "       Mod\tModerate Slope\t\n",
    "       Sev\tSevere Slope\"\"\"\n",
    "\t\n",
    "dict_land_slope = {s.strip().split('\\t')[0]:s.strip().split('\\t')[1] for s in string.split(\"\\n\")}"
   ]
  },
  {
   "cell_type": "code",
   "execution_count": 37,
   "id": "c678fc3d",
   "metadata": {},
   "outputs": [],
   "source": [
    "#Bldg Type (Nominal): Type of dwelling\n",
    "\t\t\n",
    "string=\"\"\"1Fam\tSingle-family Detached\t\n",
    "       2FmCon\tTwo-family Conversion; originally built as one-family dwelling\n",
    "       Duplx\tDuplex\n",
    "       TwnhsE\tTownhouse End Unit\n",
    "       TwnhsI\tTownhouse Inside Unit\"\"\"\n",
    "\t\n",
    "dict_bldg_type = {s.strip().split('\\t')[0]:s.strip().split('\\t')[1] for s in string.split(\"\\n\")}\n"
   ]
  },
  {
   "cell_type": "code",
   "execution_count": 38,
   "id": "95c01468",
   "metadata": {},
   "outputs": [],
   "source": [
    "#House Style (Nominal): Style of dwelling\n",
    "\t\n",
    "string=\"\"\"1Story\tOne story\n",
    "       1.5Fin\tOne and one-half story: 2nd level finished\n",
    "       1.5Unf\tOne and one-half story: 2nd level unfinished\n",
    "       2Story\tTwo story\n",
    "       2.5Fin\tTwo and one-half story: 2nd level finished\n",
    "       2.5Unf\tTwo and one-half story: 2nd level unfinished\n",
    "       SFoyer\tSplit Foyer\n",
    "       SLvl\tSplit Level\"\"\"\n",
    "dict_house_style = {s.strip().split('\\t')[0]:s.strip().split('\\t')[1] for s in string.split(\"\\n\")}\n",
    "# dict_house_style"
   ]
  },
  {
   "cell_type": "code",
   "execution_count": 39,
   "id": "3be05bc8",
   "metadata": {},
   "outputs": [],
   "source": [
    "#Overall Qual (Ordinal): Rates the overall material and finish of the house\n",
    "string=\"\"\"10\tVery Excellent\n",
    "       9\tExcellent\n",
    "       8\tVery Good\n",
    "       7\tGood\n",
    "       6\tAbove Average\n",
    "       5\tAverage\n",
    "       4\tBelow Average\n",
    "       3\tFair\n",
    "       2\tPoor\n",
    "       1\tVery Poor\"\"\"\n",
    "# [s.strip().split('\\t') for s in string.split('\\n')]\n",
    "dict_overall_qual = {s.strip().split('\\t')[0]:s.strip().split('\\t')[1] for s in string.split(\"\\n\")}\n",
    "# dict_overall_qual"
   ]
  },
  {
   "cell_type": "code",
   "execution_count": 40,
   "id": "22a4a3e4",
   "metadata": {},
   "outputs": [],
   "source": [
    "#Overall Cond (Ordinal): Rates the overall condition of the house\n",
    "\n",
    "string=\"\"\"10\tVery Excellent\n",
    "       9\tExcellent\n",
    "       8\tVery Good\n",
    "       7\tGood\n",
    "       6\tAbove Average\t\n",
    "       5\tAverage\n",
    "       4\tBelow Average\t\n",
    "       3\tFair\n",
    "       2\tPoor\n",
    "       1\tVery Poor\"\"\"\n",
    "dict_overall_cond = {s.strip().split('\\t')[0]:s.strip().split('\\t')[1] for s in string.split(\"\\n\")}\n",
    "# dict_overall_cond"
   ]
  },
  {
   "cell_type": "code",
   "execution_count": 41,
   "id": "430d6036",
   "metadata": {},
   "outputs": [],
   "source": [
    "#Roof Style (Nominal): Type of roof\n",
    "\n",
    "string=\"\"\"Flat\tFlat\n",
    "       Gable\tGable\n",
    "       Gambrel\tGabrel (Barn)\n",
    "       Hip\tHip\n",
    "       Mansard\tMansard\n",
    "       Shed\tShed\"\"\"\n",
    "dict_roof_style = {s.strip().split('\\t')[0]:s.strip().split('\\t')[1] for s in string.split(\"\\n\")}\n",
    "# dict_roof_style"
   ]
  },
  {
   "cell_type": "code",
   "execution_count": 42,
   "id": "4b6450bd",
   "metadata": {},
   "outputs": [],
   "source": [
    "#Roof Matl (Nominal): Roof material\n",
    "\n",
    "string=\"\"\"ClyTile\tClay or Tile\n",
    "       CompShg\tStandard (Composite) Shingle\n",
    "       Membran\tMembrane\n",
    "       Metal\tMetal\n",
    "       Roll\tRoll\n",
    "       Tar&Grv\tGravel & Tar\n",
    "       WdShake\tWood Shakes\n",
    "       WdShngl\tWood Shingles\"\"\"\n",
    "dict_roof_mat1 = {s.strip().split('\\t')[0]:s.strip().split('\\t')[1] for s in string.split(\"\\n\")}\n",
    "# dict_roof_mat1"
   ]
  },
  {
   "cell_type": "code",
   "execution_count": 43,
   "id": "a59bb42b",
   "metadata": {},
   "outputs": [],
   "source": [
    "#Exterior 1 (Nominal): Exterior covering on house\n",
    "\n",
    "string=\"\"\"AsbShng\tAsbestos Shingles\n",
    "       AsphShn\tAsphalt Shingles\n",
    "       BrkComm\tBrick Common\n",
    "       BrkFace\tBrick Face\n",
    "       CBlock\tCinder Block\n",
    "       CemntBd\tCement Board\n",
    "       HdBoard\tHard Board\n",
    "       ImStucc\tImitation Stucco\n",
    "       MetalSd\tMetal Siding\n",
    "       Other\tOther\n",
    "       Plywood\tPlywood\n",
    "       PreCast\tPreCast\t\n",
    "       Stone\tStone\n",
    "       Stucco\tStucco\n",
    "       VinylSd\tVinyl Siding\n",
    "       Wd Sdng\tWood Siding\n",
    "       WdShing\tWood Shingles\"\"\"\n",
    "dict_exterior_1 = {s.strip().split('\\t')[0]:s.strip().split('\\t')[1] for s in string.split(\"\\n\")}\n",
    "# dict_exterior_1"
   ]
  },
  {
   "cell_type": "code",
   "execution_count": 44,
   "id": "60b0e71d",
   "metadata": {},
   "outputs": [],
   "source": [
    "#Exterior 2 (Nominal): Exterior covering on house (if more than one material)\n",
    "\n",
    "string=\"\"\"AsbShng\tAsbestos Shingles\n",
    "       AsphShn\tAsphalt Shingles\n",
    "       BrkComm\tBrick Common\n",
    "       BrkFace\tBrick Face\n",
    "       CBlock\tCinder Block\n",
    "       CemntBd\tCement Board\n",
    "       HdBoard\tHard Board\n",
    "       ImStucc\tImitation Stucco\n",
    "       MetalSd\tMetal Siding\n",
    "       Other\tOther\n",
    "       Plywood\tPlywood\n",
    "       PreCast\tPreCast\n",
    "       Stone\tStone\n",
    "       Stucco\tStucco\n",
    "       VinylSd\tVinyl Siding\n",
    "       Wd Sdng\tWood Siding\n",
    "       WdShing\tWood Shingles\"\"\"\n",
    "dict_exterior_2 = {s.strip().split('\\t')[0]:s.strip().split('\\t')[1] for s in string.split(\"\\n\")}\n",
    "# dict_exterior_2"
   ]
  },
  {
   "cell_type": "code",
   "execution_count": 45,
   "id": "72b23348",
   "metadata": {},
   "outputs": [],
   "source": [
    "#Mas Vnr Type (Nominal): Masonry veneer type\n",
    "\n",
    "string=\"\"\"BrkCmn\tBrick Common\n",
    "       BrkFace\tBrick Face\n",
    "       CBlock\tCinder Block\n",
    "       None\tNone\n",
    "       Stone\tStone\"\"\"\n",
    "dict_mas_vnr_type = {s.strip().split('\\t')[0]:s.strip().split('\\t')[1] for s in string.split(\"\\n\")}\n",
    "# dict_mas_vnr_type"
   ]
  },
  {
   "cell_type": "code",
   "execution_count": 46,
   "id": "2a589da4",
   "metadata": {},
   "outputs": [],
   "source": [
    "#Exter Qual (Ordinal): Evaluates the quality of the material on the exterior \n",
    "\t\t\n",
    "string=\"\"\"Ex\tExcellent\n",
    "       Gd\tGood\n",
    "       TA\tAverage/Typical\n",
    "       Fa\tFair\n",
    "       Po\tPoor\"\"\"\n",
    "dict_exter_qual = {s.strip().split('\\t')[0]:s.strip().split('\\t')[1] for s in string.split(\"\\n\")}\n",
    "# dict_exter_qual"
   ]
  },
  {
   "cell_type": "code",
   "execution_count": 47,
   "id": "3e89d069",
   "metadata": {},
   "outputs": [],
   "source": [
    "#Exter Cond (Ordinal): Evaluates the present condition of the material on the exterior\n",
    "\n",
    "string=\"\"\"Ex\tExcellent\n",
    "       Gd\tGood\n",
    "       TA\tAverage/Typical\n",
    "       Fa\tFair\n",
    "       Po\tPoor\"\"\"\n",
    "dict_exter_cond = {s.strip().split('\\t')[0]:s.strip().split('\\t')[1] for s in string.split(\"\\n\")}\n",
    "# dict_exter_cond"
   ]
  },
  {
   "cell_type": "code",
   "execution_count": 48,
   "id": "27fac290",
   "metadata": {},
   "outputs": [],
   "source": [
    "#Foundation (Nominal): Type of foundation\n",
    "\n",
    "string=\"\"\"BrkTil\tBrick & Tile\n",
    "       CBlock\tCinder Block\n",
    "       PConc\tPoured Contrete\t\n",
    "       Slab\tSlab\n",
    "       Stone\tStone\n",
    "       Wood\tWood\"\"\"\n",
    "dict_foundation = {s.strip().split('\\t')[0]:s.strip().split('\\t')[1] for s in string.split(\"\\n\")}\n",
    "# dict_foundation"
   ]
  },
  {
   "cell_type": "code",
   "execution_count": 49,
   "id": "60f912fe",
   "metadata": {},
   "outputs": [],
   "source": [
    "#Bsmt Qual (Ordinal): Evaluates the height of the basement\n",
    "\n",
    "string=\"\"\"Ex\tExcellent (100+ inches)\t\n",
    "       Gd\tGood (90-99 inches)\n",
    "       TA\tTypical (80-89 inches)\n",
    "       Fa\tFair (70-79 inches)\n",
    "       Po\tPoor (<70 inches\n",
    "       NA\tNo Basement\"\"\"\n",
    "dict_bsmt_qual = {s.strip().split('\\t')[0]:s.strip().split('\\t')[1] for s in string.split(\"\\n\")}\n",
    "# dict_bsmt_qual"
   ]
  },
  {
   "cell_type": "code",
   "execution_count": 50,
   "id": "2c44ebab",
   "metadata": {},
   "outputs": [],
   "source": [
    "#Bsmt Cond (Ordinal): Evaluates the general condition of the basement\n",
    "\n",
    "string=\"\"\"Ex\tExcellent\n",
    "       Gd\tGood\n",
    "       TA\tTypical - slight dampness allowed\n",
    "       Fa\tFair - dampness or some cracking or settling\n",
    "       Po\tPoor - Severe cracking, settling, or wetness\n",
    "       NA\tNo Basement\"\"\"\n",
    "dict_bsmt_cond = {s.strip().split('\\t')[0]:s.strip().split('\\t')[1] for s in string.split(\"\\n\")}\n",
    "# dict_bsmt_cond"
   ]
  },
  {
   "cell_type": "code",
   "execution_count": 51,
   "id": "ed69041e",
   "metadata": {},
   "outputs": [],
   "source": [
    "#Bsmt Exposure\t(Ordinal): Refers to walkout or garden level walls\n",
    "\n",
    "string=\"\"\"Gd\tGood Exposure\n",
    "       Av\tAverage Exposure (split levels or foyers typically score average or above)\t\n",
    "       Mn\tMimimum Exposure\n",
    "       No\tNo Exposure\n",
    "       NA\tNo Basement\"\"\"\n",
    "dict_bsmt_exposure = {s.strip().split('\\t')[0]:s.strip().split('\\t')[1] for s in string.split(\"\\n\")}\n",
    "# dict_bsmt_exposure"
   ]
  },
  {
   "cell_type": "code",
   "execution_count": 52,
   "id": "b7524c15",
   "metadata": {},
   "outputs": [],
   "source": [
    "#BsmtFin Type 1\t(Ordinal): Rating of basement finished area\n",
    "\n",
    "string=\"\"\"GLQ\tGood Living Quarters\n",
    "       ALQ\tAverage Living Quarters\n",
    "       BLQ\tBelow Average Living Quarters\t\n",
    "       Rec\tAverage Rec Room\n",
    "       LwQ\tLow Quality\n",
    "       Unf\tUnfinshed\n",
    "       NA\tNo Basement\"\"\"\n",
    "dict_bsmtfin_type_1 = {s.strip().split('\\t')[0]:s.strip().split('\\t')[1] for s in string.split(\"\\n\")}\n",
    "# dict_bsmt_fin_type1"
   ]
  },
  {
   "cell_type": "code",
   "execution_count": 53,
   "id": "d9a642e5",
   "metadata": {},
   "outputs": [],
   "source": [
    "#BsmtFinType 2\t(Ordinal): Rating of basement finished area (if multiple types)\n",
    "\n",
    "string=\"\"\"GLQ\tGood Living Quarters\n",
    "       ALQ\tAverage Living Quarters\n",
    "       BLQ\tBelow Average Living Quarters\t\n",
    "       Rec\tAverage Rec Room\n",
    "       LwQ\tLow Quality\n",
    "       Unf\tUnfinshed\n",
    "       NA\tNo Basement\"\"\"\n",
    "dict_bsmtfin_type_2 = {s.strip().split('\\t')[0]:s.strip().split('\\t')[1] for s in string.split(\"\\n\")}\n",
    "# dict_bsmt_fin_type2"
   ]
  },
  {
   "cell_type": "code",
   "execution_count": 54,
   "id": "de63d008",
   "metadata": {},
   "outputs": [],
   "source": [
    "#Heating\t(Nominal): Type of heating\n",
    "\n",
    "string=\"\"\"Floor\tFloor Furnace\n",
    "       GasA\tGas forced warm air furnace\n",
    "       GasW\tGas hot water or steam heat\n",
    "       Grav\tGravity furnace\t\n",
    "       OthW\tHot water or steam heat other than gas\n",
    "       Wall\tWall furnace\"\"\"\n",
    "dict_heating = {s.strip().split('\\t')[0]:s.strip().split('\\t')[1] for s in string.split(\"\\n\")}\n",
    "# dict_heating"
   ]
  },
  {
   "cell_type": "code",
   "execution_count": 55,
   "id": "9ee744ac",
   "metadata": {},
   "outputs": [],
   "source": [
    "#HeatingQC (Ordinal): Heating quality and condition\n",
    "\n",
    "string=\"\"\"Ex\tExcellent\n",
    "       Gd\tGood\n",
    "       TA\tAverage/Typical\n",
    "       Fa\tFair\n",
    "       Po\tPoor\"\"\"\n",
    "dict_heating_qc = {s.strip().split('\\t')[0]:s.strip().split('\\t')[1] for s in string.split(\"\\n\")}\n",
    "# dict_heatingQC"
   ]
  },
  {
   "cell_type": "code",
   "execution_count": 56,
   "id": "16d384ba",
   "metadata": {},
   "outputs": [],
   "source": [
    "#Central Air (Nominal): Central air conditioning\n",
    "\n",
    "string=\"\"\"N\tNo\n",
    "       Y\tYes\"\"\"\n",
    "dict_central_air = {s.strip().split('\\t')[0]:s.strip().split('\\t')[1] for s in string.split(\"\\n\")}\n",
    "# dict_central_air"
   ]
  },
  {
   "cell_type": "code",
   "execution_count": 57,
   "id": "ec1960eb",
   "metadata": {},
   "outputs": [],
   "source": [
    "#Electrical (Ordinal): Electrical system\n",
    "\n",
    "string=\"\"\"SBrkr\tStandard Circuit Breakers & Romex\n",
    "       FuseA\tFuse Box over 60 AMP and all Romex wiring (Average)\t\n",
    "       FuseF\t60 AMP Fuse Box and mostly Romex wiring (Fair)\n",
    "       FuseP\t60 AMP Fuse Box and mostly knob & tube wiring (poor)\n",
    "       Mix\tMixed\"\"\"\n",
    "dict_electrical = {s.strip().split('\\t')[0]:s.strip().split('\\t')[1] for s in string.split(\"\\n\")}\n",
    "# dict_electrical"
   ]
  },
  {
   "cell_type": "code",
   "execution_count": 58,
   "id": "a451d4df",
   "metadata": {},
   "outputs": [],
   "source": [
    "#KitchenQual (Ordinal): Kitchen quality\n",
    "\n",
    "string=\"\"\"Ex\tExcellent\n",
    "       Gd\tGood\n",
    "       TA\tTypical/Average\n",
    "       Fa\tFair\n",
    "       Po\tPoor\"\"\"\n",
    "dict_kitchen_qual = {s.strip().split('\\t')[0]:s.strip().split('\\t')[1] for s in string.split(\"\\n\")}\n",
    "# dict_kitchen_qual"
   ]
  },
  {
   "cell_type": "code",
   "execution_count": 59,
   "id": "174ad603",
   "metadata": {},
   "outputs": [],
   "source": [
    "#Functional (Ordinal): Home functionality (Assume typical unless deductions are warranted)\n",
    "\n",
    "string=\"\"\"Typ\tTypical Functionality\n",
    "       Min1\tMinor Deductions 1\n",
    "       Min2\tMinor Deductions 2\n",
    "       Mod\tModerate Deductions\n",
    "       Maj1\tMajor Deductions 1\n",
    "       Maj2\tMajor Deductions 2\n",
    "       Sev\tSeverely Damaged\n",
    "       Sal\tSalvage only\"\"\"\n",
    "dict_functional = {s.strip().split('\\t')[0]:s.strip().split('\\t')[1] for s in string.split(\"\\n\")}\n",
    "# dict_functional"
   ]
  },
  {
   "cell_type": "code",
   "execution_count": 60,
   "id": "3e57f8a7",
   "metadata": {},
   "outputs": [],
   "source": [
    "#FireplaceQu (Ordinal): Fireplace quality\n",
    "\n",
    "string=\"\"\"Ex\tExcellent - Exceptional Masonry Fireplace\n",
    "       Gd\tGood - Masonry Fireplace in main level\n",
    "       TA\tAverage - Prefabricated Fireplace in main living area or Masonry Fireplace in basement\n",
    "       Fa\tFair - Prefabricated Fireplace in basement\n",
    "       Po\tPoor - Ben Franklin Stove\n",
    "       NA\tNo Fireplace\"\"\"\n",
    "dict_fireplace_qu = {s.strip().split('\\t')[0]:s.strip().split('\\t')[1] for s in string.split(\"\\n\")}\n",
    "# dict_fireplaceQu"
   ]
  },
  {
   "cell_type": "code",
   "execution_count": 61,
   "id": "35781354",
   "metadata": {},
   "outputs": [],
   "source": [
    "#Garage Type (Nominal): Garage location\n",
    "\n",
    "string=\"\"\"2Types\tMore than one type of garage\n",
    "       Attchd\tAttached to home\n",
    "       Basment\tBasement Garage\n",
    "       BuiltIn\tBuilt-In (Garage part of house - typically has room above garage)\n",
    "       CarPort\tCar Port\n",
    "       Detchd\tDetached from home\n",
    "       NA\tNo Garage\"\"\"\n",
    "dict_garage_type = {s.strip().split('\\t')[0]:s.strip().split('\\t')[1] for s in string.split(\"\\n\")}\n",
    "# dict_garage_type"
   ]
  },
  {
   "cell_type": "code",
   "execution_count": 62,
   "id": "31384859",
   "metadata": {},
   "outputs": [],
   "source": [
    "#Garage Finish (Ordinal)\t: Interior finish of the garage\n",
    "\n",
    "string=\"\"\"Fin\tFinished\n",
    "       RFn\tRough Finished\t\n",
    "       Unf\tUnfinished\n",
    "       NA\tNo Garage\"\"\"\n",
    "dict_garage_finish = {s.strip().split('\\t')[0]:s.strip().split('\\t')[1] for s in string.split(\"\\n\")}\n",
    "# dict_garage_finish"
   ]
  },
  {
   "cell_type": "code",
   "execution_count": 63,
   "id": "4e4bd233",
   "metadata": {},
   "outputs": [],
   "source": [
    "#Garage Qual (Ordinal): Garage quality\n",
    "\n",
    "string=\"\"\"Ex\tExcellent\n",
    "       Gd\tGood\n",
    "       TA\tTypical/Average\n",
    "       Fa\tFair\n",
    "       Po\tPoor\n",
    "       NA\tNo Garage\"\"\"\n",
    "dict_garage_qual = {s.strip().split('\\t')[0]:s.strip().split('\\t')[1] for s in string.split(\"\\n\")}\n",
    "# dict_garage_qual"
   ]
  },
  {
   "cell_type": "code",
   "execution_count": 64,
   "id": "a97ecad9",
   "metadata": {},
   "outputs": [],
   "source": [
    "#Garage Cond (Ordinal): Garage condition\n",
    "\n",
    "string=\"\"\"Ex\tExcellent\n",
    "       Gd\tGood\n",
    "       TA\tTypical/Average\n",
    "       Fa\tFair\n",
    "       Po\tPoor\n",
    "       NA\tNo Garage\"\"\"\n",
    "dict_garage_cond = {s.strip().split('\\t')[0]:s.strip().split('\\t')[1] for s in string.split(\"\\n\")}\n",
    "# dict_garage_cond"
   ]
  },
  {
   "cell_type": "code",
   "execution_count": 65,
   "id": "9f32c881",
   "metadata": {},
   "outputs": [],
   "source": [
    "#'paved_drive'\n",
    "string=\"\"\" Y\tPaved \n",
    "       P\tPartial Pavement\n",
    "       N\tDirt/Gravel\"\"\"\n",
    "dict_paved_drive = {s.strip().split('\\t')[0]:s.strip().split('\\t')[1] for s in string.split(\"\\n\")}\n",
    "# dict_paved_drive"
   ]
  },
  {
   "cell_type": "code",
   "execution_count": 66,
   "id": "51f890f8",
   "metadata": {},
   "outputs": [],
   "source": [
    "#Pool QC (Ordinal): Pool quality\n",
    "\n",
    "string=\"\"\"Ex\tExcellent\n",
    "       Gd\tGood\n",
    "       TA\tAverage/Typical\n",
    "       Fa\tFair\n",
    "       NA\tNo Pool\"\"\"\n",
    "dict_pool_qc = {s.strip().split('\\t')[0]:s.strip().split('\\t')[1] for s in string.split(\"\\n\")}\n",
    "# dict_pool_qc"
   ]
  },
  {
   "cell_type": "code",
   "execution_count": 67,
   "id": "f2674412",
   "metadata": {},
   "outputs": [],
   "source": [
    "#Misc Feature (Nominal): Miscellaneous feature not covered in other categories\n",
    "string=\"\"\"Elev\tElevator\n",
    "       Gar2\t2nd Garage (if not described in garage section)\n",
    "       Othr\tOther\n",
    "       Shed\tShed (over 100 SF)\n",
    "       TenC\tTennis Court\n",
    "       NA\tNone\"\"\"\n",
    "dict_misc_feature = {s.strip().split('\\t')[0]:s.strip().split('\\t')[1] for s in string.split(\"\\n\")}\n",
    "# dict_misc_feature"
   ]
  },
  {
   "cell_type": "code",
   "execution_count": 68,
   "id": "deb53850",
   "metadata": {},
   "outputs": [],
   "source": [
    "#Fence (Ordinal): Fence quality\n",
    "\n",
    "string=\"\"\"GdPrv\tGood Privacy\n",
    "       MnPrv\tMinimum Privacy\n",
    "       GdWo\tGood Wood\n",
    "       MnWw\tMinimum Wood/Wire\n",
    "       NA\tNo Fence\"\"\"\n",
    "dict_fence = {s.strip().split('\\t')[0]:s.strip().split('\\t')[1] for s in string.split(\"\\n\")}\n",
    "# dict_fence.keys()"
   ]
  },
  {
   "cell_type": "code",
   "execution_count": 70,
   "id": "49dc0bee",
   "metadata": {},
   "outputs": [
    {
     "data": {
      "text/plain": [
       "{'ms_zoning': False,\n",
       " 'neighborhood': False,\n",
       " 'condition_2': True,\n",
       " 'bldg_type': False,\n",
       " 'house_style': True,\n",
       " 'roof_style': True,\n",
       " 'mas_vnr_type': False,\n",
       " 'foundation': True,\n",
       " 'heating': True,\n",
       " 'central_air': True,\n",
       " 'garage_type': False}"
      ]
     },
     "execution_count": 70,
     "metadata": {},
     "output_type": "execute_result"
    }
   ],
   "source": [
    "value_validation_nominal={}\n",
    "for col in nominal:\n",
    "    try:\n",
    "        keys = eval('dict_' + col).keys()\n",
    "        flag = set(df[col].unique()).issubset(keys)\n",
    "        value_validation_nominal[col] = flag\n",
    "    except NameError:\n",
    "        pass\n",
    "    except KeyError:\n",
    "        pass\n",
    "value_validation_nominal"
   ]
  },
  {
   "cell_type": "markdown",
   "id": "7f800e7b",
   "metadata": {},
   "source": [
    "#### Neighborhood"
   ]
  },
  {
   "cell_type": "code",
   "execution_count": 71,
   "id": "b7aea3e4",
   "metadata": {},
   "outputs": [
    {
     "data": {
      "text/plain": [
       "{'Blmngtn',\n",
       " 'Blueste',\n",
       " 'BrDale',\n",
       " 'BrkSide',\n",
       " 'ClearCr',\n",
       " 'CollgCr',\n",
       " 'Crawfor',\n",
       " 'Edwards',\n",
       " 'Gilbert',\n",
       " 'Greens',\n",
       " 'IDOTRR',\n",
       " 'MeadowV',\n",
       " 'Mitchel',\n",
       " 'NAmes',\n",
       " 'NPkVill',\n",
       " 'NWAmes',\n",
       " 'NoRidge',\n",
       " 'NridgHt',\n",
       " 'OldTown',\n",
       " 'SWISU',\n",
       " 'Sawyer',\n",
       " 'SawyerW',\n",
       " 'Somerst',\n",
       " 'StoneBr',\n",
       " 'Timber',\n",
       " 'Veenker'}"
      ]
     },
     "execution_count": 71,
     "metadata": {},
     "output_type": "execute_result"
    }
   ],
   "source": [
    "t1 = set(df['neighborhood'].unique())\n",
    "t1\n"
   ]
  },
  {
   "cell_type": "code",
   "execution_count": 72,
   "id": "9a3521a2",
   "metadata": {},
   "outputs": [
    {
     "data": {
      "text/plain": [
       "{'Blmngtn',\n",
       " 'Blueste',\n",
       " 'BrDale',\n",
       " 'BrkSide',\n",
       " 'ClearCr',\n",
       " 'CollgCr',\n",
       " 'Crawfor',\n",
       " 'Edwards',\n",
       " 'Gilbert',\n",
       " 'Greens',\n",
       " 'GrnHill',\n",
       " 'IDOTRR',\n",
       " 'Landmrk',\n",
       " 'MeadowV',\n",
       " 'Mitchel',\n",
       " 'NPkVill',\n",
       " 'NWAmes',\n",
       " 'Names',\n",
       " 'NoRidge',\n",
       " 'NridgHt',\n",
       " 'OldTown',\n",
       " 'SWISU',\n",
       " 'Sawyer',\n",
       " 'SawyerW',\n",
       " 'Somerst',\n",
       " 'StoneBr',\n",
       " 'Timber',\n",
       " 'Veenker'}"
      ]
     },
     "execution_count": 72,
     "metadata": {},
     "output_type": "execute_result"
    }
   ],
   "source": [
    "t2= set(dict_neighborhood.keys())\n",
    "t2"
   ]
  },
  {
   "cell_type": "code",
   "execution_count": 73,
   "id": "b13eab5d",
   "metadata": {},
   "outputs": [],
   "source": [
    "df.loc[df[\"neighborhood\"] == \"NAmes\", \"neighborhood\"] = 'Names'"
   ]
  },
  {
   "cell_type": "markdown",
   "id": "8cb8fd90",
   "metadata": {},
   "source": [
    "#### mas_vnr_area"
   ]
  },
  {
   "cell_type": "code",
   "execution_count": null,
   "id": "169074b0",
   "metadata": {},
   "outputs": [],
   "source": []
  },
  {
   "cell_type": "code",
   "execution_count": null,
   "id": "730c2dc8",
   "metadata": {},
   "outputs": [],
   "source": [
    "df[df.mas_vnr_area==0]['mas_vnr_area']"
   ]
  },
  {
   "cell_type": "code",
   "execution_count": null,
   "id": "7fc76575",
   "metadata": {},
   "outputs": [],
   "source": [
    "df.mas_vnr_area.interpolate(method='nearest',inplace=True)"
   ]
  },
  {
   "cell_type": "code",
   "execution_count": null,
   "id": "1c940bb4",
   "metadata": {},
   "outputs": [],
   "source": [
    "df['1st_flr_sf'].isnull().sum()"
   ]
  },
  {
   "cell_type": "code",
   "execution_count": null,
   "id": "f1664aa4",
   "metadata": {},
   "outputs": [],
   "source": [
    "df.flr2nd_sf.isnull().sum()"
   ]
  },
  {
   "cell_type": "code",
   "execution_count": null,
   "id": "f85a675f",
   "metadata": {},
   "outputs": [],
   "source": [
    "df.gr_liv_area.isnull().sum()"
   ]
  },
  {
   "cell_type": "code",
   "execution_count": null,
   "id": "67d66935",
   "metadata": {},
   "outputs": [],
   "source": [
    "df.garage_area.isnull().sum()"
   ]
  },
  {
   "cell_type": "code",
   "execution_count": null,
   "id": "d6d0f8c7",
   "metadata": {},
   "outputs": [],
   "source": [
    "df.open_porch_sf.isnull().sum()"
   ]
  },
  {
   "cell_type": "code",
   "execution_count": null,
   "id": "0288aac0",
   "metadata": {},
   "outputs": [],
   "source": [
    "df.total_bsmt_sf.isnull().sum()"
   ]
  },
  {
   "cell_type": "code",
   "execution_count": null,
   "id": "9fd7e5b0",
   "metadata": {},
   "outputs": [],
   "source": [
    "df['area_sf']= df['1st_flr_sf']+ df.flr2nd_sf - df.gr_liv_area - df.garage_area + df.open_porch_sf + df.total_bsmt_sf"
   ]
  },
  {
   "cell_type": "code",
   "execution_count": null,
   "id": "412bb76e",
   "metadata": {},
   "outputs": [],
   "source": [
    "df.full_bath.isnull().sum()"
   ]
  },
  {
   "cell_type": "code",
   "execution_count": null,
   "id": "f00b3a75",
   "metadata": {},
   "outputs": [],
   "source": [
    "df.half_bath.isnull().sum()"
   ]
  },
  {
   "cell_type": "code",
   "execution_count": null,
   "id": "634f261a",
   "metadata": {},
   "outputs": [],
   "source": [
    "df['tot_bath']=df.full_bath+0.5*df.half_bath"
   ]
  },
  {
   "cell_type": "code",
   "execution_count": null,
   "id": "7dcb4c48",
   "metadata": {},
   "outputs": [],
   "source": [
    "df.bsmt_full_bath.isnull().sum()"
   ]
  },
  {
   "cell_type": "code",
   "execution_count": null,
   "id": "3e1dd8df",
   "metadata": {},
   "outputs": [],
   "source": [
    "df.bsmt_half_bath.isnull().sum()"
   ]
  },
  {
   "cell_type": "code",
   "execution_count": null,
   "id": "5cc3090c",
   "metadata": {},
   "outputs": [],
   "source": [
    "df['bsmt_bath']=df.bsmt_full_bath + 0.5*df.bsmt_half_bath"
   ]
  },
  {
   "cell_type": "code",
   "execution_count": null,
   "id": "67002495",
   "metadata": {},
   "outputs": [],
   "source": [
    "df.totrms_abvgrd.isnull().sum()"
   ]
  },
  {
   "cell_type": "code",
   "execution_count": null,
   "id": "91f5535f",
   "metadata": {},
   "outputs": [],
   "source": [
    "df.kitchen_abvgr.isnull().sum()"
   ]
  },
  {
   "cell_type": "code",
   "execution_count": null,
   "id": "ed2e0844",
   "metadata": {},
   "outputs": [],
   "source": [
    "df['abv_grd_combined'] = df.totrms_abvgrd+df.kitchen_abvgr"
   ]
  },
  {
   "cell_type": "code",
   "execution_count": null,
   "id": "14966847",
   "metadata": {},
   "outputs": [],
   "source": [
    "df.year_built.isnull().sum()"
   ]
  },
  {
   "cell_type": "code",
   "execution_count": null,
   "id": "30514827",
   "metadata": {},
   "outputs": [],
   "source": [
    "df.central_air = [1 if entry=='Y' else 0 for entry in df.central_air]"
   ]
  },
  {
   "cell_type": "code",
   "execution_count": null,
   "id": "2514a56c",
   "metadata": {},
   "outputs": [],
   "source": [
    "df.rename(columns={'central_air':'central_air_Y'},inplace=True)"
   ]
  },
  {
   "cell_type": "code",
   "execution_count": null,
   "id": "f490ade3",
   "metadata": {},
   "outputs": [],
   "source": [
    "#Neighbourhood-Nominal\n",
    "string = \"\"\"    Blmngtn\tBloomington Heights\n",
    "       Blueste\tBluestem\n",
    "       BrDale\tBriardale\n",
    "       BrkSide\tBrookside\n",
    "       ClearCr\tClear Creek\n",
    "       CollgCr\tCollege Creek\n",
    "       Crawfor\tCrawford\n",
    "       Edwards\tEdwards\n",
    "       Gilbert\tGilbert\n",
    "       Greens\tGreens\n",
    "       GrnHill\tGreen Hills\n",
    "       IDOTRR\tIowa DOT and Rail Road\n",
    "       Landmrk\tLandmark\n",
    "       MeadowV\tMeadow Village\n",
    "       Mitchel\tMitchell\n",
    "       Names\tNorth Ames\n",
    "       NoRidge\tNorthridge\n",
    "       NPkVill\tNorthpark Villa\n",
    "       NridgHt\tNorthridge Heights\n",
    "       NWAmes\tNorthwest Ames\n",
    "       OldTown\tOld Town\n",
    "       SWISU\tSouth & West of Iowa State University\n",
    "       Sawyer\tSawyer\n",
    "       SawyerW\tSawyer West\n",
    "       Somerst\tSomerset\n",
    "       StoneBr\tStone Brook\n",
    "       Timber\tTimberland\n",
    "       Veenker\tVeenker\"\"\"\n",
    "\n",
    "dict_neighborhood = {s.strip().split('\\t')[0]:s.strip().split('\\t')[1] for s in string.split(\"\\n\")}\n",
    "\n",
    "# dict_neighborhood"
   ]
  },
  {
   "cell_type": "code",
   "execution_count": null,
   "id": "389ed56d",
   "metadata": {},
   "outputs": [],
   "source": [
    "t1 = set(df['neighborhood'].unique())\n",
    "t1"
   ]
  },
  {
   "cell_type": "code",
   "execution_count": null,
   "id": "85d3fa5c",
   "metadata": {},
   "outputs": [],
   "source": [
    "t2= set(dict_neighborhood.keys())\n",
    "t2"
   ]
  },
  {
   "cell_type": "code",
   "execution_count": null,
   "id": "f741abd8",
   "metadata": {},
   "outputs": [],
   "source": [
    "t1 - t2"
   ]
  },
  {
   "cell_type": "code",
   "execution_count": null,
   "id": "a56f6fee",
   "metadata": {},
   "outputs": [],
   "source": [
    "df.loc[df[\"neighborhood\"] == \"NAmes\", \"neighborhood\"] = 'Names'"
   ]
  },
  {
   "cell_type": "code",
   "execution_count": null,
   "id": "81b963db",
   "metadata": {},
   "outputs": [],
   "source": [
    "df.land_contour.isna().sum()"
   ]
  },
  {
   "cell_type": "code",
   "execution_count": null,
   "id": "5a409089",
   "metadata": {},
   "outputs": [],
   "source": [
    "df.overall_qual.unique()"
   ]
  },
  {
   "cell_type": "code",
   "execution_count": null,
   "id": "b3b0cd7f",
   "metadata": {},
   "outputs": [],
   "source": [
    "df.heating_qc.value_counts(dropna=False)"
   ]
  },
  {
   "cell_type": "code",
   "execution_count": null,
   "id": "fcdd0f42",
   "metadata": {},
   "outputs": [],
   "source": [
    "map_heating_qc ={'Ex':5, 'TA':4, 'Gd':3, 'Fa':2,'Po':1}"
   ]
  },
  {
   "cell_type": "code",
   "execution_count": null,
   "id": "ae214f10",
   "metadata": {},
   "outputs": [],
   "source": [
    "df.heating_qc =df.heating_qc.map(map_heating_qc)"
   ]
  },
  {
   "cell_type": "code",
   "execution_count": null,
   "id": "e7f27c4c",
   "metadata": {},
   "outputs": [],
   "source": [
    "nominal_tbu = ['ms_subclass','ms_zoning','neighborhood','land_contour']"
   ]
  },
  {
   "cell_type": "code",
   "execution_count": null,
   "id": "a846d213",
   "metadata": {},
   "outputs": [],
   "source": [
    "df = pd.get_dummies(df, columns=nominal_tbu)\n"
   ]
  },
  {
   "cell_type": "code",
   "execution_count": null,
   "id": "0e8a7549",
   "metadata": {},
   "outputs": [],
   "source": [
    "list(df.columns)"
   ]
  },
  {
   "cell_type": "code",
   "execution_count": null,
   "id": "4cb72007",
   "metadata": {},
   "outputs": [],
   "source": [
    "df.drop(columns= ['neighborhood_Veenker'],inplace=True)#dropping one dummy column for each category"
   ]
  },
  {
   "cell_type": "code",
   "execution_count": null,
   "id": "0c8ca732",
   "metadata": {},
   "outputs": [],
   "source": [
    "df.drop(columns='land_contour_Low', inplace=True)#dropping one dummy column for each category"
   ]
  },
  {
   "cell_type": "code",
   "execution_count": null,
   "id": "9e6b0fe0",
   "metadata": {},
   "outputs": [],
   "source": [
    "df.drop(columns='ms_subclass_160',inplace=True)"
   ]
  },
  {
   "cell_type": "code",
   "execution_count": null,
   "id": "dff2cd2e",
   "metadata": {},
   "outputs": [],
   "source": [
    "df.drop(columns='ms_zoning_RH',inplace=True)"
   ]
  },
  {
   "cell_type": "code",
   "execution_count": null,
   "id": "d1336b01",
   "metadata": {},
   "outputs": [],
   "source": []
  },
  {
   "cell_type": "code",
   "execution_count": null,
   "id": "3002ed8e",
   "metadata": {},
   "outputs": [],
   "source": [
    "continuous_tbu = ['lot_frontage','lot_area','mas_vnr_area','area_sf']\n",
    "ordinal_tbu = ['overall_qual','heating_qc']\n",
    "discrete_tbu = ['year_built','tot_bath','bsmt_bath','abv_grd_combined']\n",
    "nominal_tbu = ['ms_subclass','ms_zoning','neighborhood','land_contour','central_air']\n",
    "nominal_withdummies_tbu =['neighborhood_Sawyer', 'neighborhood_SawyerW', 'neighborhood_Names', 'neighborhood_Timber', 'neighborhood_Edwards', 'neighborhood_OldTown',\n",
    "       'neighborhood_BrDale', 'neighborhood_CollgCr', 'neighborhood_Somerst', 'neighborhood_Mitchel', 'neighborhood_StoneBr', 'neighborhood_NridgHt',\n",
    "       'neighborhood_Gilbert', 'neighborhood_Crawfor', 'neighborhood_IDOTRR', 'neighborhood_NWAmes', 'neighborhood_MeadowV',\n",
    "       'neighborhood_SWISU', 'neighborhood_NoRidge', 'neighborhood_ClearCr', 'neighborhood_Blmngtn', 'neighborhood_BrkSide', 'neighborhood_NPkVill',\n",
    "       'neighborhood_Blueste', 'neighborhood_Greens', \n",
    "        'land_contour_Lvl', 'land_contour_HLS', 'land_contour_Bnk',\n",
    "         'ms_subclass_060', 'ms_subclass_020', 'ms_subclass_050', 'ms_subclass_180', 'ms_subclass_070', 'ms_subclass_120', 'ms_subclass_190', 'ms_subclass_085',\n",
    "       'ms_subclass_030', 'ms_subclass_090', 'ms_subclass_080', 'ms_subclass_075', 'ms_subclass_045', 'ms_subclass_040',\n",
    "        'ms_zoning_RL', 'ms_zoning_RM', 'ms_zoning_FV', 'ms_zoning_C', 'ms_zoning_I',\n",
    "                         'central_air_Y']\n"
   ]
  },
  {
   "cell_type": "code",
   "execution_count": null,
   "id": "644dde53",
   "metadata": {},
   "outputs": [],
   "source": [
    "col_tbu_model= ['pid']+continuous_tbu+ordinal_tbu+discrete_tbu+nominal_withdummies_tbu\n",
    "# final features to be used"
   ]
  },
  {
   "cell_type": "code",
   "execution_count": null,
   "id": "431be30d",
   "metadata": {},
   "outputs": [],
   "source": [
    "test_data = (df[col_tbu_model])"
   ]
  },
  {
   "cell_type": "code",
   "execution_count": null,
   "id": "c3ce2900",
   "metadata": {},
   "outputs": [],
   "source": [
    "test_data.isnull().sum().sum()"
   ]
  },
  {
   "cell_type": "code",
   "execution_count": null,
   "id": "409879f1",
   "metadata": {},
   "outputs": [],
   "source": [
    "test_data.to_csv('datasets/cleaned_test_data_for_prediction_feature_engineering.csv',index=False)"
   ]
  },
  {
   "cell_type": "code",
   "execution_count": null,
   "id": "42fe7aa6",
   "metadata": {},
   "outputs": [],
   "source": []
  }
 ],
 "metadata": {
  "kernelspec": {
   "display_name": "Python 3 (ipykernel)",
   "language": "python",
   "name": "python3"
  },
  "language_info": {
   "codemirror_mode": {
    "name": "ipython",
    "version": 3
   },
   "file_extension": ".py",
   "mimetype": "text/x-python",
   "name": "python",
   "nbconvert_exporter": "python",
   "pygments_lexer": "ipython3",
   "version": "3.9.7"
  },
  "toc": {
   "base_numbering": 1,
   "nav_menu": {},
   "number_sections": true,
   "sideBar": true,
   "skip_h1_title": false,
   "title_cell": "Table of Contents",
   "title_sidebar": "Contents",
   "toc_cell": false,
   "toc_position": {},
   "toc_section_display": true,
   "toc_window_display": false
  }
 },
 "nbformat": 4,
 "nbformat_minor": 5
}
