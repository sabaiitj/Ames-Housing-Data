{
 "cells": [
  {
   "cell_type": "code",
   "execution_count": 167,
   "id": "e9bc3c01",
   "metadata": {},
   "outputs": [],
   "source": [
    "import pandas as pd\n",
    "import seaborn as sns\n",
    "import matplotlib.pyplot as plt\n",
    "import numpy as np"
   ]
  },
  {
   "cell_type": "code",
   "execution_count": 168,
   "id": "22154dab",
   "metadata": {},
   "outputs": [],
   "source": [
    "df = pd.read_csv('datasets/test.csv')"
   ]
  },
  {
   "cell_type": "code",
   "execution_count": 169,
   "id": "33f74d3b",
   "metadata": {},
   "outputs": [
    {
     "data": {
      "text/html": [
       "<div>\n",
       "<style scoped>\n",
       "    .dataframe tbody tr th:only-of-type {\n",
       "        vertical-align: middle;\n",
       "    }\n",
       "\n",
       "    .dataframe tbody tr th {\n",
       "        vertical-align: top;\n",
       "    }\n",
       "\n",
       "    .dataframe thead th {\n",
       "        text-align: right;\n",
       "    }\n",
       "</style>\n",
       "<table border=\"1\" class=\"dataframe\">\n",
       "  <thead>\n",
       "    <tr style=\"text-align: right;\">\n",
       "      <th></th>\n",
       "      <th>Id</th>\n",
       "      <th>PID</th>\n",
       "      <th>MS SubClass</th>\n",
       "      <th>MS Zoning</th>\n",
       "      <th>Lot Frontage</th>\n",
       "      <th>Lot Area</th>\n",
       "      <th>Street</th>\n",
       "      <th>Alley</th>\n",
       "      <th>Lot Shape</th>\n",
       "      <th>Land Contour</th>\n",
       "      <th>...</th>\n",
       "      <th>3Ssn Porch</th>\n",
       "      <th>Screen Porch</th>\n",
       "      <th>Pool Area</th>\n",
       "      <th>Pool QC</th>\n",
       "      <th>Fence</th>\n",
       "      <th>Misc Feature</th>\n",
       "      <th>Misc Val</th>\n",
       "      <th>Mo Sold</th>\n",
       "      <th>Yr Sold</th>\n",
       "      <th>Sale Type</th>\n",
       "    </tr>\n",
       "  </thead>\n",
       "  <tbody>\n",
       "    <tr>\n",
       "      <th>0</th>\n",
       "      <td>2658</td>\n",
       "      <td>902301120</td>\n",
       "      <td>190</td>\n",
       "      <td>RM</td>\n",
       "      <td>69.0</td>\n",
       "      <td>9142</td>\n",
       "      <td>Pave</td>\n",
       "      <td>Grvl</td>\n",
       "      <td>Reg</td>\n",
       "      <td>Lvl</td>\n",
       "      <td>...</td>\n",
       "      <td>0</td>\n",
       "      <td>0</td>\n",
       "      <td>0</td>\n",
       "      <td>NaN</td>\n",
       "      <td>NaN</td>\n",
       "      <td>NaN</td>\n",
       "      <td>0</td>\n",
       "      <td>4</td>\n",
       "      <td>2006</td>\n",
       "      <td>WD</td>\n",
       "    </tr>\n",
       "    <tr>\n",
       "      <th>1</th>\n",
       "      <td>2718</td>\n",
       "      <td>905108090</td>\n",
       "      <td>90</td>\n",
       "      <td>RL</td>\n",
       "      <td>NaN</td>\n",
       "      <td>9662</td>\n",
       "      <td>Pave</td>\n",
       "      <td>NaN</td>\n",
       "      <td>IR1</td>\n",
       "      <td>Lvl</td>\n",
       "      <td>...</td>\n",
       "      <td>0</td>\n",
       "      <td>0</td>\n",
       "      <td>0</td>\n",
       "      <td>NaN</td>\n",
       "      <td>NaN</td>\n",
       "      <td>NaN</td>\n",
       "      <td>0</td>\n",
       "      <td>8</td>\n",
       "      <td>2006</td>\n",
       "      <td>WD</td>\n",
       "    </tr>\n",
       "    <tr>\n",
       "      <th>2</th>\n",
       "      <td>2414</td>\n",
       "      <td>528218130</td>\n",
       "      <td>60</td>\n",
       "      <td>RL</td>\n",
       "      <td>58.0</td>\n",
       "      <td>17104</td>\n",
       "      <td>Pave</td>\n",
       "      <td>NaN</td>\n",
       "      <td>IR1</td>\n",
       "      <td>Lvl</td>\n",
       "      <td>...</td>\n",
       "      <td>0</td>\n",
       "      <td>0</td>\n",
       "      <td>0</td>\n",
       "      <td>NaN</td>\n",
       "      <td>NaN</td>\n",
       "      <td>NaN</td>\n",
       "      <td>0</td>\n",
       "      <td>9</td>\n",
       "      <td>2006</td>\n",
       "      <td>New</td>\n",
       "    </tr>\n",
       "    <tr>\n",
       "      <th>3</th>\n",
       "      <td>1989</td>\n",
       "      <td>902207150</td>\n",
       "      <td>30</td>\n",
       "      <td>RM</td>\n",
       "      <td>60.0</td>\n",
       "      <td>8520</td>\n",
       "      <td>Pave</td>\n",
       "      <td>NaN</td>\n",
       "      <td>Reg</td>\n",
       "      <td>Lvl</td>\n",
       "      <td>...</td>\n",
       "      <td>0</td>\n",
       "      <td>0</td>\n",
       "      <td>0</td>\n",
       "      <td>NaN</td>\n",
       "      <td>NaN</td>\n",
       "      <td>NaN</td>\n",
       "      <td>0</td>\n",
       "      <td>7</td>\n",
       "      <td>2007</td>\n",
       "      <td>WD</td>\n",
       "    </tr>\n",
       "    <tr>\n",
       "      <th>4</th>\n",
       "      <td>625</td>\n",
       "      <td>535105100</td>\n",
       "      <td>20</td>\n",
       "      <td>RL</td>\n",
       "      <td>NaN</td>\n",
       "      <td>9500</td>\n",
       "      <td>Pave</td>\n",
       "      <td>NaN</td>\n",
       "      <td>IR1</td>\n",
       "      <td>Lvl</td>\n",
       "      <td>...</td>\n",
       "      <td>0</td>\n",
       "      <td>185</td>\n",
       "      <td>0</td>\n",
       "      <td>NaN</td>\n",
       "      <td>NaN</td>\n",
       "      <td>NaN</td>\n",
       "      <td>0</td>\n",
       "      <td>7</td>\n",
       "      <td>2009</td>\n",
       "      <td>WD</td>\n",
       "    </tr>\n",
       "  </tbody>\n",
       "</table>\n",
       "<p>5 rows × 80 columns</p>\n",
       "</div>"
      ],
      "text/plain": [
       "     Id        PID  MS SubClass MS Zoning  Lot Frontage  Lot Area Street  \\\n",
       "0  2658  902301120          190        RM          69.0      9142   Pave   \n",
       "1  2718  905108090           90        RL           NaN      9662   Pave   \n",
       "2  2414  528218130           60        RL          58.0     17104   Pave   \n",
       "3  1989  902207150           30        RM          60.0      8520   Pave   \n",
       "4   625  535105100           20        RL           NaN      9500   Pave   \n",
       "\n",
       "  Alley Lot Shape Land Contour  ... 3Ssn Porch Screen Porch Pool Area Pool QC  \\\n",
       "0  Grvl       Reg          Lvl  ...          0            0         0     NaN   \n",
       "1   NaN       IR1          Lvl  ...          0            0         0     NaN   \n",
       "2   NaN       IR1          Lvl  ...          0            0         0     NaN   \n",
       "3   NaN       Reg          Lvl  ...          0            0         0     NaN   \n",
       "4   NaN       IR1          Lvl  ...          0          185         0     NaN   \n",
       "\n",
       "  Fence Misc Feature Misc Val Mo Sold  Yr Sold  Sale Type  \n",
       "0   NaN          NaN        0       4     2006        WD   \n",
       "1   NaN          NaN        0       8     2006        WD   \n",
       "2   NaN          NaN        0       9     2006        New  \n",
       "3   NaN          NaN        0       7     2007        WD   \n",
       "4   NaN          NaN        0       7     2009        WD   \n",
       "\n",
       "[5 rows x 80 columns]"
      ]
     },
     "execution_count": 169,
     "metadata": {},
     "output_type": "execute_result"
    }
   ],
   "source": [
    "df.head()"
   ]
  },
  {
   "cell_type": "code",
   "execution_count": 170,
   "id": "324bac9e",
   "metadata": {},
   "outputs": [
    {
     "data": {
      "text/plain": [
       "Index(['Id', 'PID', 'MS SubClass', 'MS Zoning', 'Lot Frontage', 'Lot Area',\n",
       "       'Street', 'Alley', 'Lot Shape', 'Land Contour', 'Utilities',\n",
       "       'Lot Config', 'Land Slope', 'Neighborhood', 'Condition 1',\n",
       "       'Condition 2', 'Bldg Type', 'House Style', 'Overall Qual',\n",
       "       'Overall Cond', 'Year Built', 'Year Remod/Add', 'Roof Style',\n",
       "       'Roof Matl', 'Exterior 1st', 'Exterior 2nd', 'Mas Vnr Type',\n",
       "       'Mas Vnr Area', 'Exter Qual', 'Exter Cond', 'Foundation', 'Bsmt Qual',\n",
       "       'Bsmt Cond', 'Bsmt Exposure', 'BsmtFin Type 1', 'BsmtFin SF 1',\n",
       "       'BsmtFin Type 2', 'BsmtFin SF 2', 'Bsmt Unf SF', 'Total Bsmt SF',\n",
       "       'Heating', 'Heating QC', 'Central Air', 'Electrical', '1st Flr SF',\n",
       "       '2nd Flr SF', 'Low Qual Fin SF', 'Gr Liv Area', 'Bsmt Full Bath',\n",
       "       'Bsmt Half Bath', 'Full Bath', 'Half Bath', 'Bedroom AbvGr',\n",
       "       'Kitchen AbvGr', 'Kitchen Qual', 'TotRms AbvGrd', 'Functional',\n",
       "       'Fireplaces', 'Fireplace Qu', 'Garage Type', 'Garage Yr Blt',\n",
       "       'Garage Finish', 'Garage Cars', 'Garage Area', 'Garage Qual',\n",
       "       'Garage Cond', 'Paved Drive', 'Wood Deck SF', 'Open Porch SF',\n",
       "       'Enclosed Porch', '3Ssn Porch', 'Screen Porch', 'Pool Area', 'Pool QC',\n",
       "       'Fence', 'Misc Feature', 'Misc Val', 'Mo Sold', 'Yr Sold', 'Sale Type'],\n",
       "      dtype='object')"
      ]
     },
     "execution_count": 170,
     "metadata": {},
     "output_type": "execute_result"
    }
   ],
   "source": [
    "df.columns"
   ]
  },
  {
   "cell_type": "code",
   "execution_count": 171,
   "id": "eaa15d4f",
   "metadata": {},
   "outputs": [],
   "source": [
    "df.columns = [col.lower().replace(' ','_') for col in df.columns]"
   ]
  },
  {
   "cell_type": "code",
   "execution_count": 172,
   "id": "b825b82d",
   "metadata": {},
   "outputs": [],
   "source": [
    "df.rename(columns={'3ssn_porch':'ssn3_porch', \n",
    "                   '2nd_flr_sf': 'flr2nd_sf'},inplace=True)"
   ]
  },
  {
   "cell_type": "code",
   "execution_count": 173,
   "id": "8acb9b7b",
   "metadata": {},
   "outputs": [
    {
     "data": {
      "text/plain": [
       "Index(['id', 'pid', 'ms_subclass', 'ms_zoning', 'lot_frontage', 'lot_area',\n",
       "       'street', 'alley', 'lot_shape', 'land_contour', 'utilities',\n",
       "       'lot_config', 'land_slope', 'neighborhood', 'condition_1',\n",
       "       'condition_2', 'bldg_type', 'house_style', 'overall_qual',\n",
       "       'overall_cond', 'year_built', 'year_remod/add', 'roof_style',\n",
       "       'roof_matl', 'exterior_1st', 'exterior_2nd', 'mas_vnr_type',\n",
       "       'mas_vnr_area', 'exter_qual', 'exter_cond', 'foundation', 'bsmt_qual',\n",
       "       'bsmt_cond', 'bsmt_exposure', 'bsmtfin_type_1', 'bsmtfin_sf_1',\n",
       "       'bsmtfin_type_2', 'bsmtfin_sf_2', 'bsmt_unf_sf', 'total_bsmt_sf',\n",
       "       'heating', 'heating_qc', 'central_air', 'electrical', '1st_flr_sf',\n",
       "       'flr2nd_sf', 'low_qual_fin_sf', 'gr_liv_area', 'bsmt_full_bath',\n",
       "       'bsmt_half_bath', 'full_bath', 'half_bath', 'bedroom_abvgr',\n",
       "       'kitchen_abvgr', 'kitchen_qual', 'totrms_abvgrd', 'functional',\n",
       "       'fireplaces', 'fireplace_qu', 'garage_type', 'garage_yr_blt',\n",
       "       'garage_finish', 'garage_cars', 'garage_area', 'garage_qual',\n",
       "       'garage_cond', 'paved_drive', 'wood_deck_sf', 'open_porch_sf',\n",
       "       'enclosed_porch', 'ssn3_porch', 'screen_porch', 'pool_area', 'pool_qc',\n",
       "       'fence', 'misc_feature', 'misc_val', 'mo_sold', 'yr_sold', 'sale_type'],\n",
       "      dtype='object')"
      ]
     },
     "execution_count": 173,
     "metadata": {},
     "output_type": "execute_result"
    }
   ],
   "source": [
    "df.columns"
   ]
  },
  {
   "cell_type": "code",
   "execution_count": 174,
   "id": "054b7470",
   "metadata": {},
   "outputs": [
    {
     "data": {
      "text/plain": [
       "4171"
      ]
     },
     "execution_count": 174,
     "metadata": {},
     "output_type": "execute_result"
    }
   ],
   "source": [
    "df.isnull().sum().sum() "
   ]
  },
  {
   "cell_type": "code",
   "execution_count": 175,
   "id": "eb5bc27c",
   "metadata": {},
   "outputs": [
    {
     "data": {
      "text/plain": [
       "(878, 80)"
      ]
     },
     "execution_count": 175,
     "metadata": {},
     "output_type": "execute_result"
    }
   ],
   "source": [
    "df.shape"
   ]
  },
  {
   "cell_type": "markdown",
   "id": "0e391ccf",
   "metadata": {},
   "source": [
    "#### ms_subclass"
   ]
  },
  {
   "cell_type": "code",
   "execution_count": 176,
   "id": "59ff7bf2",
   "metadata": {},
   "outputs": [],
   "source": [
    "#from data dictionary provided\n",
    "values_for_ms_subclass = ('020','030','040','045','045','050','060','070','075','080','085','090','120','150','160','180','190')"
   ]
  },
  {
   "cell_type": "code",
   "execution_count": 177,
   "id": "91bd74ee",
   "metadata": {},
   "outputs": [],
   "source": [
    "df.ms_subclass = [str(entry) for entry in df.ms_subclass]"
   ]
  },
  {
   "cell_type": "code",
   "execution_count": 178,
   "id": "c7492e77",
   "metadata": {},
   "outputs": [],
   "source": [
    "df.ms_subclass = ['0'+ entry if len(entry)==2 else entry for entry in df.ms_subclass]"
   ]
  },
  {
   "cell_type": "code",
   "execution_count": 179,
   "id": "3189d4c7",
   "metadata": {},
   "outputs": [
    {
     "data": {
      "text/plain": [
       "array(['190', '090', '060', '030', '020', '160', '120', '070', '080',\n",
       "       '050', '085', '045', '075', '180', '040'], dtype=object)"
      ]
     },
     "execution_count": 179,
     "metadata": {},
     "output_type": "execute_result"
    }
   ],
   "source": [
    "df.ms_subclass.unique()"
   ]
  },
  {
   "cell_type": "markdown",
   "id": "ebd3bb3e",
   "metadata": {},
   "source": [
    "#### mszoning"
   ]
  },
  {
   "cell_type": "code",
   "execution_count": 180,
   "id": "fa545d6f",
   "metadata": {},
   "outputs": [],
   "source": [
    "dict_ms_zoning = {'C (all)':'C', \n",
    "                 'A (agr)':'A',\n",
    "                 'I (all)':'I',\n",
    "                 'RL':'RL',\n",
    "                 'RM':'RM',\n",
    "                 'FV':'FV',\n",
    "                 'RH':'RH'}"
   ]
  },
  {
   "cell_type": "code",
   "execution_count": 181,
   "id": "2f1525d6",
   "metadata": {},
   "outputs": [],
   "source": [
    "df.ms_zoning = [dict_ms_zoning[entry] for entry in df.ms_zoning]#cleaned entries "
   ]
  },
  {
   "cell_type": "code",
   "execution_count": 182,
   "id": "9d2ef4b9",
   "metadata": {},
   "outputs": [
    {
     "data": {
      "text/plain": [
       "RL    674\n",
       "RM    146\n",
       "FV     38\n",
       "RH     13\n",
       "C       6\n",
       "I       1\n",
       "Name: ms_zoning, dtype: int64"
      ]
     },
     "execution_count": 182,
     "metadata": {},
     "output_type": "execute_result"
    }
   ],
   "source": [
    "df.ms_zoning.value_counts(dropna=False)"
   ]
  },
  {
   "cell_type": "markdown",
   "id": "51d7232c",
   "metadata": {},
   "source": [
    "#### lot frontage"
   ]
  },
  {
   "cell_type": "code",
   "execution_count": 183,
   "id": "005e0b2b",
   "metadata": {},
   "outputs": [],
   "source": [
    "df.lot_frontage.interpolate(method='nearest',inplace=True)"
   ]
  },
  {
   "cell_type": "code",
   "execution_count": 184,
   "id": "a7260143",
   "metadata": {},
   "outputs": [
    {
     "data": {
      "text/plain": [
       "count    878.000000\n",
       "mean      69.813212\n",
       "std       23.176861\n",
       "min       21.000000\n",
       "25%       59.000000\n",
       "50%       68.500000\n",
       "75%       80.000000\n",
       "max      182.000000\n",
       "Name: lot_frontage, dtype: float64"
      ]
     },
     "execution_count": 184,
     "metadata": {},
     "output_type": "execute_result"
    }
   ],
   "source": [
    "df.lot_frontage.describe()"
   ]
  },
  {
   "cell_type": "code",
   "execution_count": 185,
   "id": "cfc7df77",
   "metadata": {},
   "outputs": [
    {
     "data": {
      "text/plain": [
       "0"
      ]
     },
     "execution_count": 185,
     "metadata": {},
     "output_type": "execute_result"
    }
   ],
   "source": [
    "df.lot_area.isnull().sum()"
   ]
  },
  {
   "cell_type": "markdown",
   "id": "a2afde2e",
   "metadata": {},
   "source": [
    "#### street"
   ]
  },
  {
   "cell_type": "code",
   "execution_count": 186,
   "id": "ffbaa222",
   "metadata": {},
   "outputs": [
    {
     "data": {
      "text/plain": [
       "0"
      ]
     },
     "execution_count": 186,
     "metadata": {},
     "output_type": "execute_result"
    }
   ],
   "source": [
    "df.street.isnull().sum()"
   ]
  },
  {
   "cell_type": "code",
   "execution_count": 187,
   "id": "81f42474",
   "metadata": {},
   "outputs": [
    {
     "data": {
      "text/plain": [
       "Pave    873\n",
       "Grvl      5\n",
       "Name: street, dtype: int64"
      ]
     },
     "execution_count": 187,
     "metadata": {},
     "output_type": "execute_result"
    }
   ],
   "source": [
    "df.street.value_counts()"
   ]
  },
  {
   "cell_type": "markdown",
   "id": "450d8f85",
   "metadata": {},
   "source": [
    "#### alley"
   ]
  },
  {
   "cell_type": "code",
   "execution_count": 188,
   "id": "1234bbf6",
   "metadata": {},
   "outputs": [
    {
     "data": {
      "text/plain": [
       "NaN     820\n",
       "Grvl     35\n",
       "Pave     23\n",
       "Name: alley, dtype: int64"
      ]
     },
     "execution_count": 188,
     "metadata": {},
     "output_type": "execute_result"
    }
   ],
   "source": [
    "df.alley.value_counts(dropna=False)"
   ]
  },
  {
   "cell_type": "markdown",
   "id": "bb20eb94",
   "metadata": {},
   "source": [
    "**Drop alley**"
   ]
  },
  {
   "cell_type": "markdown",
   "id": "f4802830",
   "metadata": {},
   "source": [
    "#### Lot Shape (Ordinal): General shape of property"
   ]
  },
  {
   "cell_type": "code",
   "execution_count": 189,
   "id": "1a3b840b",
   "metadata": {},
   "outputs": [
    {
     "data": {
      "text/plain": [
       "0"
      ]
     },
     "execution_count": 189,
     "metadata": {},
     "output_type": "execute_result"
    }
   ],
   "source": [
    "df.lot_shape.isnull().sum()"
   ]
  },
  {
   "cell_type": "code",
   "execution_count": 190,
   "id": "f33627a5",
   "metadata": {},
   "outputs": [
    {
     "data": {
      "text/plain": [
       "array(['Reg', 'IR1', 'IR3', 'IR2'], dtype=object)"
      ]
     },
     "execution_count": 190,
     "metadata": {},
     "output_type": "execute_result"
    }
   ],
   "source": [
    "df.lot_shape.unique()"
   ]
  },
  {
   "cell_type": "markdown",
   "id": "af3e893a",
   "metadata": {},
   "source": [
    "#### Land Contour"
   ]
  },
  {
   "cell_type": "code",
   "execution_count": 191,
   "id": "dce3dc29",
   "metadata": {},
   "outputs": [
    {
     "data": {
      "text/plain": [
       "0"
      ]
     },
     "execution_count": 191,
     "metadata": {},
     "output_type": "execute_result"
    }
   ],
   "source": [
    "df.land_contour.isna().sum()"
   ]
  },
  {
   "cell_type": "code",
   "execution_count": 192,
   "id": "daebe8b5",
   "metadata": {},
   "outputs": [
    {
     "data": {
      "text/plain": [
       "array(['Lvl', 'Bnk', 'Low', 'HLS'], dtype=object)"
      ]
     },
     "execution_count": 192,
     "metadata": {},
     "output_type": "execute_result"
    }
   ],
   "source": [
    "df.land_contour.unique()"
   ]
  },
  {
   "cell_type": "markdown",
   "id": "282f36e2",
   "metadata": {},
   "source": [
    "#### Utilities"
   ]
  },
  {
   "cell_type": "code",
   "execution_count": 193,
   "id": "735047ac",
   "metadata": {},
   "outputs": [
    {
     "data": {
      "text/plain": [
       "AllPub    877\n",
       "NoSewr      1\n",
       "Name: utilities, dtype: int64"
      ]
     },
     "execution_count": 193,
     "metadata": {},
     "output_type": "execute_result"
    }
   ],
   "source": [
    "df.utilities.value_counts(dropna=False)"
   ]
  },
  {
   "cell_type": "markdown",
   "id": "54733a7c",
   "metadata": {},
   "source": [
    "#### Lot config"
   ]
  },
  {
   "cell_type": "code",
   "execution_count": 194,
   "id": "54b64d4e",
   "metadata": {},
   "outputs": [
    {
     "data": {
      "text/plain": [
       "Inside     636\n",
       "Corner     163\n",
       "CulDSac     49\n",
       "FR2         25\n",
       "FR3          5\n",
       "Name: lot_config, dtype: int64"
      ]
     },
     "execution_count": 194,
     "metadata": {},
     "output_type": "execute_result"
    }
   ],
   "source": [
    "df.lot_config.value_counts(dropna=False)"
   ]
  },
  {
   "cell_type": "code",
   "execution_count": 195,
   "id": "d0414046",
   "metadata": {},
   "outputs": [],
   "source": [
    "df.drop(columns=['alley','misc_feature'], inplace=True)"
   ]
  },
  {
   "cell_type": "markdown",
   "id": "2e12dbe5",
   "metadata": {},
   "source": [
    "#### Neighborhood"
   ]
  },
  {
   "cell_type": "code",
   "execution_count": 196,
   "id": "345cfc14",
   "metadata": {},
   "outputs": [
    {
     "data": {
      "text/plain": [
       "NAmes      133\n",
       "CollgCr     87\n",
       "OldTown     76\n",
       "Somerst     52\n",
       "Edwards     50\n",
       "Gilbert     49\n",
       "NridgHt     44\n",
       "NWAmes      44\n",
       "Sawyer      40\n",
       "SawyerW     38\n",
       "Mitchel     32\n",
       "Crawfor     32\n",
       "BrkSide     32\n",
       "Timber      24\n",
       "IDOTRR      24\n",
       "NoRidge     23\n",
       "ClearCr     17\n",
       "SWISU       16\n",
       "MeadowV     13\n",
       "StoneBr     13\n",
       "BrDale      11\n",
       "Veenker      7\n",
       "Blmngtn      6\n",
       "NPkVill      6\n",
       "Greens       5\n",
       "Blueste      4\n",
       "Name: neighborhood, dtype: int64"
      ]
     },
     "execution_count": 196,
     "metadata": {},
     "output_type": "execute_result"
    }
   ],
   "source": [
    "df.neighborhood.value_counts(dropna=False)"
   ]
  },
  {
   "cell_type": "code",
   "execution_count": 197,
   "id": "1d05c476",
   "metadata": {},
   "outputs": [],
   "source": [
    "df.loc[df[\"neighborhood\"] == \"NAmes\", \"neighborhood\"] = 'Names'"
   ]
  },
  {
   "cell_type": "markdown",
   "id": "2d5c2e82",
   "metadata": {},
   "source": [
    "#### Building Type"
   ]
  },
  {
   "cell_type": "code",
   "execution_count": 198,
   "id": "4f7e2707",
   "metadata": {},
   "outputs": [
    {
     "data": {
      "text/plain": [
       "array(['2fmCon', 'Duplex', '1Fam', 'TwnhsE', 'Twnhs'], dtype=object)"
      ]
     },
     "execution_count": 198,
     "metadata": {},
     "output_type": "execute_result"
    }
   ],
   "source": [
    "df['bldg_type'].unique()"
   ]
  },
  {
   "cell_type": "code",
   "execution_count": 199,
   "id": "43a31f0a",
   "metadata": {},
   "outputs": [],
   "source": [
    "df.loc[df[\"bldg_type\"] == \"Twnhs\", \"bldg_type\"] = 'TwnhsI'\n",
    "df.loc[df['bldg_type']=='2fmCon',\"bldg_type\"] = '2FmCon'\n",
    "df.loc[df['bldg_type']=='Duplex', \"bldg_type\"] = 'Duplx'"
   ]
  },
  {
   "cell_type": "markdown",
   "id": "2ed091c9",
   "metadata": {},
   "source": [
    "#### mas_vnr_type"
   ]
  },
  {
   "cell_type": "code",
   "execution_count": 200,
   "id": "39fd4203",
   "metadata": {},
   "outputs": [
    {
     "data": {
      "text/plain": [
       "array(['None', 'BrkFace', 'Stone', 'BrkCmn', 'CBlock', nan], dtype=object)"
      ]
     },
     "execution_count": 200,
     "metadata": {},
     "output_type": "execute_result"
    }
   ],
   "source": [
    "df['mas_vnr_type'].unique()"
   ]
  },
  {
   "cell_type": "markdown",
   "id": "9d362296",
   "metadata": {},
   "source": [
    "#### garage type"
   ]
  },
  {
   "cell_type": "code",
   "execution_count": 201,
   "id": "8466f4b7",
   "metadata": {},
   "outputs": [
    {
     "data": {
      "text/plain": [
       "array(['Detchd', 'Attchd', 'BuiltIn', nan, '2Types', 'CarPort', 'Basment'],\n",
       "      dtype=object)"
      ]
     },
     "execution_count": 201,
     "metadata": {},
     "output_type": "execute_result"
    }
   ],
   "source": [
    "df['garage_type'].unique()"
   ]
  },
  {
   "cell_type": "markdown",
   "id": "9c74883a",
   "metadata": {},
   "source": [
    "#### overall_condition"
   ]
  },
  {
   "cell_type": "code",
   "execution_count": 202,
   "id": "7b34115f",
   "metadata": {},
   "outputs": [
    {
     "data": {
      "text/plain": [
       "array([8, 4, 5, 6, 7, 9, 3, 2, 1])"
      ]
     },
     "execution_count": 202,
     "metadata": {},
     "output_type": "execute_result"
    }
   ],
   "source": [
    "df.overall_cond.unique()"
   ]
  },
  {
   "cell_type": "markdown",
   "id": "fd020bf7",
   "metadata": {},
   "source": [
    "#### overall quality"
   ]
  },
  {
   "cell_type": "code",
   "execution_count": 203,
   "id": "7d7a64df",
   "metadata": {},
   "outputs": [
    {
     "data": {
      "text/plain": [
       "array([ 6,  5,  7,  4,  8,  3,  9, 10,  2])"
      ]
     },
     "execution_count": 203,
     "metadata": {},
     "output_type": "execute_result"
    }
   ],
   "source": [
    "df.overall_qual.unique()"
   ]
  },
  {
   "cell_type": "markdown",
   "id": "53fc0682",
   "metadata": {},
   "source": [
    "#### bsmt_qual"
   ]
  },
  {
   "cell_type": "code",
   "execution_count": 204,
   "id": "eb700ab8",
   "metadata": {},
   "outputs": [
    {
     "data": {
      "text/plain": [
       "array(['Fa', 'Gd', 'TA', 'Ex', nan, 'Po'], dtype=object)"
      ]
     },
     "execution_count": 204,
     "metadata": {},
     "output_type": "execute_result"
    }
   ],
   "source": [
    "df.bsmt_qual.unique()"
   ]
  },
  {
   "cell_type": "markdown",
   "id": "a2406378",
   "metadata": {},
   "source": [
    "#### bsmt_cond"
   ]
  },
  {
   "cell_type": "code",
   "execution_count": 205,
   "id": "5c282ee1",
   "metadata": {},
   "outputs": [
    {
     "data": {
      "text/plain": [
       "array(['TA', 'Gd', nan, 'Fa'], dtype=object)"
      ]
     },
     "execution_count": 205,
     "metadata": {},
     "output_type": "execute_result"
    }
   ],
   "source": [
    "df.bsmt_cond.unique()"
   ]
  },
  {
   "cell_type": "markdown",
   "id": "99fd64c7",
   "metadata": {},
   "source": [
    "#### bsmt_exposure"
   ]
  },
  {
   "cell_type": "code",
   "execution_count": 206,
   "id": "d0ff0780",
   "metadata": {},
   "outputs": [
    {
     "data": {
      "text/plain": [
       "array(['No', 'Av', nan, 'Mn', 'Gd'], dtype=object)"
      ]
     },
     "execution_count": 206,
     "metadata": {},
     "output_type": "execute_result"
    }
   ],
   "source": [
    "df.bsmt_exposure.unique()"
   ]
  },
  {
   "cell_type": "markdown",
   "id": "81779549",
   "metadata": {},
   "source": [
    "#### bsmtfin_type_1"
   ]
  },
  {
   "cell_type": "code",
   "execution_count": 207,
   "id": "31cb72b5",
   "metadata": {},
   "outputs": [
    {
     "data": {
      "text/plain": [
       "array(['Unf', 'GLQ', 'BLQ', 'Rec', 'ALQ', nan, 'LwQ'], dtype=object)"
      ]
     },
     "execution_count": 207,
     "metadata": {},
     "output_type": "execute_result"
    }
   ],
   "source": [
    "df.bsmtfin_type_1.unique()"
   ]
  },
  {
   "cell_type": "markdown",
   "id": "02255587",
   "metadata": {},
   "source": [
    "#### bsmtfin_type_2"
   ]
  },
  {
   "cell_type": "code",
   "execution_count": 208,
   "id": "1e66c475",
   "metadata": {},
   "outputs": [
    {
     "data": {
      "text/plain": [
       "array(['Unf', 'LwQ', nan, 'ALQ', 'GLQ', 'Rec', 'BLQ'], dtype=object)"
      ]
     },
     "execution_count": 208,
     "metadata": {},
     "output_type": "execute_result"
    }
   ],
   "source": [
    "df.bsmtfin_type_2.unique()"
   ]
  },
  {
   "cell_type": "markdown",
   "id": "414c9385",
   "metadata": {},
   "source": [
    "#### fireplace_qu"
   ]
  },
  {
   "cell_type": "code",
   "execution_count": 209,
   "id": "ae2ff905",
   "metadata": {},
   "outputs": [
    {
     "data": {
      "text/plain": [
       "array([nan, 'Gd', 'Fa', 'TA', 'Po', 'Ex'], dtype=object)"
      ]
     },
     "execution_count": 209,
     "metadata": {},
     "output_type": "execute_result"
    }
   ],
   "source": [
    "df.fireplace_qu.unique()"
   ]
  },
  {
   "cell_type": "markdown",
   "id": "43b2e304",
   "metadata": {},
   "source": [
    "#### garage_finish"
   ]
  },
  {
   "cell_type": "code",
   "execution_count": 210,
   "id": "f92371c3",
   "metadata": {},
   "outputs": [
    {
     "data": {
      "text/plain": [
       "array(['Unf', 'Fin', 'RFn', nan], dtype=object)"
      ]
     },
     "execution_count": 210,
     "metadata": {},
     "output_type": "execute_result"
    }
   ],
   "source": [
    "df.garage_finish.unique()"
   ]
  },
  {
   "cell_type": "markdown",
   "id": "fbb07944",
   "metadata": {},
   "source": [
    "#### garage_qual"
   ]
  },
  {
   "cell_type": "code",
   "execution_count": 211,
   "id": "7d182058",
   "metadata": {},
   "outputs": [
    {
     "data": {
      "text/plain": [
       "array(['Po', 'TA', 'Fa', nan, 'Gd'], dtype=object)"
      ]
     },
     "execution_count": 211,
     "metadata": {},
     "output_type": "execute_result"
    }
   ],
   "source": [
    "df.garage_qual.unique()"
   ]
  },
  {
   "cell_type": "markdown",
   "id": "c5def520",
   "metadata": {},
   "source": [
    "#### garage_cond"
   ]
  },
  {
   "cell_type": "code",
   "execution_count": 212,
   "id": "4f3a7b7e",
   "metadata": {},
   "outputs": [
    {
     "data": {
      "text/plain": [
       "array(['Po', 'TA', nan, 'Fa', 'Gd', 'Ex'], dtype=object)"
      ]
     },
     "execution_count": 212,
     "metadata": {},
     "output_type": "execute_result"
    }
   ],
   "source": [
    "df.garage_cond.unique()"
   ]
  },
  {
   "cell_type": "markdown",
   "id": "8b80998f",
   "metadata": {},
   "source": [
    "#### pool_qc"
   ]
  },
  {
   "cell_type": "code",
   "execution_count": 213,
   "id": "86e460a0",
   "metadata": {},
   "outputs": [],
   "source": [
    "df.drop(columns='pool_qc',inplace=True)"
   ]
  },
  {
   "cell_type": "markdown",
   "id": "9b3f241b",
   "metadata": {},
   "source": [
    "#### fence"
   ]
  },
  {
   "cell_type": "code",
   "execution_count": 214,
   "id": "5725b266",
   "metadata": {},
   "outputs": [],
   "source": [
    "df.drop(columns='fence',inplace=True)"
   ]
  },
  {
   "cell_type": "code",
   "execution_count": null,
   "id": "a0ed0076",
   "metadata": {},
   "outputs": [],
   "source": []
  },
  {
   "cell_type": "markdown",
   "id": "a31b0241",
   "metadata": {},
   "source": [
    "#### bsmt_full_bath"
   ]
  },
  {
   "cell_type": "code",
   "execution_count": 215,
   "id": "9a97562a",
   "metadata": {},
   "outputs": [
    {
     "data": {
      "text/plain": [
       "0    507\n",
       "1    356\n",
       "2     15\n",
       "Name: bsmt_full_bath, dtype: int64"
      ]
     },
     "execution_count": 215,
     "metadata": {},
     "output_type": "execute_result"
    }
   ],
   "source": [
    "df.bsmt_full_bath.value_counts(dropna=False)"
   ]
  },
  {
   "cell_type": "markdown",
   "id": "8a0590fe",
   "metadata": {},
   "source": [
    "#### bsmt_half_bath"
   ]
  },
  {
   "cell_type": "code",
   "execution_count": 216,
   "id": "0387c7d6",
   "metadata": {},
   "outputs": [
    {
     "data": {
      "text/plain": [
       "0    829\n",
       "1     49\n",
       "Name: bsmt_half_bath, dtype: int64"
      ]
     },
     "execution_count": 216,
     "metadata": {},
     "output_type": "execute_result"
    }
   ],
   "source": [
    "df.bsmt_half_bath.value_counts(dropna=False)"
   ]
  },
  {
   "cell_type": "markdown",
   "id": "2d4ad40d",
   "metadata": {},
   "source": [
    "#### garage_yr_blt"
   ]
  },
  {
   "cell_type": "code",
   "execution_count": 217,
   "id": "10baf629",
   "metadata": {},
   "outputs": [
    {
     "data": {
      "text/plain": [
       "NaN       45\n",
       "2005.0    37\n",
       "2006.0    35\n",
       "2007.0    30\n",
       "2004.0    27\n",
       "          ..\n",
       "1917.0     1\n",
       "1923.0     1\n",
       "1928.0     1\n",
       "1906.0     1\n",
       "1908.0     1\n",
       "Name: garage_yr_blt, Length: 94, dtype: int64"
      ]
     },
     "execution_count": 217,
     "metadata": {},
     "output_type": "execute_result"
    }
   ],
   "source": [
    "df.garage_yr_blt.value_counts(dropna=False)"
   ]
  },
  {
   "cell_type": "code",
   "execution_count": 260,
   "id": "4d10b21d",
   "metadata": {},
   "outputs": [
    {
     "data": {
      "text/html": [
       "<div>\n",
       "<style scoped>\n",
       "    .dataframe tbody tr th:only-of-type {\n",
       "        vertical-align: middle;\n",
       "    }\n",
       "\n",
       "    .dataframe tbody tr th {\n",
       "        vertical-align: top;\n",
       "    }\n",
       "\n",
       "    .dataframe thead th {\n",
       "        text-align: right;\n",
       "    }\n",
       "</style>\n",
       "<table border=\"1\" class=\"dataframe\">\n",
       "  <thead>\n",
       "    <tr style=\"text-align: right;\">\n",
       "      <th></th>\n",
       "      <th>id</th>\n",
       "      <th>pid</th>\n",
       "      <th>ms_subclass</th>\n",
       "      <th>ms_zoning</th>\n",
       "      <th>lot_frontage</th>\n",
       "      <th>lot_area</th>\n",
       "      <th>street</th>\n",
       "      <th>lot_shape</th>\n",
       "      <th>land_contour</th>\n",
       "      <th>utilities</th>\n",
       "      <th>...</th>\n",
       "      <th>wood_deck_sf</th>\n",
       "      <th>open_porch_sf</th>\n",
       "      <th>enclosed_porch</th>\n",
       "      <th>ssn3_porch</th>\n",
       "      <th>screen_porch</th>\n",
       "      <th>pool_area</th>\n",
       "      <th>misc_val</th>\n",
       "      <th>mo_sold</th>\n",
       "      <th>yr_sold</th>\n",
       "      <th>sale_type</th>\n",
       "    </tr>\n",
       "  </thead>\n",
       "  <tbody>\n",
       "  </tbody>\n",
       "</table>\n",
       "<p>0 rows × 76 columns</p>\n",
       "</div>"
      ],
      "text/plain": [
       "Empty DataFrame\n",
       "Columns: [id, pid, ms_subclass, ms_zoning, lot_frontage, lot_area, street, lot_shape, land_contour, utilities, lot_config, land_slope, neighborhood, condition_1, condition_2, bldg_type, house_style, overall_qual, overall_cond, year_built, year_remod/add, roof_style, roof_matl, exterior_1st, exterior_2nd, mas_vnr_type, mas_vnr_area, exter_qual, exter_cond, foundation, bsmt_qual, bsmt_cond, bsmt_exposure, bsmtfin_type_1, bsmtfin_sf_1, bsmtfin_type_2, bsmtfin_sf_2, bsmt_unf_sf, total_bsmt_sf, heating, heating_qc, central_air, electrical, 1st_flr_sf, flr2nd_sf, low_qual_fin_sf, gr_liv_area, bsmt_full_bath, bsmt_half_bath, full_bath, half_bath, bedroom_abvgr, kitchen_abvgr, kitchen_qual, totrms_abvgrd, functional, fireplaces, fireplace_qu, garage_type, garage_yr_blt, garage_finish, garage_cars, garage_area, garage_qual, garage_cond, paved_drive, wood_deck_sf, open_porch_sf, enclosed_porch, ssn3_porch, screen_porch, pool_area, misc_val, mo_sold, yr_sold, sale_type]\n",
       "Index: []\n",
       "\n",
       "[0 rows x 76 columns]"
      ]
     },
     "execution_count": 260,
     "metadata": {},
     "output_type": "execute_result"
    }
   ],
   "source": [
    "df[df.garage_yr_blt>2022]"
   ]
  },
  {
   "cell_type": "code",
   "execution_count": 218,
   "id": "f40c0989",
   "metadata": {},
   "outputs": [],
   "source": [
    "df.garage_yr_blt.interpolate(method='nearest',inplace=True)"
   ]
  },
  {
   "cell_type": "markdown",
   "id": "8248365e",
   "metadata": {},
   "source": [
    "#### garage_cars"
   ]
  },
  {
   "cell_type": "code",
   "execution_count": 219,
   "id": "c5fc0517",
   "metadata": {},
   "outputs": [
    {
     "data": {
      "text/plain": [
       "2    467\n",
       "1    254\n",
       "3    110\n",
       "0     44\n",
       "4      3\n",
       "Name: garage_cars, dtype: int64"
      ]
     },
     "execution_count": 219,
     "metadata": {},
     "output_type": "execute_result"
    }
   ],
   "source": [
    "df.garage_cars.value_counts(dropna=False)"
   ]
  },
  {
   "cell_type": "markdown",
   "id": "5fdf66b8",
   "metadata": {},
   "source": [
    "#### lot_area"
   ]
  },
  {
   "cell_type": "code",
   "execution_count": 220,
   "id": "ff52dc07",
   "metadata": {},
   "outputs": [
    {
     "data": {
      "text/plain": [
       "count       878.000000\n",
       "mean      10307.033030\n",
       "std       10002.674602\n",
       "min        1477.000000\n",
       "25%        7297.250000\n",
       "50%        9446.000000\n",
       "75%       11589.000000\n",
       "max      215245.000000\n",
       "Name: lot_area, dtype: float64"
      ]
     },
     "execution_count": 220,
     "metadata": {},
     "output_type": "execute_result"
    }
   ],
   "source": [
    "df.lot_area.describe()"
   ]
  },
  {
   "cell_type": "code",
   "execution_count": 221,
   "id": "ceb3ff22",
   "metadata": {},
   "outputs": [
    {
     "data": {
      "text/plain": [
       "0"
      ]
     },
     "execution_count": 221,
     "metadata": {},
     "output_type": "execute_result"
    }
   ],
   "source": [
    "df.lot_area.isnull().sum()"
   ]
  },
  {
   "cell_type": "markdown",
   "id": "f76ac227",
   "metadata": {},
   "source": [
    "#### mas_vnr_area"
   ]
  },
  {
   "cell_type": "code",
   "execution_count": 222,
   "id": "353b2f2e",
   "metadata": {},
   "outputs": [
    {
     "data": {
      "text/plain": [
       "count     877.000000\n",
       "mean      106.236032\n",
       "std       187.158908\n",
       "min         0.000000\n",
       "25%         0.000000\n",
       "50%         0.000000\n",
       "75%       172.000000\n",
       "max      1378.000000\n",
       "Name: mas_vnr_area, dtype: float64"
      ]
     },
     "execution_count": 222,
     "metadata": {},
     "output_type": "execute_result"
    }
   ],
   "source": [
    "df.mas_vnr_area.describe()"
   ]
  },
  {
   "cell_type": "code",
   "execution_count": 223,
   "id": "84aaf56d",
   "metadata": {},
   "outputs": [
    {
     "data": {
      "text/plain": [
       "1"
      ]
     },
     "execution_count": 223,
     "metadata": {},
     "output_type": "execute_result"
    }
   ],
   "source": [
    "df.mas_vnr_area.isnull().sum()"
   ]
  },
  {
   "cell_type": "code",
   "execution_count": 224,
   "id": "26b41758",
   "metadata": {},
   "outputs": [
    {
     "data": {
      "text/html": [
       "<div>\n",
       "<style scoped>\n",
       "    .dataframe tbody tr th:only-of-type {\n",
       "        vertical-align: middle;\n",
       "    }\n",
       "\n",
       "    .dataframe tbody tr th {\n",
       "        vertical-align: top;\n",
       "    }\n",
       "\n",
       "    .dataframe thead th {\n",
       "        text-align: right;\n",
       "    }\n",
       "</style>\n",
       "<table border=\"1\" class=\"dataframe\">\n",
       "  <thead>\n",
       "    <tr style=\"text-align: right;\">\n",
       "      <th></th>\n",
       "      <th>id</th>\n",
       "      <th>pid</th>\n",
       "      <th>ms_subclass</th>\n",
       "      <th>ms_zoning</th>\n",
       "      <th>lot_frontage</th>\n",
       "      <th>lot_area</th>\n",
       "      <th>street</th>\n",
       "      <th>lot_shape</th>\n",
       "      <th>land_contour</th>\n",
       "      <th>utilities</th>\n",
       "      <th>...</th>\n",
       "      <th>wood_deck_sf</th>\n",
       "      <th>open_porch_sf</th>\n",
       "      <th>enclosed_porch</th>\n",
       "      <th>ssn3_porch</th>\n",
       "      <th>screen_porch</th>\n",
       "      <th>pool_area</th>\n",
       "      <th>misc_val</th>\n",
       "      <th>mo_sold</th>\n",
       "      <th>yr_sold</th>\n",
       "      <th>sale_type</th>\n",
       "    </tr>\n",
       "  </thead>\n",
       "  <tbody>\n",
       "    <tr>\n",
       "      <th>865</th>\n",
       "      <td>868</td>\n",
       "      <td>907260030</td>\n",
       "      <td>060</td>\n",
       "      <td>RL</td>\n",
       "      <td>70.0</td>\n",
       "      <td>8749</td>\n",
       "      <td>Pave</td>\n",
       "      <td>Reg</td>\n",
       "      <td>Lvl</td>\n",
       "      <td>AllPub</td>\n",
       "      <td>...</td>\n",
       "      <td>0</td>\n",
       "      <td>48</td>\n",
       "      <td>0</td>\n",
       "      <td>0</td>\n",
       "      <td>0</td>\n",
       "      <td>0</td>\n",
       "      <td>0</td>\n",
       "      <td>11</td>\n",
       "      <td>2009</td>\n",
       "      <td>WD</td>\n",
       "    </tr>\n",
       "  </tbody>\n",
       "</table>\n",
       "<p>1 rows × 76 columns</p>\n",
       "</div>"
      ],
      "text/plain": [
       "      id        pid ms_subclass ms_zoning  lot_frontage  lot_area street  \\\n",
       "865  868  907260030         060        RL          70.0      8749   Pave   \n",
       "\n",
       "    lot_shape land_contour utilities  ... wood_deck_sf open_porch_sf  \\\n",
       "865       Reg          Lvl    AllPub  ...            0            48   \n",
       "\n",
       "    enclosed_porch ssn3_porch screen_porch pool_area misc_val  mo_sold  \\\n",
       "865              0          0            0         0        0       11   \n",
       "\n",
       "     yr_sold  sale_type  \n",
       "865     2009        WD   \n",
       "\n",
       "[1 rows x 76 columns]"
      ]
     },
     "execution_count": 224,
     "metadata": {},
     "output_type": "execute_result"
    }
   ],
   "source": [
    "df[df.mas_vnr_area.isnull()]"
   ]
  },
  {
   "cell_type": "code",
   "execution_count": 225,
   "id": "55fb2406",
   "metadata": {},
   "outputs": [],
   "source": [
    "df.loc[865,'mas_vnr_area'] = df.mas_vnr_area.mean()"
   ]
  },
  {
   "cell_type": "markdown",
   "id": "c4210a2d",
   "metadata": {},
   "source": [
    "#### bsmtfin_sf_1"
   ]
  },
  {
   "cell_type": "code",
   "execution_count": 226,
   "id": "0a6d5b27",
   "metadata": {},
   "outputs": [
    {
     "data": {
      "text/plain": [
       "count     878.000000\n",
       "mean      441.328018\n",
       "std       438.457329\n",
       "min         0.000000\n",
       "25%         0.000000\n",
       "50%       373.000000\n",
       "75%       734.750000\n",
       "max      2288.000000\n",
       "Name: bsmtfin_sf_1, dtype: float64"
      ]
     },
     "execution_count": 226,
     "metadata": {},
     "output_type": "execute_result"
    }
   ],
   "source": [
    "df.bsmtfin_sf_1.describe()"
   ]
  },
  {
   "cell_type": "code",
   "execution_count": 227,
   "id": "b3ee151e",
   "metadata": {},
   "outputs": [
    {
     "data": {
      "text/plain": [
       "0"
      ]
     },
     "execution_count": 227,
     "metadata": {},
     "output_type": "execute_result"
    }
   ],
   "source": [
    "df.bsmtfin_sf_1.isnull().sum()"
   ]
  },
  {
   "cell_type": "markdown",
   "id": "f9eb0d50",
   "metadata": {},
   "source": [
    "#### bsmtfin_sf_2 "
   ]
  },
  {
   "cell_type": "code",
   "execution_count": 228,
   "id": "16fc8482",
   "metadata": {},
   "outputs": [
    {
     "data": {
      "text/plain": [
       "count     878.000000\n",
       "mean       53.896355\n",
       "std       178.632355\n",
       "min         0.000000\n",
       "25%         0.000000\n",
       "50%         0.000000\n",
       "75%         0.000000\n",
       "max      1526.000000\n",
       "Name: bsmtfin_sf_2, dtype: float64"
      ]
     },
     "execution_count": 228,
     "metadata": {},
     "output_type": "execute_result"
    }
   ],
   "source": [
    "df.bsmtfin_sf_2.describe()"
   ]
  },
  {
   "cell_type": "code",
   "execution_count": 229,
   "id": "81ac96b0",
   "metadata": {},
   "outputs": [
    {
     "data": {
      "text/plain": [
       "0"
      ]
     },
     "execution_count": 229,
     "metadata": {},
     "output_type": "execute_result"
    }
   ],
   "source": [
    "df.bsmtfin_sf_1.isnull().sum()"
   ]
  },
  {
   "cell_type": "markdown",
   "id": "5d78ce2c",
   "metadata": {},
   "source": [
    "#### bsmt_unf_sf"
   ]
  },
  {
   "cell_type": "code",
   "execution_count": 230,
   "id": "456f7262",
   "metadata": {},
   "outputs": [
    {
     "data": {
      "text/plain": [
       "count     878.000000\n",
       "mean      539.133257\n",
       "std       426.172161\n",
       "min         0.000000\n",
       "25%       216.000000\n",
       "50%       452.000000\n",
       "75%       780.000000\n",
       "max      2046.000000\n",
       "Name: bsmt_unf_sf, dtype: float64"
      ]
     },
     "execution_count": 230,
     "metadata": {},
     "output_type": "execute_result"
    }
   ],
   "source": [
    "df.bsmt_unf_sf.describe()"
   ]
  },
  {
   "cell_type": "code",
   "execution_count": 231,
   "id": "5e7f9828",
   "metadata": {},
   "outputs": [
    {
     "data": {
      "text/plain": [
       "0"
      ]
     },
     "execution_count": 231,
     "metadata": {},
     "output_type": "execute_result"
    }
   ],
   "source": [
    "df.bsmtfin_sf_1.isnull().sum()"
   ]
  },
  {
   "cell_type": "markdown",
   "id": "0ca129e8",
   "metadata": {},
   "source": [
    "#### total_bsmt_sf"
   ]
  },
  {
   "cell_type": "code",
   "execution_count": 232,
   "id": "d1f5947a",
   "metadata": {},
   "outputs": [
    {
     "data": {
      "text/plain": [
       "count     878.000000\n",
       "mean     1034.357631\n",
       "std       413.446291\n",
       "min         0.000000\n",
       "25%       789.000000\n",
       "50%       975.000000\n",
       "75%      1247.000000\n",
       "max      2630.000000\n",
       "Name: total_bsmt_sf, dtype: float64"
      ]
     },
     "execution_count": 232,
     "metadata": {},
     "output_type": "execute_result"
    }
   ],
   "source": [
    "df.total_bsmt_sf.describe()"
   ]
  },
  {
   "cell_type": "code",
   "execution_count": 233,
   "id": "4c2b7c6f",
   "metadata": {},
   "outputs": [
    {
     "data": {
      "text/plain": [
       "0"
      ]
     },
     "execution_count": 233,
     "metadata": {},
     "output_type": "execute_result"
    }
   ],
   "source": [
    "df.bsmtfin_sf_1.isnull().sum()"
   ]
  },
  {
   "cell_type": "markdown",
   "id": "084b185f",
   "metadata": {},
   "source": [
    "#### 1st_flr_sf"
   ]
  },
  {
   "cell_type": "code",
   "execution_count": 234,
   "id": "ffefcfdf",
   "metadata": {},
   "outputs": [
    {
     "data": {
      "text/plain": [
       "count     878.000000\n",
       "mean     1145.787016\n",
       "std       375.264111\n",
       "min       407.000000\n",
       "25%       864.000000\n",
       "50%      1063.000000\n",
       "75%      1358.000000\n",
       "max      2674.000000\n",
       "Name: 1st_flr_sf, dtype: float64"
      ]
     },
     "execution_count": 234,
     "metadata": {},
     "output_type": "execute_result"
    }
   ],
   "source": [
    "df['1st_flr_sf'].describe()"
   ]
  },
  {
   "cell_type": "code",
   "execution_count": 235,
   "id": "f82f8cb1",
   "metadata": {},
   "outputs": [
    {
     "data": {
      "text/plain": [
       "0"
      ]
     },
     "execution_count": 235,
     "metadata": {},
     "output_type": "execute_result"
    }
   ],
   "source": [
    "df['1st_flr_sf'].isnull().sum()"
   ]
  },
  {
   "cell_type": "markdown",
   "id": "51bc0529",
   "metadata": {},
   "source": [
    "#### flr2nd_sf"
   ]
  },
  {
   "cell_type": "code",
   "execution_count": 236,
   "id": "78c16e87",
   "metadata": {},
   "outputs": [
    {
     "data": {
      "text/plain": [
       "count     878.000000\n",
       "mean      348.398633\n",
       "std       432.985566\n",
       "min         0.000000\n",
       "25%         0.000000\n",
       "50%         0.000000\n",
       "75%       720.000000\n",
       "max      2065.000000\n",
       "Name: flr2nd_sf, dtype: float64"
      ]
     },
     "execution_count": 236,
     "metadata": {},
     "output_type": "execute_result"
    }
   ],
   "source": [
    "df.flr2nd_sf.describe()"
   ]
  },
  {
   "cell_type": "code",
   "execution_count": 237,
   "id": "694c6c79",
   "metadata": {},
   "outputs": [
    {
     "data": {
      "text/plain": [
       "0"
      ]
     },
     "execution_count": 237,
     "metadata": {},
     "output_type": "execute_result"
    }
   ],
   "source": [
    "df.flr2nd_sf.isnull().sum()"
   ]
  },
  {
   "cell_type": "markdown",
   "id": "26be0bd9",
   "metadata": {},
   "source": [
    "#### low_qual_fin_sf"
   ]
  },
  {
   "cell_type": "code",
   "execution_count": 238,
   "id": "69fd83b0",
   "metadata": {},
   "outputs": [
    {
     "data": {
      "text/plain": [
       "count    878.000000\n",
       "mean       2.728929\n",
       "std       32.572548\n",
       "min        0.000000\n",
       "25%        0.000000\n",
       "50%        0.000000\n",
       "75%        0.000000\n",
       "max      481.000000\n",
       "Name: low_qual_fin_sf, dtype: float64"
      ]
     },
     "execution_count": 238,
     "metadata": {},
     "output_type": "execute_result"
    }
   ],
   "source": [
    "df.low_qual_fin_sf.describe()"
   ]
  },
  {
   "cell_type": "code",
   "execution_count": 239,
   "id": "122cce1a",
   "metadata": {},
   "outputs": [
    {
     "data": {
      "text/plain": [
       "0"
      ]
     },
     "execution_count": 239,
     "metadata": {},
     "output_type": "execute_result"
    }
   ],
   "source": [
    "df.low_qual_fin_sf.isnull().sum()"
   ]
  },
  {
   "cell_type": "markdown",
   "id": "9ca805cb",
   "metadata": {},
   "source": [
    "#### gr_liv_area"
   ]
  },
  {
   "cell_type": "code",
   "execution_count": 240,
   "id": "7a30f3d2",
   "metadata": {},
   "outputs": [
    {
     "data": {
      "text/plain": [
       "count     878.000000\n",
       "mean     1496.914579\n",
       "std       506.468967\n",
       "min       407.000000\n",
       "25%      1114.000000\n",
       "50%      1436.000000\n",
       "75%      1779.000000\n",
       "max      4476.000000\n",
       "Name: gr_liv_area, dtype: float64"
      ]
     },
     "execution_count": 240,
     "metadata": {},
     "output_type": "execute_result"
    }
   ],
   "source": [
    "df.gr_liv_area.describe()"
   ]
  },
  {
   "cell_type": "code",
   "execution_count": 241,
   "id": "9710e787",
   "metadata": {},
   "outputs": [
    {
     "data": {
      "text/plain": [
       "0"
      ]
     },
     "execution_count": 241,
     "metadata": {},
     "output_type": "execute_result"
    }
   ],
   "source": [
    "df.gr_liv_area.isnull().sum()"
   ]
  },
  {
   "cell_type": "markdown",
   "id": "b9e9bb99",
   "metadata": {},
   "source": [
    "#### garage_area"
   ]
  },
  {
   "cell_type": "code",
   "execution_count": 243,
   "id": "1f12f226",
   "metadata": {},
   "outputs": [
    {
     "data": {
      "text/plain": [
       "count     878.000000\n",
       "mean      470.362187\n",
       "std       212.734075\n",
       "min         0.000000\n",
       "25%       322.500000\n",
       "50%       473.000000\n",
       "75%       576.000000\n",
       "max      1488.000000\n",
       "Name: garage_area, dtype: float64"
      ]
     },
     "execution_count": 243,
     "metadata": {},
     "output_type": "execute_result"
    }
   ],
   "source": [
    "df.garage_area.describe()"
   ]
  },
  {
   "cell_type": "code",
   "execution_count": 244,
   "id": "0a2414a7",
   "metadata": {},
   "outputs": [
    {
     "data": {
      "text/plain": [
       "0"
      ]
     },
     "execution_count": 244,
     "metadata": {},
     "output_type": "execute_result"
    }
   ],
   "source": [
    "df.garage_area.isnull().sum()"
   ]
  },
  {
   "cell_type": "markdown",
   "id": "3a1fd63e",
   "metadata": {},
   "source": [
    "#### wood_deck_sf"
   ]
  },
  {
   "cell_type": "code",
   "execution_count": 245,
   "id": "e8e19d5d",
   "metadata": {},
   "outputs": [
    {
     "data": {
      "text/plain": [
       "count    878.000000\n",
       "mean      93.430524\n",
       "std      121.181702\n",
       "min        0.000000\n",
       "25%        0.000000\n",
       "50%        0.000000\n",
       "75%      170.750000\n",
       "max      690.000000\n",
       "Name: wood_deck_sf, dtype: float64"
      ]
     },
     "execution_count": 245,
     "metadata": {},
     "output_type": "execute_result"
    }
   ],
   "source": [
    "df.wood_deck_sf.describe()"
   ]
  },
  {
   "cell_type": "code",
   "execution_count": 246,
   "id": "6bbfd68f",
   "metadata": {},
   "outputs": [
    {
     "data": {
      "text/plain": [
       "0"
      ]
     },
     "execution_count": 246,
     "metadata": {},
     "output_type": "execute_result"
    }
   ],
   "source": [
    "df.wood_deck_sf.isnull().sum()"
   ]
  },
  {
   "cell_type": "markdown",
   "id": "7f0f0915",
   "metadata": {},
   "source": [
    "#### open_porch_sf"
   ]
  },
  {
   "cell_type": "code",
   "execution_count": 247,
   "id": "ca9e8ebb",
   "metadata": {},
   "outputs": [
    {
     "data": {
      "text/plain": [
       "count    878.000000\n",
       "mean      47.070615\n",
       "std       68.180939\n",
       "min        0.000000\n",
       "25%        0.000000\n",
       "50%       27.000000\n",
       "75%       69.750000\n",
       "max      742.000000\n",
       "Name: open_porch_sf, dtype: float64"
      ]
     },
     "execution_count": 247,
     "metadata": {},
     "output_type": "execute_result"
    }
   ],
   "source": [
    "df.open_porch_sf.describe()"
   ]
  },
  {
   "cell_type": "code",
   "execution_count": 248,
   "id": "96c09df6",
   "metadata": {},
   "outputs": [
    {
     "data": {
      "text/plain": [
       "0"
      ]
     },
     "execution_count": 248,
     "metadata": {},
     "output_type": "execute_result"
    }
   ],
   "source": [
    "df.open_porch_sf.isnull().sum()"
   ]
  },
  {
   "cell_type": "markdown",
   "id": "41e6263e",
   "metadata": {},
   "source": [
    "#### enclosed_porch"
   ]
  },
  {
   "cell_type": "code",
   "execution_count": 249,
   "id": "59b7e93e",
   "metadata": {},
   "outputs": [
    {
     "data": {
      "text/plain": [
       "count     878.000000\n",
       "mean       24.064920\n",
       "std        73.249463\n",
       "min         0.000000\n",
       "25%         0.000000\n",
       "50%         0.000000\n",
       "75%         0.000000\n",
       "max      1012.000000\n",
       "Name: enclosed_porch, dtype: float64"
      ]
     },
     "execution_count": 249,
     "metadata": {},
     "output_type": "execute_result"
    }
   ],
   "source": [
    "df.enclosed_porch.describe()"
   ]
  },
  {
   "cell_type": "code",
   "execution_count": 250,
   "id": "a0e315e5",
   "metadata": {},
   "outputs": [
    {
     "data": {
      "text/plain": [
       "0"
      ]
     },
     "execution_count": 250,
     "metadata": {},
     "output_type": "execute_result"
    }
   ],
   "source": [
    "df.enclosed_porch.isnull().sum()"
   ]
  },
  {
   "cell_type": "markdown",
   "id": "28f7fd29",
   "metadata": {},
   "source": [
    "#### ssn3_porch"
   ]
  },
  {
   "cell_type": "code",
   "execution_count": 251,
   "id": "60b6bc5c",
   "metadata": {},
   "outputs": [
    {
     "data": {
      "text/plain": [
       "count    878.000000\n",
       "mean       2.597950\n",
       "std       24.962482\n",
       "min        0.000000\n",
       "25%        0.000000\n",
       "50%        0.000000\n",
       "75%        0.000000\n",
       "max      360.000000\n",
       "Name: ssn3_porch, dtype: float64"
      ]
     },
     "execution_count": 251,
     "metadata": {},
     "output_type": "execute_result"
    }
   ],
   "source": [
    "df.ssn3_porch.describe()"
   ]
  },
  {
   "cell_type": "code",
   "execution_count": 252,
   "id": "2bd55278",
   "metadata": {},
   "outputs": [
    {
     "data": {
      "text/plain": [
       "0"
      ]
     },
     "execution_count": 252,
     "metadata": {},
     "output_type": "execute_result"
    }
   ],
   "source": [
    "df.ssn3_porch.isnull().sum()"
   ]
  },
  {
   "cell_type": "markdown",
   "id": "f977ef56",
   "metadata": {},
   "source": [
    "#### screen_porch"
   ]
  },
  {
   "cell_type": "code",
   "execution_count": 253,
   "id": "110ecb3a",
   "metadata": {},
   "outputs": [
    {
     "data": {
      "text/plain": [
       "count    878.000000\n",
       "mean      14.830296\n",
       "std       53.003794\n",
       "min        0.000000\n",
       "25%        0.000000\n",
       "50%        0.000000\n",
       "75%        0.000000\n",
       "max      576.000000\n",
       "Name: screen_porch, dtype: float64"
      ]
     },
     "execution_count": 253,
     "metadata": {},
     "output_type": "execute_result"
    }
   ],
   "source": [
    "df.screen_porch.describe()"
   ]
  },
  {
   "cell_type": "code",
   "execution_count": 254,
   "id": "3532c5f6",
   "metadata": {},
   "outputs": [
    {
     "data": {
      "text/plain": [
       "0"
      ]
     },
     "execution_count": 254,
     "metadata": {},
     "output_type": "execute_result"
    }
   ],
   "source": [
    "df.screen_porch.isnull().sum()"
   ]
  },
  {
   "cell_type": "markdown",
   "id": "d407b75b",
   "metadata": {},
   "source": [
    "#### pool_area"
   ]
  },
  {
   "cell_type": "code",
   "execution_count": 255,
   "id": "e56e7d23",
   "metadata": {},
   "outputs": [
    {
     "data": {
      "text/plain": [
       "count    878.000000\n",
       "mean       1.884966\n",
       "std       29.916672\n",
       "min        0.000000\n",
       "25%        0.000000\n",
       "50%        0.000000\n",
       "75%        0.000000\n",
       "max      555.000000\n",
       "Name: pool_area, dtype: float64"
      ]
     },
     "execution_count": 255,
     "metadata": {},
     "output_type": "execute_result"
    }
   ],
   "source": [
    "df.pool_area.describe()"
   ]
  },
  {
   "cell_type": "code",
   "execution_count": 256,
   "id": "0fe37a26",
   "metadata": {},
   "outputs": [
    {
     "data": {
      "text/plain": [
       "0"
      ]
     },
     "execution_count": 256,
     "metadata": {},
     "output_type": "execute_result"
    }
   ],
   "source": [
    "df.pool_area.isnull().sum()"
   ]
  },
  {
   "cell_type": "markdown",
   "id": "08f373b0",
   "metadata": {},
   "source": [
    "#### misc_val"
   ]
  },
  {
   "cell_type": "code",
   "execution_count": 257,
   "id": "1d077b7a",
   "metadata": {},
   "outputs": [
    {
     "data": {
      "text/plain": [
       "count      878.000000\n",
       "mean        48.498861\n",
       "std        550.169317\n",
       "min          0.000000\n",
       "25%          0.000000\n",
       "50%          0.000000\n",
       "75%          0.000000\n",
       "max      15500.000000\n",
       "Name: misc_val, dtype: float64"
      ]
     },
     "execution_count": 257,
     "metadata": {},
     "output_type": "execute_result"
    }
   ],
   "source": [
    "df.misc_val.describe()"
   ]
  },
  {
   "cell_type": "code",
   "execution_count": 258,
   "id": "50d71448",
   "metadata": {},
   "outputs": [
    {
     "data": {
      "text/plain": [
       "0"
      ]
     },
     "execution_count": 258,
     "metadata": {},
     "output_type": "execute_result"
    }
   ],
   "source": [
    "df.misc_val.isnull().sum()"
   ]
  },
  {
   "cell_type": "markdown",
   "id": "a54823d6",
   "metadata": {},
   "source": [
    "**Checking for dataframe as a whole now**"
   ]
  },
  {
   "cell_type": "code",
   "execution_count": 259,
   "id": "54b43f18",
   "metadata": {},
   "outputs": [
    {
     "name": "stdout",
     "output_type": "stream",
     "text": [
      "<class 'pandas.core.frame.DataFrame'>\n",
      "RangeIndex: 878 entries, 0 to 877\n",
      "Data columns (total 76 columns):\n",
      " #   Column           Non-Null Count  Dtype  \n",
      "---  ------           --------------  -----  \n",
      " 0   id               878 non-null    int64  \n",
      " 1   pid              878 non-null    int64  \n",
      " 2   ms_subclass      878 non-null    object \n",
      " 3   ms_zoning        878 non-null    object \n",
      " 4   lot_frontage     878 non-null    float64\n",
      " 5   lot_area         878 non-null    int64  \n",
      " 6   street           878 non-null    object \n",
      " 7   lot_shape        878 non-null    object \n",
      " 8   land_contour     878 non-null    object \n",
      " 9   utilities        878 non-null    object \n",
      " 10  lot_config       878 non-null    object \n",
      " 11  land_slope       878 non-null    object \n",
      " 12  neighborhood     878 non-null    object \n",
      " 13  condition_1      878 non-null    object \n",
      " 14  condition_2      878 non-null    object \n",
      " 15  bldg_type        878 non-null    object \n",
      " 16  house_style      878 non-null    object \n",
      " 17  overall_qual     878 non-null    int64  \n",
      " 18  overall_cond     878 non-null    int64  \n",
      " 19  year_built       878 non-null    int64  \n",
      " 20  year_remod/add   878 non-null    int64  \n",
      " 21  roof_style       878 non-null    object \n",
      " 22  roof_matl        878 non-null    object \n",
      " 23  exterior_1st     878 non-null    object \n",
      " 24  exterior_2nd     878 non-null    object \n",
      " 25  mas_vnr_type     877 non-null    object \n",
      " 26  mas_vnr_area     878 non-null    float64\n",
      " 27  exter_qual       878 non-null    object \n",
      " 28  exter_cond       878 non-null    object \n",
      " 29  foundation       878 non-null    object \n",
      " 30  bsmt_qual        853 non-null    object \n",
      " 31  bsmt_cond        853 non-null    object \n",
      " 32  bsmt_exposure    853 non-null    object \n",
      " 33  bsmtfin_type_1   853 non-null    object \n",
      " 34  bsmtfin_sf_1     878 non-null    int64  \n",
      " 35  bsmtfin_type_2   853 non-null    object \n",
      " 36  bsmtfin_sf_2     878 non-null    int64  \n",
      " 37  bsmt_unf_sf      878 non-null    int64  \n",
      " 38  total_bsmt_sf    878 non-null    int64  \n",
      " 39  heating          878 non-null    object \n",
      " 40  heating_qc       878 non-null    object \n",
      " 41  central_air      878 non-null    object \n",
      " 42  electrical       877 non-null    object \n",
      " 43  1st_flr_sf       878 non-null    int64  \n",
      " 44  flr2nd_sf        878 non-null    int64  \n",
      " 45  low_qual_fin_sf  878 non-null    int64  \n",
      " 46  gr_liv_area      878 non-null    int64  \n",
      " 47  bsmt_full_bath   878 non-null    int64  \n",
      " 48  bsmt_half_bath   878 non-null    int64  \n",
      " 49  full_bath        878 non-null    int64  \n",
      " 50  half_bath        878 non-null    int64  \n",
      " 51  bedroom_abvgr    878 non-null    int64  \n",
      " 52  kitchen_abvgr    878 non-null    int64  \n",
      " 53  kitchen_qual     878 non-null    object \n",
      " 54  totrms_abvgrd    878 non-null    int64  \n",
      " 55  functional       878 non-null    object \n",
      " 56  fireplaces       878 non-null    int64  \n",
      " 57  fireplace_qu     456 non-null    object \n",
      " 58  garage_type      834 non-null    object \n",
      " 59  garage_yr_blt    878 non-null    float64\n",
      " 60  garage_finish    833 non-null    object \n",
      " 61  garage_cars      878 non-null    int64  \n",
      " 62  garage_area      878 non-null    int64  \n",
      " 63  garage_qual      833 non-null    object \n",
      " 64  garage_cond      833 non-null    object \n",
      " 65  paved_drive      878 non-null    object \n",
      " 66  wood_deck_sf     878 non-null    int64  \n",
      " 67  open_porch_sf    878 non-null    int64  \n",
      " 68  enclosed_porch   878 non-null    int64  \n",
      " 69  ssn3_porch       878 non-null    int64  \n",
      " 70  screen_porch     878 non-null    int64  \n",
      " 71  pool_area        878 non-null    int64  \n",
      " 72  misc_val         878 non-null    int64  \n",
      " 73  mo_sold          878 non-null    int64  \n",
      " 74  yr_sold          878 non-null    int64  \n",
      " 75  sale_type        878 non-null    object \n",
      "dtypes: float64(3), int64(34), object(39)\n",
      "memory usage: 521.4+ KB\n"
     ]
    }
   ],
   "source": [
    "df.info()"
   ]
  },
  {
   "cell_type": "markdown",
   "id": "2ea71a3a",
   "metadata": {},
   "source": [
    "**Need for imputation for missing values in columns**"
   ]
  },
  {
   "cell_type": "code",
   "execution_count": 261,
   "id": "aab0d654",
   "metadata": {},
   "outputs": [],
   "source": [
    "from sklearn.impute import SimpleImputer\n",
    "imp_most_frequent = SimpleImputer(strategy= \"most_frequent\")\n",
    "#using most frequent strategy in SImpleImputer()"
   ]
  },
  {
   "cell_type": "code",
   "execution_count": 262,
   "id": "09d7aaeb",
   "metadata": {},
   "outputs": [
    {
     "data": {
      "text/plain": [
       "mas_vnr_type    0\n",
       "garage_type     0\n",
       "dtype: int64"
      ]
     },
     "execution_count": 262,
     "metadata": {},
     "output_type": "execute_result"
    }
   ],
   "source": [
    "nominal_nan= ['mas_vnr_type','garage_type']\n",
    "df[nominal_nan] = pd.DataFrame(imp_most_frequent.fit_transform(df[nominal_nan]),\n",
    "                       columns=nominal_nan)\n",
    "#imputing and saving back\n",
    "df[nominal_nan].isnull().sum()"
   ]
  },
  {
   "cell_type": "code",
   "execution_count": 267,
   "id": "4015cf6d",
   "metadata": {},
   "outputs": [],
   "source": [
    "ordinal_nan= ['bsmt_qual','bsmt_cond','bsmt_exposure','bsmtfin_type_1','bsmtfin_type_2','electrical','garage_finish','garage_qual','garage_cond','fireplace_qu']"
   ]
  },
  {
   "cell_type": "code",
   "execution_count": 268,
   "id": "9056a424",
   "metadata": {},
   "outputs": [
    {
     "data": {
      "text/plain": [
       "bsmt_qual         0\n",
       "bsmt_cond         0\n",
       "bsmt_exposure     0\n",
       "bsmtfin_type_1    0\n",
       "bsmtfin_type_2    0\n",
       "electrical        0\n",
       "garage_finish     0\n",
       "garage_qual       0\n",
       "garage_cond       0\n",
       "fireplace_qu      0\n",
       "dtype: int64"
      ]
     },
     "execution_count": 268,
     "metadata": {},
     "output_type": "execute_result"
    }
   ],
   "source": [
    "df[ordinal_nan] = pd.DataFrame(imp_most_frequent.fit_transform(df[ordinal_nan]),\n",
    "                       columns=ordinal_nan)\n",
    "#imputing and saving back\n",
    "df[ordinal_nan].isnull().sum()"
   ]
  },
  {
   "cell_type": "code",
   "execution_count": 269,
   "id": "f4527962",
   "metadata": {},
   "outputs": [
    {
     "name": "stdout",
     "output_type": "stream",
     "text": [
      "<class 'pandas.core.frame.DataFrame'>\n",
      "RangeIndex: 878 entries, 0 to 877\n",
      "Data columns (total 76 columns):\n",
      " #   Column           Non-Null Count  Dtype  \n",
      "---  ------           --------------  -----  \n",
      " 0   id               878 non-null    int64  \n",
      " 1   pid              878 non-null    int64  \n",
      " 2   ms_subclass      878 non-null    object \n",
      " 3   ms_zoning        878 non-null    object \n",
      " 4   lot_frontage     878 non-null    float64\n",
      " 5   lot_area         878 non-null    int64  \n",
      " 6   street           878 non-null    object \n",
      " 7   lot_shape        878 non-null    object \n",
      " 8   land_contour     878 non-null    object \n",
      " 9   utilities        878 non-null    object \n",
      " 10  lot_config       878 non-null    object \n",
      " 11  land_slope       878 non-null    object \n",
      " 12  neighborhood     878 non-null    object \n",
      " 13  condition_1      878 non-null    object \n",
      " 14  condition_2      878 non-null    object \n",
      " 15  bldg_type        878 non-null    object \n",
      " 16  house_style      878 non-null    object \n",
      " 17  overall_qual     878 non-null    int64  \n",
      " 18  overall_cond     878 non-null    int64  \n",
      " 19  year_built       878 non-null    int64  \n",
      " 20  year_remod/add   878 non-null    int64  \n",
      " 21  roof_style       878 non-null    object \n",
      " 22  roof_matl        878 non-null    object \n",
      " 23  exterior_1st     878 non-null    object \n",
      " 24  exterior_2nd     878 non-null    object \n",
      " 25  mas_vnr_type     878 non-null    object \n",
      " 26  mas_vnr_area     878 non-null    float64\n",
      " 27  exter_qual       878 non-null    object \n",
      " 28  exter_cond       878 non-null    object \n",
      " 29  foundation       878 non-null    object \n",
      " 30  bsmt_qual        878 non-null    object \n",
      " 31  bsmt_cond        878 non-null    object \n",
      " 32  bsmt_exposure    878 non-null    object \n",
      " 33  bsmtfin_type_1   878 non-null    object \n",
      " 34  bsmtfin_sf_1     878 non-null    int64  \n",
      " 35  bsmtfin_type_2   878 non-null    object \n",
      " 36  bsmtfin_sf_2     878 non-null    int64  \n",
      " 37  bsmt_unf_sf      878 non-null    int64  \n",
      " 38  total_bsmt_sf    878 non-null    int64  \n",
      " 39  heating          878 non-null    object \n",
      " 40  heating_qc       878 non-null    object \n",
      " 41  central_air      878 non-null    object \n",
      " 42  electrical       878 non-null    object \n",
      " 43  1st_flr_sf       878 non-null    int64  \n",
      " 44  flr2nd_sf        878 non-null    int64  \n",
      " 45  low_qual_fin_sf  878 non-null    int64  \n",
      " 46  gr_liv_area      878 non-null    int64  \n",
      " 47  bsmt_full_bath   878 non-null    int64  \n",
      " 48  bsmt_half_bath   878 non-null    int64  \n",
      " 49  full_bath        878 non-null    int64  \n",
      " 50  half_bath        878 non-null    int64  \n",
      " 51  bedroom_abvgr    878 non-null    int64  \n",
      " 52  kitchen_abvgr    878 non-null    int64  \n",
      " 53  kitchen_qual     878 non-null    object \n",
      " 54  totrms_abvgrd    878 non-null    int64  \n",
      " 55  functional       878 non-null    object \n",
      " 56  fireplaces       878 non-null    int64  \n",
      " 57  fireplace_qu     878 non-null    object \n",
      " 58  garage_type      878 non-null    object \n",
      " 59  garage_yr_blt    878 non-null    float64\n",
      " 60  garage_finish    878 non-null    object \n",
      " 61  garage_cars      878 non-null    int64  \n",
      " 62  garage_area      878 non-null    int64  \n",
      " 63  garage_qual      878 non-null    object \n",
      " 64  garage_cond      878 non-null    object \n",
      " 65  paved_drive      878 non-null    object \n",
      " 66  wood_deck_sf     878 non-null    int64  \n",
      " 67  open_porch_sf    878 non-null    int64  \n",
      " 68  enclosed_porch   878 non-null    int64  \n",
      " 69  ssn3_porch       878 non-null    int64  \n",
      " 70  screen_porch     878 non-null    int64  \n",
      " 71  pool_area        878 non-null    int64  \n",
      " 72  misc_val         878 non-null    int64  \n",
      " 73  mo_sold          878 non-null    int64  \n",
      " 74  yr_sold          878 non-null    int64  \n",
      " 75  sale_type        878 non-null    object \n",
      "dtypes: float64(3), int64(34), object(39)\n",
      "memory usage: 521.4+ KB\n"
     ]
    }
   ],
   "source": [
    "df.info()"
   ]
  },
  {
   "cell_type": "code",
   "execution_count": 271,
   "id": "3e35bec5",
   "metadata": {},
   "outputs": [],
   "source": [
    "df.drop(columns='id',inplace=True)"
   ]
  },
  {
   "cell_type": "code",
   "execution_count": 272,
   "id": "7b5e3af7",
   "metadata": {},
   "outputs": [],
   "source": [
    "df.to_csv('datasets/Test_Data_Cleaned_All_Features.csv',index=False)"
   ]
  },
  {
   "cell_type": "code",
   "execution_count": null,
   "id": "914ef526",
   "metadata": {},
   "outputs": [],
   "source": []
  }
 ],
 "metadata": {
  "kernelspec": {
   "display_name": "Python 3 (ipykernel)",
   "language": "python",
   "name": "python3"
  },
  "language_info": {
   "codemirror_mode": {
    "name": "ipython",
    "version": 3
   },
   "file_extension": ".py",
   "mimetype": "text/x-python",
   "name": "python",
   "nbconvert_exporter": "python",
   "pygments_lexer": "ipython3",
   "version": "3.9.7"
  },
  "toc": {
   "base_numbering": 1,
   "nav_menu": {},
   "number_sections": true,
   "sideBar": true,
   "skip_h1_title": false,
   "title_cell": "Table of Contents",
   "title_sidebar": "Contents",
   "toc_cell": false,
   "toc_position": {},
   "toc_section_display": true,
   "toc_window_display": false
  }
 },
 "nbformat": 4,
 "nbformat_minor": 5
}
