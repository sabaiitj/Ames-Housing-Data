{
 "cells": [
  {
   "cell_type": "code",
   "execution_count": 7,
   "id": "e9bc3c01",
   "metadata": {},
   "outputs": [],
   "source": [
    "import pandas as pd\n",
    "import seaborn as sns\n",
    "import matplotlib.pyplot as plt\n",
    "import numpy as np"
   ]
  },
  {
   "cell_type": "code",
   "execution_count": 8,
   "id": "22154dab",
   "metadata": {},
   "outputs": [],
   "source": [
    "df = pd.read_csv('datasets/test.csv')"
   ]
  },
  {
   "cell_type": "code",
   "execution_count": 9,
   "id": "33f74d3b",
   "metadata": {},
   "outputs": [
    {
     "data": {
      "text/html": [
       "<div>\n",
       "<style scoped>\n",
       "    .dataframe tbody tr th:only-of-type {\n",
       "        vertical-align: middle;\n",
       "    }\n",
       "\n",
       "    .dataframe tbody tr th {\n",
       "        vertical-align: top;\n",
       "    }\n",
       "\n",
       "    .dataframe thead th {\n",
       "        text-align: right;\n",
       "    }\n",
       "</style>\n",
       "<table border=\"1\" class=\"dataframe\">\n",
       "  <thead>\n",
       "    <tr style=\"text-align: right;\">\n",
       "      <th></th>\n",
       "      <th>Id</th>\n",
       "      <th>PID</th>\n",
       "      <th>MS SubClass</th>\n",
       "      <th>MS Zoning</th>\n",
       "      <th>Lot Frontage</th>\n",
       "      <th>Lot Area</th>\n",
       "      <th>Street</th>\n",
       "      <th>Alley</th>\n",
       "      <th>Lot Shape</th>\n",
       "      <th>Land Contour</th>\n",
       "      <th>...</th>\n",
       "      <th>3Ssn Porch</th>\n",
       "      <th>Screen Porch</th>\n",
       "      <th>Pool Area</th>\n",
       "      <th>Pool QC</th>\n",
       "      <th>Fence</th>\n",
       "      <th>Misc Feature</th>\n",
       "      <th>Misc Val</th>\n",
       "      <th>Mo Sold</th>\n",
       "      <th>Yr Sold</th>\n",
       "      <th>Sale Type</th>\n",
       "    </tr>\n",
       "  </thead>\n",
       "  <tbody>\n",
       "    <tr>\n",
       "      <th>0</th>\n",
       "      <td>2658</td>\n",
       "      <td>902301120</td>\n",
       "      <td>190</td>\n",
       "      <td>RM</td>\n",
       "      <td>69.0</td>\n",
       "      <td>9142</td>\n",
       "      <td>Pave</td>\n",
       "      <td>Grvl</td>\n",
       "      <td>Reg</td>\n",
       "      <td>Lvl</td>\n",
       "      <td>...</td>\n",
       "      <td>0</td>\n",
       "      <td>0</td>\n",
       "      <td>0</td>\n",
       "      <td>NaN</td>\n",
       "      <td>NaN</td>\n",
       "      <td>NaN</td>\n",
       "      <td>0</td>\n",
       "      <td>4</td>\n",
       "      <td>2006</td>\n",
       "      <td>WD</td>\n",
       "    </tr>\n",
       "    <tr>\n",
       "      <th>1</th>\n",
       "      <td>2718</td>\n",
       "      <td>905108090</td>\n",
       "      <td>90</td>\n",
       "      <td>RL</td>\n",
       "      <td>NaN</td>\n",
       "      <td>9662</td>\n",
       "      <td>Pave</td>\n",
       "      <td>NaN</td>\n",
       "      <td>IR1</td>\n",
       "      <td>Lvl</td>\n",
       "      <td>...</td>\n",
       "      <td>0</td>\n",
       "      <td>0</td>\n",
       "      <td>0</td>\n",
       "      <td>NaN</td>\n",
       "      <td>NaN</td>\n",
       "      <td>NaN</td>\n",
       "      <td>0</td>\n",
       "      <td>8</td>\n",
       "      <td>2006</td>\n",
       "      <td>WD</td>\n",
       "    </tr>\n",
       "    <tr>\n",
       "      <th>2</th>\n",
       "      <td>2414</td>\n",
       "      <td>528218130</td>\n",
       "      <td>60</td>\n",
       "      <td>RL</td>\n",
       "      <td>58.0</td>\n",
       "      <td>17104</td>\n",
       "      <td>Pave</td>\n",
       "      <td>NaN</td>\n",
       "      <td>IR1</td>\n",
       "      <td>Lvl</td>\n",
       "      <td>...</td>\n",
       "      <td>0</td>\n",
       "      <td>0</td>\n",
       "      <td>0</td>\n",
       "      <td>NaN</td>\n",
       "      <td>NaN</td>\n",
       "      <td>NaN</td>\n",
       "      <td>0</td>\n",
       "      <td>9</td>\n",
       "      <td>2006</td>\n",
       "      <td>New</td>\n",
       "    </tr>\n",
       "    <tr>\n",
       "      <th>3</th>\n",
       "      <td>1989</td>\n",
       "      <td>902207150</td>\n",
       "      <td>30</td>\n",
       "      <td>RM</td>\n",
       "      <td>60.0</td>\n",
       "      <td>8520</td>\n",
       "      <td>Pave</td>\n",
       "      <td>NaN</td>\n",
       "      <td>Reg</td>\n",
       "      <td>Lvl</td>\n",
       "      <td>...</td>\n",
       "      <td>0</td>\n",
       "      <td>0</td>\n",
       "      <td>0</td>\n",
       "      <td>NaN</td>\n",
       "      <td>NaN</td>\n",
       "      <td>NaN</td>\n",
       "      <td>0</td>\n",
       "      <td>7</td>\n",
       "      <td>2007</td>\n",
       "      <td>WD</td>\n",
       "    </tr>\n",
       "    <tr>\n",
       "      <th>4</th>\n",
       "      <td>625</td>\n",
       "      <td>535105100</td>\n",
       "      <td>20</td>\n",
       "      <td>RL</td>\n",
       "      <td>NaN</td>\n",
       "      <td>9500</td>\n",
       "      <td>Pave</td>\n",
       "      <td>NaN</td>\n",
       "      <td>IR1</td>\n",
       "      <td>Lvl</td>\n",
       "      <td>...</td>\n",
       "      <td>0</td>\n",
       "      <td>185</td>\n",
       "      <td>0</td>\n",
       "      <td>NaN</td>\n",
       "      <td>NaN</td>\n",
       "      <td>NaN</td>\n",
       "      <td>0</td>\n",
       "      <td>7</td>\n",
       "      <td>2009</td>\n",
       "      <td>WD</td>\n",
       "    </tr>\n",
       "  </tbody>\n",
       "</table>\n",
       "<p>5 rows × 80 columns</p>\n",
       "</div>"
      ],
      "text/plain": [
       "     Id        PID  MS SubClass MS Zoning  Lot Frontage  Lot Area Street  \\\n",
       "0  2658  902301120          190        RM          69.0      9142   Pave   \n",
       "1  2718  905108090           90        RL           NaN      9662   Pave   \n",
       "2  2414  528218130           60        RL          58.0     17104   Pave   \n",
       "3  1989  902207150           30        RM          60.0      8520   Pave   \n",
       "4   625  535105100           20        RL           NaN      9500   Pave   \n",
       "\n",
       "  Alley Lot Shape Land Contour  ... 3Ssn Porch Screen Porch Pool Area Pool QC  \\\n",
       "0  Grvl       Reg          Lvl  ...          0            0         0     NaN   \n",
       "1   NaN       IR1          Lvl  ...          0            0         0     NaN   \n",
       "2   NaN       IR1          Lvl  ...          0            0         0     NaN   \n",
       "3   NaN       Reg          Lvl  ...          0            0         0     NaN   \n",
       "4   NaN       IR1          Lvl  ...          0          185         0     NaN   \n",
       "\n",
       "  Fence Misc Feature Misc Val Mo Sold  Yr Sold  Sale Type  \n",
       "0   NaN          NaN        0       4     2006        WD   \n",
       "1   NaN          NaN        0       8     2006        WD   \n",
       "2   NaN          NaN        0       9     2006        New  \n",
       "3   NaN          NaN        0       7     2007        WD   \n",
       "4   NaN          NaN        0       7     2009        WD   \n",
       "\n",
       "[5 rows x 80 columns]"
      ]
     },
     "execution_count": 9,
     "metadata": {},
     "output_type": "execute_result"
    }
   ],
   "source": [
    "df.head()"
   ]
  },
  {
   "cell_type": "code",
   "execution_count": 10,
   "id": "324bac9e",
   "metadata": {},
   "outputs": [
    {
     "data": {
      "text/plain": [
       "Index(['Id', 'PID', 'MS SubClass', 'MS Zoning', 'Lot Frontage', 'Lot Area',\n",
       "       'Street', 'Alley', 'Lot Shape', 'Land Contour', 'Utilities',\n",
       "       'Lot Config', 'Land Slope', 'Neighborhood', 'Condition 1',\n",
       "       'Condition 2', 'Bldg Type', 'House Style', 'Overall Qual',\n",
       "       'Overall Cond', 'Year Built', 'Year Remod/Add', 'Roof Style',\n",
       "       'Roof Matl', 'Exterior 1st', 'Exterior 2nd', 'Mas Vnr Type',\n",
       "       'Mas Vnr Area', 'Exter Qual', 'Exter Cond', 'Foundation', 'Bsmt Qual',\n",
       "       'Bsmt Cond', 'Bsmt Exposure', 'BsmtFin Type 1', 'BsmtFin SF 1',\n",
       "       'BsmtFin Type 2', 'BsmtFin SF 2', 'Bsmt Unf SF', 'Total Bsmt SF',\n",
       "       'Heating', 'Heating QC', 'Central Air', 'Electrical', '1st Flr SF',\n",
       "       '2nd Flr SF', 'Low Qual Fin SF', 'Gr Liv Area', 'Bsmt Full Bath',\n",
       "       'Bsmt Half Bath', 'Full Bath', 'Half Bath', 'Bedroom AbvGr',\n",
       "       'Kitchen AbvGr', 'Kitchen Qual', 'TotRms AbvGrd', 'Functional',\n",
       "       'Fireplaces', 'Fireplace Qu', 'Garage Type', 'Garage Yr Blt',\n",
       "       'Garage Finish', 'Garage Cars', 'Garage Area', 'Garage Qual',\n",
       "       'Garage Cond', 'Paved Drive', 'Wood Deck SF', 'Open Porch SF',\n",
       "       'Enclosed Porch', '3Ssn Porch', 'Screen Porch', 'Pool Area', 'Pool QC',\n",
       "       'Fence', 'Misc Feature', 'Misc Val', 'Mo Sold', 'Yr Sold', 'Sale Type'],\n",
       "      dtype='object')"
      ]
     },
     "execution_count": 10,
     "metadata": {},
     "output_type": "execute_result"
    }
   ],
   "source": [
    "df.columns"
   ]
  },
  {
   "cell_type": "code",
   "execution_count": 11,
   "id": "eaa15d4f",
   "metadata": {},
   "outputs": [],
   "source": [
    "df.columns = [col.lower().replace(' ','_') for col in df.columns]"
   ]
  },
  {
   "cell_type": "code",
   "execution_count": 12,
   "id": "b825b82d",
   "metadata": {},
   "outputs": [],
   "source": [
    "df.rename(columns={'3ssn_porch':'ssn3_porch', \n",
    "                   '2nd_flr_sf': 'flr2nd_sf'},inplace=True)"
   ]
  },
  {
   "cell_type": "code",
   "execution_count": 13,
   "id": "8acb9b7b",
   "metadata": {},
   "outputs": [
    {
     "data": {
      "text/plain": [
       "Index(['id', 'pid', 'ms_subclass', 'ms_zoning', 'lot_frontage', 'lot_area',\n",
       "       'street', 'alley', 'lot_shape', 'land_contour', 'utilities',\n",
       "       'lot_config', 'land_slope', 'neighborhood', 'condition_1',\n",
       "       'condition_2', 'bldg_type', 'house_style', 'overall_qual',\n",
       "       'overall_cond', 'year_built', 'year_remod/add', 'roof_style',\n",
       "       'roof_matl', 'exterior_1st', 'exterior_2nd', 'mas_vnr_type',\n",
       "       'mas_vnr_area', 'exter_qual', 'exter_cond', 'foundation', 'bsmt_qual',\n",
       "       'bsmt_cond', 'bsmt_exposure', 'bsmtfin_type_1', 'bsmtfin_sf_1',\n",
       "       'bsmtfin_type_2', 'bsmtfin_sf_2', 'bsmt_unf_sf', 'total_bsmt_sf',\n",
       "       'heating', 'heating_qc', 'central_air', 'electrical', '1st_flr_sf',\n",
       "       'flr2nd_sf', 'low_qual_fin_sf', 'gr_liv_area', 'bsmt_full_bath',\n",
       "       'bsmt_half_bath', 'full_bath', 'half_bath', 'bedroom_abvgr',\n",
       "       'kitchen_abvgr', 'kitchen_qual', 'totrms_abvgrd', 'functional',\n",
       "       'fireplaces', 'fireplace_qu', 'garage_type', 'garage_yr_blt',\n",
       "       'garage_finish', 'garage_cars', 'garage_area', 'garage_qual',\n",
       "       'garage_cond', 'paved_drive', 'wood_deck_sf', 'open_porch_sf',\n",
       "       'enclosed_porch', 'ssn3_porch', 'screen_porch', 'pool_area', 'pool_qc',\n",
       "       'fence', 'misc_feature', 'misc_val', 'mo_sold', 'yr_sold', 'sale_type'],\n",
       "      dtype='object')"
      ]
     },
     "execution_count": 13,
     "metadata": {},
     "output_type": "execute_result"
    }
   ],
   "source": [
    "df.columns"
   ]
  },
  {
   "cell_type": "code",
   "execution_count": 14,
   "id": "054b7470",
   "metadata": {},
   "outputs": [
    {
     "data": {
      "text/plain": [
       "4171"
      ]
     },
     "execution_count": 14,
     "metadata": {},
     "output_type": "execute_result"
    }
   ],
   "source": [
    "df.isnull().sum().sum() "
   ]
  },
  {
   "cell_type": "code",
   "execution_count": 15,
   "id": "eb5bc27c",
   "metadata": {},
   "outputs": [
    {
     "data": {
      "text/plain": [
       "(878, 80)"
      ]
     },
     "execution_count": 15,
     "metadata": {},
     "output_type": "execute_result"
    }
   ],
   "source": [
    "df.shape"
   ]
  },
  {
   "cell_type": "code",
   "execution_count": 16,
   "id": "59ff7bf2",
   "metadata": {},
   "outputs": [],
   "source": [
    "#from data dictionary provided\n",
    "values_for_ms_subclass = ('020','030','040','045','045','050','060','070','075','080','085','090','120','150','160','180','190')"
   ]
  },
  {
   "cell_type": "code",
   "execution_count": 17,
   "id": "91bd74ee",
   "metadata": {},
   "outputs": [],
   "source": [
    "df.ms_subclass = [str(entry) for entry in df.ms_subclass]"
   ]
  },
  {
   "cell_type": "code",
   "execution_count": 18,
   "id": "c7492e77",
   "metadata": {},
   "outputs": [],
   "source": [
    "df.ms_subclass = ['0'+ entry if len(entry)==2 else entry for entry in df.ms_subclass]"
   ]
  },
  {
   "cell_type": "code",
   "execution_count": 19,
   "id": "3189d4c7",
   "metadata": {},
   "outputs": [
    {
     "data": {
      "text/plain": [
       "array(['190', '090', '060', '030', '020', '160', '120', '070', '080',\n",
       "       '050', '085', '045', '075', '180', '040'], dtype=object)"
      ]
     },
     "execution_count": 19,
     "metadata": {},
     "output_type": "execute_result"
    }
   ],
   "source": [
    "df.ms_subclass.unique()"
   ]
  },
  {
   "cell_type": "code",
   "execution_count": 20,
   "id": "fa545d6f",
   "metadata": {},
   "outputs": [],
   "source": [
    "dict_mszoning = {'C (all)':'C', \n",
    "                 'A (agr)':'A',\n",
    "                 'I (all)':'I',\n",
    "                 'RL':'RL',\n",
    "                 'RM':'RM',\n",
    "                 'FV':'FV',\n",
    "                 'RH':'RH'}"
   ]
  },
  {
   "cell_type": "code",
   "execution_count": 21,
   "id": "2f1525d6",
   "metadata": {},
   "outputs": [],
   "source": [
    "df.ms_zoning = [dict_mszoning[entry] for entry in df.ms_zoning]#cleaned entries "
   ]
  },
  {
   "cell_type": "code",
   "execution_count": 22,
   "id": "9d2ef4b9",
   "metadata": {},
   "outputs": [
    {
     "data": {
      "text/plain": [
       "RL    674\n",
       "RM    146\n",
       "FV     38\n",
       "RH     13\n",
       "C       6\n",
       "I       1\n",
       "Name: ms_zoning, dtype: int64"
      ]
     },
     "execution_count": 22,
     "metadata": {},
     "output_type": "execute_result"
    }
   ],
   "source": [
    "df.ms_zoning.value_counts(dropna=False)"
   ]
  },
  {
   "cell_type": "code",
   "execution_count": 23,
   "id": "005e0b2b",
   "metadata": {},
   "outputs": [],
   "source": [
    "df.lot_frontage.interpolate(method='nearest',inplace=True)"
   ]
  },
  {
   "cell_type": "code",
   "execution_count": 24,
   "id": "a7260143",
   "metadata": {},
   "outputs": [
    {
     "data": {
      "text/plain": [
       "60.0     120\n",
       "80.0      50\n",
       "70.0      47\n",
       "75.0      45\n",
       "85.0      32\n",
       "        ... \n",
       "101.0      1\n",
       "113.0      1\n",
       "152.0      1\n",
       "30.0       1\n",
       "182.0      1\n",
       "Name: lot_frontage, Length: 104, dtype: int64"
      ]
     },
     "execution_count": 24,
     "metadata": {},
     "output_type": "execute_result"
    }
   ],
   "source": [
    "df.lot_frontage.value_counts(dropna=False)"
   ]
  },
  {
   "cell_type": "code",
   "execution_count": 25,
   "id": "cfc7df77",
   "metadata": {},
   "outputs": [
    {
     "data": {
      "text/plain": [
       "0"
      ]
     },
     "execution_count": 25,
     "metadata": {},
     "output_type": "execute_result"
    }
   ],
   "source": [
    "df.lot_area.isnull().sum()"
   ]
  },
  {
   "cell_type": "code",
   "execution_count": 26,
   "id": "56901ded",
   "metadata": {},
   "outputs": [
    {
     "data": {
      "text/html": [
       "<div>\n",
       "<style scoped>\n",
       "    .dataframe tbody tr th:only-of-type {\n",
       "        vertical-align: middle;\n",
       "    }\n",
       "\n",
       "    .dataframe tbody tr th {\n",
       "        vertical-align: top;\n",
       "    }\n",
       "\n",
       "    .dataframe thead th {\n",
       "        text-align: right;\n",
       "    }\n",
       "</style>\n",
       "<table border=\"1\" class=\"dataframe\">\n",
       "  <thead>\n",
       "    <tr style=\"text-align: right;\">\n",
       "      <th></th>\n",
       "      <th>id</th>\n",
       "      <th>pid</th>\n",
       "      <th>ms_subclass</th>\n",
       "      <th>ms_zoning</th>\n",
       "      <th>lot_frontage</th>\n",
       "      <th>lot_area</th>\n",
       "      <th>street</th>\n",
       "      <th>alley</th>\n",
       "      <th>lot_shape</th>\n",
       "      <th>land_contour</th>\n",
       "      <th>...</th>\n",
       "      <th>ssn3_porch</th>\n",
       "      <th>screen_porch</th>\n",
       "      <th>pool_area</th>\n",
       "      <th>pool_qc</th>\n",
       "      <th>fence</th>\n",
       "      <th>misc_feature</th>\n",
       "      <th>misc_val</th>\n",
       "      <th>mo_sold</th>\n",
       "      <th>yr_sold</th>\n",
       "      <th>sale_type</th>\n",
       "    </tr>\n",
       "  </thead>\n",
       "  <tbody>\n",
       "  </tbody>\n",
       "</table>\n",
       "<p>0 rows × 80 columns</p>\n",
       "</div>"
      ],
      "text/plain": [
       "Empty DataFrame\n",
       "Columns: [id, pid, ms_subclass, ms_zoning, lot_frontage, lot_area, street, alley, lot_shape, land_contour, utilities, lot_config, land_slope, neighborhood, condition_1, condition_2, bldg_type, house_style, overall_qual, overall_cond, year_built, year_remod/add, roof_style, roof_matl, exterior_1st, exterior_2nd, mas_vnr_type, mas_vnr_area, exter_qual, exter_cond, foundation, bsmt_qual, bsmt_cond, bsmt_exposure, bsmtfin_type_1, bsmtfin_sf_1, bsmtfin_type_2, bsmtfin_sf_2, bsmt_unf_sf, total_bsmt_sf, heating, heating_qc, central_air, electrical, 1st_flr_sf, flr2nd_sf, low_qual_fin_sf, gr_liv_area, bsmt_full_bath, bsmt_half_bath, full_bath, half_bath, bedroom_abvgr, kitchen_abvgr, kitchen_qual, totrms_abvgrd, functional, fireplaces, fireplace_qu, garage_type, garage_yr_blt, garage_finish, garage_cars, garage_area, garage_qual, garage_cond, paved_drive, wood_deck_sf, open_porch_sf, enclosed_porch, ssn3_porch, screen_porch, pool_area, pool_qc, fence, misc_feature, misc_val, mo_sold, yr_sold, sale_type]\n",
       "Index: []\n",
       "\n",
       "[0 rows x 80 columns]"
      ]
     },
     "execution_count": 26,
     "metadata": {},
     "output_type": "execute_result"
    }
   ],
   "source": [
    "df[df.lot_area<0]"
   ]
  },
  {
   "cell_type": "code",
   "execution_count": 27,
   "id": "730c2dc8",
   "metadata": {},
   "outputs": [
    {
     "data": {
      "text/plain": [
       "0      0.0\n",
       "1      0.0\n",
       "2      0.0\n",
       "3      0.0\n",
       "5      0.0\n",
       "      ... \n",
       "872    0.0\n",
       "873    0.0\n",
       "875    0.0\n",
       "876    0.0\n",
       "877    0.0\n",
       "Name: mas_vnr_area, Length: 532, dtype: float64"
      ]
     },
     "execution_count": 27,
     "metadata": {},
     "output_type": "execute_result"
    }
   ],
   "source": [
    "df[df.mas_vnr_area==0]['mas_vnr_area']"
   ]
  },
  {
   "cell_type": "code",
   "execution_count": 28,
   "id": "7fc76575",
   "metadata": {},
   "outputs": [],
   "source": [
    "df.mas_vnr_area.interpolate(method='nearest',inplace=True)"
   ]
  },
  {
   "cell_type": "code",
   "execution_count": 29,
   "id": "1c940bb4",
   "metadata": {},
   "outputs": [
    {
     "data": {
      "text/plain": [
       "0"
      ]
     },
     "execution_count": 29,
     "metadata": {},
     "output_type": "execute_result"
    }
   ],
   "source": [
    "df['1st_flr_sf'].isnull().sum()"
   ]
  },
  {
   "cell_type": "code",
   "execution_count": 30,
   "id": "f1664aa4",
   "metadata": {},
   "outputs": [
    {
     "data": {
      "text/plain": [
       "0"
      ]
     },
     "execution_count": 30,
     "metadata": {},
     "output_type": "execute_result"
    }
   ],
   "source": [
    "df.flr2nd_sf.isnull().sum()"
   ]
  },
  {
   "cell_type": "code",
   "execution_count": 31,
   "id": "f85a675f",
   "metadata": {},
   "outputs": [
    {
     "data": {
      "text/plain": [
       "0"
      ]
     },
     "execution_count": 31,
     "metadata": {},
     "output_type": "execute_result"
    }
   ],
   "source": [
    "df.gr_liv_area.isnull().sum()"
   ]
  },
  {
   "cell_type": "code",
   "execution_count": 32,
   "id": "67d66935",
   "metadata": {},
   "outputs": [
    {
     "data": {
      "text/plain": [
       "0"
      ]
     },
     "execution_count": 32,
     "metadata": {},
     "output_type": "execute_result"
    }
   ],
   "source": [
    "df.garage_area.isnull().sum()"
   ]
  },
  {
   "cell_type": "code",
   "execution_count": 33,
   "id": "d6d0f8c7",
   "metadata": {},
   "outputs": [
    {
     "data": {
      "text/plain": [
       "0"
      ]
     },
     "execution_count": 33,
     "metadata": {},
     "output_type": "execute_result"
    }
   ],
   "source": [
    "df.open_porch_sf.isnull().sum()"
   ]
  },
  {
   "cell_type": "code",
   "execution_count": 34,
   "id": "0288aac0",
   "metadata": {},
   "outputs": [
    {
     "data": {
      "text/plain": [
       "0"
      ]
     },
     "execution_count": 34,
     "metadata": {},
     "output_type": "execute_result"
    }
   ],
   "source": [
    "df.total_bsmt_sf.isnull().sum()"
   ]
  },
  {
   "cell_type": "code",
   "execution_count": 35,
   "id": "9fd7e5b0",
   "metadata": {},
   "outputs": [],
   "source": [
    "df['area_sf']= df['1st_flr_sf']+ df.flr2nd_sf - df.gr_liv_area - df.garage_area + df.open_porch_sf + df.total_bsmt_sf"
   ]
  },
  {
   "cell_type": "code",
   "execution_count": 36,
   "id": "412bb76e",
   "metadata": {},
   "outputs": [
    {
     "data": {
      "text/plain": [
       "0"
      ]
     },
     "execution_count": 36,
     "metadata": {},
     "output_type": "execute_result"
    }
   ],
   "source": [
    "df.full_bath.isnull().sum()"
   ]
  },
  {
   "cell_type": "code",
   "execution_count": 37,
   "id": "f00b3a75",
   "metadata": {},
   "outputs": [
    {
     "data": {
      "text/plain": [
       "0"
      ]
     },
     "execution_count": 37,
     "metadata": {},
     "output_type": "execute_result"
    }
   ],
   "source": [
    "df.half_bath.isnull().sum()"
   ]
  },
  {
   "cell_type": "code",
   "execution_count": 38,
   "id": "634f261a",
   "metadata": {},
   "outputs": [],
   "source": [
    "df['tot_bath']=df.full_bath+0.5*df.half_bath"
   ]
  },
  {
   "cell_type": "code",
   "execution_count": 39,
   "id": "7dcb4c48",
   "metadata": {},
   "outputs": [
    {
     "data": {
      "text/plain": [
       "0"
      ]
     },
     "execution_count": 39,
     "metadata": {},
     "output_type": "execute_result"
    }
   ],
   "source": [
    "df.bsmt_full_bath.isnull().sum()"
   ]
  },
  {
   "cell_type": "code",
   "execution_count": 40,
   "id": "3e1dd8df",
   "metadata": {},
   "outputs": [
    {
     "data": {
      "text/plain": [
       "0"
      ]
     },
     "execution_count": 40,
     "metadata": {},
     "output_type": "execute_result"
    }
   ],
   "source": [
    "df.bsmt_half_bath.isnull().sum()"
   ]
  },
  {
   "cell_type": "code",
   "execution_count": 41,
   "id": "5cc3090c",
   "metadata": {},
   "outputs": [],
   "source": [
    "df['bsmt_bath']=df.bsmt_full_bath + 0.5*df.bsmt_half_bath"
   ]
  },
  {
   "cell_type": "code",
   "execution_count": 42,
   "id": "67002495",
   "metadata": {},
   "outputs": [
    {
     "data": {
      "text/plain": [
       "0"
      ]
     },
     "execution_count": 42,
     "metadata": {},
     "output_type": "execute_result"
    }
   ],
   "source": [
    "df.totrms_abvgrd.isnull().sum()"
   ]
  },
  {
   "cell_type": "code",
   "execution_count": 43,
   "id": "91f5535f",
   "metadata": {},
   "outputs": [
    {
     "data": {
      "text/plain": [
       "0"
      ]
     },
     "execution_count": 43,
     "metadata": {},
     "output_type": "execute_result"
    }
   ],
   "source": [
    "df.kitchen_abvgr.isnull().sum()"
   ]
  },
  {
   "cell_type": "code",
   "execution_count": 44,
   "id": "ed2e0844",
   "metadata": {},
   "outputs": [],
   "source": [
    "df['abv_grd_combined'] = df.totrms_abvgrd+df.kitchen_abvgr"
   ]
  },
  {
   "cell_type": "code",
   "execution_count": 45,
   "id": "14966847",
   "metadata": {},
   "outputs": [
    {
     "data": {
      "text/plain": [
       "0"
      ]
     },
     "execution_count": 45,
     "metadata": {},
     "output_type": "execute_result"
    }
   ],
   "source": [
    "df.year_built.isnull().sum()"
   ]
  },
  {
   "cell_type": "code",
   "execution_count": 46,
   "id": "30514827",
   "metadata": {},
   "outputs": [],
   "source": [
    "df.central_air = [1 if entry=='Y' else 0 for entry in df.central_air]"
   ]
  },
  {
   "cell_type": "code",
   "execution_count": 47,
   "id": "2514a56c",
   "metadata": {},
   "outputs": [],
   "source": [
    "df.rename(columns={'central_air':'central_air_Y'},inplace=True)"
   ]
  },
  {
   "cell_type": "code",
   "execution_count": 48,
   "id": "f490ade3",
   "metadata": {},
   "outputs": [],
   "source": [
    "#Neighbourhood-Nominal\n",
    "string = \"\"\"    Blmngtn\tBloomington Heights\n",
    "       Blueste\tBluestem\n",
    "       BrDale\tBriardale\n",
    "       BrkSide\tBrookside\n",
    "       ClearCr\tClear Creek\n",
    "       CollgCr\tCollege Creek\n",
    "       Crawfor\tCrawford\n",
    "       Edwards\tEdwards\n",
    "       Gilbert\tGilbert\n",
    "       Greens\tGreens\n",
    "       GrnHill\tGreen Hills\n",
    "       IDOTRR\tIowa DOT and Rail Road\n",
    "       Landmrk\tLandmark\n",
    "       MeadowV\tMeadow Village\n",
    "       Mitchel\tMitchell\n",
    "       Names\tNorth Ames\n",
    "       NoRidge\tNorthridge\n",
    "       NPkVill\tNorthpark Villa\n",
    "       NridgHt\tNorthridge Heights\n",
    "       NWAmes\tNorthwest Ames\n",
    "       OldTown\tOld Town\n",
    "       SWISU\tSouth & West of Iowa State University\n",
    "       Sawyer\tSawyer\n",
    "       SawyerW\tSawyer West\n",
    "       Somerst\tSomerset\n",
    "       StoneBr\tStone Brook\n",
    "       Timber\tTimberland\n",
    "       Veenker\tVeenker\"\"\"\n",
    "\n",
    "dict_neighborhood = {s.strip().split('\\t')[0]:s.strip().split('\\t')[1] for s in string.split(\"\\n\")}\n",
    "\n",
    "# dict_neighborhood"
   ]
  },
  {
   "cell_type": "code",
   "execution_count": 49,
   "id": "389ed56d",
   "metadata": {},
   "outputs": [
    {
     "data": {
      "text/plain": [
       "{'Blmngtn',\n",
       " 'Blueste',\n",
       " 'BrDale',\n",
       " 'BrkSide',\n",
       " 'ClearCr',\n",
       " 'CollgCr',\n",
       " 'Crawfor',\n",
       " 'Edwards',\n",
       " 'Gilbert',\n",
       " 'Greens',\n",
       " 'IDOTRR',\n",
       " 'MeadowV',\n",
       " 'Mitchel',\n",
       " 'NAmes',\n",
       " 'NPkVill',\n",
       " 'NWAmes',\n",
       " 'NoRidge',\n",
       " 'NridgHt',\n",
       " 'OldTown',\n",
       " 'SWISU',\n",
       " 'Sawyer',\n",
       " 'SawyerW',\n",
       " 'Somerst',\n",
       " 'StoneBr',\n",
       " 'Timber',\n",
       " 'Veenker'}"
      ]
     },
     "execution_count": 49,
     "metadata": {},
     "output_type": "execute_result"
    }
   ],
   "source": [
    "t1 = set(df['neighborhood'].unique())\n",
    "t1"
   ]
  },
  {
   "cell_type": "code",
   "execution_count": 50,
   "id": "85d3fa5c",
   "metadata": {},
   "outputs": [
    {
     "data": {
      "text/plain": [
       "{'Blmngtn',\n",
       " 'Blueste',\n",
       " 'BrDale',\n",
       " 'BrkSide',\n",
       " 'ClearCr',\n",
       " 'CollgCr',\n",
       " 'Crawfor',\n",
       " 'Edwards',\n",
       " 'Gilbert',\n",
       " 'Greens',\n",
       " 'GrnHill',\n",
       " 'IDOTRR',\n",
       " 'Landmrk',\n",
       " 'MeadowV',\n",
       " 'Mitchel',\n",
       " 'NPkVill',\n",
       " 'NWAmes',\n",
       " 'Names',\n",
       " 'NoRidge',\n",
       " 'NridgHt',\n",
       " 'OldTown',\n",
       " 'SWISU',\n",
       " 'Sawyer',\n",
       " 'SawyerW',\n",
       " 'Somerst',\n",
       " 'StoneBr',\n",
       " 'Timber',\n",
       " 'Veenker'}"
      ]
     },
     "execution_count": 50,
     "metadata": {},
     "output_type": "execute_result"
    }
   ],
   "source": [
    "t2= set(dict_neighborhood.keys())\n",
    "t2"
   ]
  },
  {
   "cell_type": "code",
   "execution_count": 51,
   "id": "f741abd8",
   "metadata": {},
   "outputs": [
    {
     "data": {
      "text/plain": [
       "{'NAmes'}"
      ]
     },
     "execution_count": 51,
     "metadata": {},
     "output_type": "execute_result"
    }
   ],
   "source": [
    "t1 - t2"
   ]
  },
  {
   "cell_type": "code",
   "execution_count": 52,
   "id": "a56f6fee",
   "metadata": {},
   "outputs": [],
   "source": [
    "df.loc[df[\"neighborhood\"] == \"NAmes\", \"neighborhood\"] = 'Names'"
   ]
  },
  {
   "cell_type": "code",
   "execution_count": 53,
   "id": "81b963db",
   "metadata": {},
   "outputs": [
    {
     "data": {
      "text/plain": [
       "0"
      ]
     },
     "execution_count": 53,
     "metadata": {},
     "output_type": "execute_result"
    }
   ],
   "source": [
    "df.land_contour.isna().sum()"
   ]
  },
  {
   "cell_type": "code",
   "execution_count": 54,
   "id": "5a409089",
   "metadata": {},
   "outputs": [
    {
     "data": {
      "text/plain": [
       "array([ 6,  5,  7,  4,  8,  3,  9, 10,  2])"
      ]
     },
     "execution_count": 54,
     "metadata": {},
     "output_type": "execute_result"
    }
   ],
   "source": [
    "df.overall_qual.unique()"
   ]
  },
  {
   "cell_type": "code",
   "execution_count": 55,
   "id": "b3b0cd7f",
   "metadata": {},
   "outputs": [
    {
     "data": {
      "text/plain": [
       "Ex    429\n",
       "TA    267\n",
       "Gd    157\n",
       "Fa     25\n",
       "Name: heating_qc, dtype: int64"
      ]
     },
     "execution_count": 55,
     "metadata": {},
     "output_type": "execute_result"
    }
   ],
   "source": [
    "df.heating_qc.value_counts(dropna=False)"
   ]
  },
  {
   "cell_type": "code",
   "execution_count": 56,
   "id": "fcdd0f42",
   "metadata": {},
   "outputs": [],
   "source": [
    "map_heating_qc ={'Ex':5, 'TA':4, 'Gd':3, 'Fa':2,'Po':1}"
   ]
  },
  {
   "cell_type": "code",
   "execution_count": 57,
   "id": "ae214f10",
   "metadata": {},
   "outputs": [],
   "source": [
    "df.heating_qc =df.heating_qc.map(map_heating_qc)"
   ]
  },
  {
   "cell_type": "code",
   "execution_count": 58,
   "id": "e7f27c4c",
   "metadata": {},
   "outputs": [],
   "source": [
    "nominal_tbu = ['ms_subclass','ms_zoning','neighborhood','land_contour']"
   ]
  },
  {
   "cell_type": "code",
   "execution_count": 59,
   "id": "a846d213",
   "metadata": {},
   "outputs": [],
   "source": [
    "df = pd.get_dummies(df, columns=nominal_tbu)\n"
   ]
  },
  {
   "cell_type": "code",
   "execution_count": 60,
   "id": "0e8a7549",
   "metadata": {},
   "outputs": [
    {
     "data": {
      "text/plain": [
       "['id',\n",
       " 'pid',\n",
       " 'lot_frontage',\n",
       " 'lot_area',\n",
       " 'street',\n",
       " 'alley',\n",
       " 'lot_shape',\n",
       " 'utilities',\n",
       " 'lot_config',\n",
       " 'land_slope',\n",
       " 'condition_1',\n",
       " 'condition_2',\n",
       " 'bldg_type',\n",
       " 'house_style',\n",
       " 'overall_qual',\n",
       " 'overall_cond',\n",
       " 'year_built',\n",
       " 'year_remod/add',\n",
       " 'roof_style',\n",
       " 'roof_matl',\n",
       " 'exterior_1st',\n",
       " 'exterior_2nd',\n",
       " 'mas_vnr_type',\n",
       " 'mas_vnr_area',\n",
       " 'exter_qual',\n",
       " 'exter_cond',\n",
       " 'foundation',\n",
       " 'bsmt_qual',\n",
       " 'bsmt_cond',\n",
       " 'bsmt_exposure',\n",
       " 'bsmtfin_type_1',\n",
       " 'bsmtfin_sf_1',\n",
       " 'bsmtfin_type_2',\n",
       " 'bsmtfin_sf_2',\n",
       " 'bsmt_unf_sf',\n",
       " 'total_bsmt_sf',\n",
       " 'heating',\n",
       " 'heating_qc',\n",
       " 'central_air_Y',\n",
       " 'electrical',\n",
       " '1st_flr_sf',\n",
       " 'flr2nd_sf',\n",
       " 'low_qual_fin_sf',\n",
       " 'gr_liv_area',\n",
       " 'bsmt_full_bath',\n",
       " 'bsmt_half_bath',\n",
       " 'full_bath',\n",
       " 'half_bath',\n",
       " 'bedroom_abvgr',\n",
       " 'kitchen_abvgr',\n",
       " 'kitchen_qual',\n",
       " 'totrms_abvgrd',\n",
       " 'functional',\n",
       " 'fireplaces',\n",
       " 'fireplace_qu',\n",
       " 'garage_type',\n",
       " 'garage_yr_blt',\n",
       " 'garage_finish',\n",
       " 'garage_cars',\n",
       " 'garage_area',\n",
       " 'garage_qual',\n",
       " 'garage_cond',\n",
       " 'paved_drive',\n",
       " 'wood_deck_sf',\n",
       " 'open_porch_sf',\n",
       " 'enclosed_porch',\n",
       " 'ssn3_porch',\n",
       " 'screen_porch',\n",
       " 'pool_area',\n",
       " 'pool_qc',\n",
       " 'fence',\n",
       " 'misc_feature',\n",
       " 'misc_val',\n",
       " 'mo_sold',\n",
       " 'yr_sold',\n",
       " 'sale_type',\n",
       " 'area_sf',\n",
       " 'tot_bath',\n",
       " 'bsmt_bath',\n",
       " 'abv_grd_combined',\n",
       " 'ms_subclass_020',\n",
       " 'ms_subclass_030',\n",
       " 'ms_subclass_040',\n",
       " 'ms_subclass_045',\n",
       " 'ms_subclass_050',\n",
       " 'ms_subclass_060',\n",
       " 'ms_subclass_070',\n",
       " 'ms_subclass_075',\n",
       " 'ms_subclass_080',\n",
       " 'ms_subclass_085',\n",
       " 'ms_subclass_090',\n",
       " 'ms_subclass_120',\n",
       " 'ms_subclass_160',\n",
       " 'ms_subclass_180',\n",
       " 'ms_subclass_190',\n",
       " 'ms_zoning_C',\n",
       " 'ms_zoning_FV',\n",
       " 'ms_zoning_I',\n",
       " 'ms_zoning_RH',\n",
       " 'ms_zoning_RL',\n",
       " 'ms_zoning_RM',\n",
       " 'neighborhood_Blmngtn',\n",
       " 'neighborhood_Blueste',\n",
       " 'neighborhood_BrDale',\n",
       " 'neighborhood_BrkSide',\n",
       " 'neighborhood_ClearCr',\n",
       " 'neighborhood_CollgCr',\n",
       " 'neighborhood_Crawfor',\n",
       " 'neighborhood_Edwards',\n",
       " 'neighborhood_Gilbert',\n",
       " 'neighborhood_Greens',\n",
       " 'neighborhood_IDOTRR',\n",
       " 'neighborhood_MeadowV',\n",
       " 'neighborhood_Mitchel',\n",
       " 'neighborhood_NPkVill',\n",
       " 'neighborhood_NWAmes',\n",
       " 'neighborhood_Names',\n",
       " 'neighborhood_NoRidge',\n",
       " 'neighborhood_NridgHt',\n",
       " 'neighborhood_OldTown',\n",
       " 'neighborhood_SWISU',\n",
       " 'neighborhood_Sawyer',\n",
       " 'neighborhood_SawyerW',\n",
       " 'neighborhood_Somerst',\n",
       " 'neighborhood_StoneBr',\n",
       " 'neighborhood_Timber',\n",
       " 'neighborhood_Veenker',\n",
       " 'land_contour_Bnk',\n",
       " 'land_contour_HLS',\n",
       " 'land_contour_Low',\n",
       " 'land_contour_Lvl']"
      ]
     },
     "execution_count": 60,
     "metadata": {},
     "output_type": "execute_result"
    }
   ],
   "source": [
    "list(df.columns)"
   ]
  },
  {
   "cell_type": "code",
   "execution_count": 61,
   "id": "4cb72007",
   "metadata": {},
   "outputs": [],
   "source": [
    "df.drop(columns= ['neighborhood_Veenker'],inplace=True)#dropping one dummy column for each category"
   ]
  },
  {
   "cell_type": "code",
   "execution_count": 62,
   "id": "0c8ca732",
   "metadata": {},
   "outputs": [],
   "source": [
    "df.drop(columns='land_contour_Low', inplace=True)#dropping one dummy column for each category"
   ]
  },
  {
   "cell_type": "code",
   "execution_count": 63,
   "id": "9e6b0fe0",
   "metadata": {},
   "outputs": [],
   "source": [
    "df.drop(columns='ms_subclass_160',inplace=True)"
   ]
  },
  {
   "cell_type": "code",
   "execution_count": 64,
   "id": "dff2cd2e",
   "metadata": {},
   "outputs": [],
   "source": [
    "df.drop(columns='ms_zoning_RH',inplace=True)"
   ]
  },
  {
   "cell_type": "code",
   "execution_count": null,
   "id": "d1336b01",
   "metadata": {},
   "outputs": [],
   "source": []
  },
  {
   "cell_type": "code",
   "execution_count": 65,
   "id": "3002ed8e",
   "metadata": {},
   "outputs": [],
   "source": [
    "continuous_tbu = ['lot_frontage','lot_area','mas_vnr_area','area_sf']\n",
    "ordinal_tbu = ['overall_qual','heating_qc']\n",
    "discrete_tbu = ['year_built','tot_bath','bsmt_bath','abv_grd_combined']\n",
    "nominal_tbu = ['ms_subclass','ms_zoning','neighborhood','land_contour','central_air']\n",
    "nominal_withdummies_tbu =['neighborhood_Sawyer', 'neighborhood_SawyerW', 'neighborhood_Names', 'neighborhood_Timber', 'neighborhood_Edwards', 'neighborhood_OldTown',\n",
    "       'neighborhood_BrDale', 'neighborhood_CollgCr', 'neighborhood_Somerst', 'neighborhood_Mitchel', 'neighborhood_StoneBr', 'neighborhood_NridgHt',\n",
    "       'neighborhood_Gilbert', 'neighborhood_Crawfor', 'neighborhood_IDOTRR', 'neighborhood_NWAmes', 'neighborhood_MeadowV',\n",
    "       'neighborhood_SWISU', 'neighborhood_NoRidge', 'neighborhood_ClearCr', 'neighborhood_Blmngtn', 'neighborhood_BrkSide', 'neighborhood_NPkVill',\n",
    "       'neighborhood_Blueste', 'neighborhood_Greens', \n",
    "        'land_contour_Lvl', 'land_contour_HLS', 'land_contour_Bnk',\n",
    "         'ms_subclass_060', 'ms_subclass_020', 'ms_subclass_050', 'ms_subclass_180', 'ms_subclass_070', 'ms_subclass_120', 'ms_subclass_190', 'ms_subclass_085',\n",
    "       'ms_subclass_030', 'ms_subclass_090', 'ms_subclass_080', 'ms_subclass_075', 'ms_subclass_045', 'ms_subclass_040',\n",
    "        'ms_zoning_RL', 'ms_zoning_RM', 'ms_zoning_FV', 'ms_zoning_C', 'ms_zoning_I',\n",
    "                         'central_air_Y']\n"
   ]
  },
  {
   "cell_type": "code",
   "execution_count": 68,
   "id": "644dde53",
   "metadata": {},
   "outputs": [],
   "source": [
    "col_tbu_model= ['pid']+continuous_tbu+ordinal_tbu+discrete_tbu+nominal_withdummies_tbu\n",
    "# final features to be used"
   ]
  },
  {
   "cell_type": "code",
   "execution_count": 69,
   "id": "431be30d",
   "metadata": {},
   "outputs": [],
   "source": [
    "test_data = (df[col_tbu_model])"
   ]
  },
  {
   "cell_type": "code",
   "execution_count": 70,
   "id": "c3ce2900",
   "metadata": {},
   "outputs": [
    {
     "data": {
      "text/plain": [
       "0"
      ]
     },
     "execution_count": 70,
     "metadata": {},
     "output_type": "execute_result"
    }
   ],
   "source": [
    "test_data.isnull().sum().sum()"
   ]
  },
  {
   "cell_type": "code",
   "execution_count": 71,
   "id": "409879f1",
   "metadata": {},
   "outputs": [],
   "source": [
    "test_data.to_csv('datasets/cleaned_test_data_for_prediction.csv',index=False)"
   ]
  },
  {
   "cell_type": "code",
   "execution_count": null,
   "id": "42fe7aa6",
   "metadata": {},
   "outputs": [],
   "source": []
  }
 ],
 "metadata": {
  "kernelspec": {
   "display_name": "Python 3 (ipykernel)",
   "language": "python",
   "name": "python3"
  },
  "language_info": {
   "codemirror_mode": {
    "name": "ipython",
    "version": 3
   },
   "file_extension": ".py",
   "mimetype": "text/x-python",
   "name": "python",
   "nbconvert_exporter": "python",
   "pygments_lexer": "ipython3",
   "version": "3.9.7"
  },
  "toc": {
   "base_numbering": 1,
   "nav_menu": {},
   "number_sections": true,
   "sideBar": true,
   "skip_h1_title": false,
   "title_cell": "Table of Contents",
   "title_sidebar": "Contents",
   "toc_cell": false,
   "toc_position": {},
   "toc_section_display": true,
   "toc_window_display": false
  }
 },
 "nbformat": 4,
 "nbformat_minor": 5
}
