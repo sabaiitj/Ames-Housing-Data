{
 "cells": [
  {
   "cell_type": "code",
   "execution_count": 556,
   "id": "3e45953d",
   "metadata": {},
   "outputs": [],
   "source": [
    "import pandas as pd\n",
    "import seaborn as sns\n",
    "import matplotlib.pyplot as plt\n",
    "import numpy as np"
   ]
  },
  {
   "cell_type": "code",
   "execution_count": 557,
   "id": "d5a27971",
   "metadata": {},
   "outputs": [],
   "source": [
    "df = pd.read_csv('datasets/train.csv')"
   ]
  },
  {
   "cell_type": "code",
   "execution_count": 558,
   "id": "b7e1aa7b",
   "metadata": {},
   "outputs": [
    {
     "data": {
      "text/html": [
       "<div>\n",
       "<style scoped>\n",
       "    .dataframe tbody tr th:only-of-type {\n",
       "        vertical-align: middle;\n",
       "    }\n",
       "\n",
       "    .dataframe tbody tr th {\n",
       "        vertical-align: top;\n",
       "    }\n",
       "\n",
       "    .dataframe thead th {\n",
       "        text-align: right;\n",
       "    }\n",
       "</style>\n",
       "<table border=\"1\" class=\"dataframe\">\n",
       "  <thead>\n",
       "    <tr style=\"text-align: right;\">\n",
       "      <th></th>\n",
       "      <th>Id</th>\n",
       "      <th>PID</th>\n",
       "      <th>MS SubClass</th>\n",
       "      <th>MS Zoning</th>\n",
       "      <th>Lot Frontage</th>\n",
       "      <th>Lot Area</th>\n",
       "      <th>Street</th>\n",
       "      <th>Alley</th>\n",
       "      <th>Lot Shape</th>\n",
       "      <th>Land Contour</th>\n",
       "      <th>...</th>\n",
       "      <th>Screen Porch</th>\n",
       "      <th>Pool Area</th>\n",
       "      <th>Pool QC</th>\n",
       "      <th>Fence</th>\n",
       "      <th>Misc Feature</th>\n",
       "      <th>Misc Val</th>\n",
       "      <th>Mo Sold</th>\n",
       "      <th>Yr Sold</th>\n",
       "      <th>Sale Type</th>\n",
       "      <th>SalePrice</th>\n",
       "    </tr>\n",
       "  </thead>\n",
       "  <tbody>\n",
       "    <tr>\n",
       "      <th>0</th>\n",
       "      <td>109</td>\n",
       "      <td>533352170</td>\n",
       "      <td>60</td>\n",
       "      <td>RL</td>\n",
       "      <td>NaN</td>\n",
       "      <td>13517</td>\n",
       "      <td>Pave</td>\n",
       "      <td>NaN</td>\n",
       "      <td>IR1</td>\n",
       "      <td>Lvl</td>\n",
       "      <td>...</td>\n",
       "      <td>0</td>\n",
       "      <td>0</td>\n",
       "      <td>NaN</td>\n",
       "      <td>NaN</td>\n",
       "      <td>NaN</td>\n",
       "      <td>0</td>\n",
       "      <td>3</td>\n",
       "      <td>2010</td>\n",
       "      <td>WD</td>\n",
       "      <td>130500</td>\n",
       "    </tr>\n",
       "    <tr>\n",
       "      <th>1</th>\n",
       "      <td>544</td>\n",
       "      <td>531379050</td>\n",
       "      <td>60</td>\n",
       "      <td>RL</td>\n",
       "      <td>43.0</td>\n",
       "      <td>11492</td>\n",
       "      <td>Pave</td>\n",
       "      <td>NaN</td>\n",
       "      <td>IR1</td>\n",
       "      <td>Lvl</td>\n",
       "      <td>...</td>\n",
       "      <td>0</td>\n",
       "      <td>0</td>\n",
       "      <td>NaN</td>\n",
       "      <td>NaN</td>\n",
       "      <td>NaN</td>\n",
       "      <td>0</td>\n",
       "      <td>4</td>\n",
       "      <td>2009</td>\n",
       "      <td>WD</td>\n",
       "      <td>220000</td>\n",
       "    </tr>\n",
       "    <tr>\n",
       "      <th>2</th>\n",
       "      <td>153</td>\n",
       "      <td>535304180</td>\n",
       "      <td>20</td>\n",
       "      <td>RL</td>\n",
       "      <td>68.0</td>\n",
       "      <td>7922</td>\n",
       "      <td>Pave</td>\n",
       "      <td>NaN</td>\n",
       "      <td>Reg</td>\n",
       "      <td>Lvl</td>\n",
       "      <td>...</td>\n",
       "      <td>0</td>\n",
       "      <td>0</td>\n",
       "      <td>NaN</td>\n",
       "      <td>NaN</td>\n",
       "      <td>NaN</td>\n",
       "      <td>0</td>\n",
       "      <td>1</td>\n",
       "      <td>2010</td>\n",
       "      <td>WD</td>\n",
       "      <td>109000</td>\n",
       "    </tr>\n",
       "    <tr>\n",
       "      <th>3</th>\n",
       "      <td>318</td>\n",
       "      <td>916386060</td>\n",
       "      <td>60</td>\n",
       "      <td>RL</td>\n",
       "      <td>73.0</td>\n",
       "      <td>9802</td>\n",
       "      <td>Pave</td>\n",
       "      <td>NaN</td>\n",
       "      <td>Reg</td>\n",
       "      <td>Lvl</td>\n",
       "      <td>...</td>\n",
       "      <td>0</td>\n",
       "      <td>0</td>\n",
       "      <td>NaN</td>\n",
       "      <td>NaN</td>\n",
       "      <td>NaN</td>\n",
       "      <td>0</td>\n",
       "      <td>4</td>\n",
       "      <td>2010</td>\n",
       "      <td>WD</td>\n",
       "      <td>174000</td>\n",
       "    </tr>\n",
       "    <tr>\n",
       "      <th>4</th>\n",
       "      <td>255</td>\n",
       "      <td>906425045</td>\n",
       "      <td>50</td>\n",
       "      <td>RL</td>\n",
       "      <td>82.0</td>\n",
       "      <td>14235</td>\n",
       "      <td>Pave</td>\n",
       "      <td>NaN</td>\n",
       "      <td>IR1</td>\n",
       "      <td>Lvl</td>\n",
       "      <td>...</td>\n",
       "      <td>0</td>\n",
       "      <td>0</td>\n",
       "      <td>NaN</td>\n",
       "      <td>NaN</td>\n",
       "      <td>NaN</td>\n",
       "      <td>0</td>\n",
       "      <td>3</td>\n",
       "      <td>2010</td>\n",
       "      <td>WD</td>\n",
       "      <td>138500</td>\n",
       "    </tr>\n",
       "  </tbody>\n",
       "</table>\n",
       "<p>5 rows × 81 columns</p>\n",
       "</div>"
      ],
      "text/plain": [
       "    Id        PID  MS SubClass MS Zoning  Lot Frontage  Lot Area Street Alley  \\\n",
       "0  109  533352170           60        RL           NaN     13517   Pave   NaN   \n",
       "1  544  531379050           60        RL          43.0     11492   Pave   NaN   \n",
       "2  153  535304180           20        RL          68.0      7922   Pave   NaN   \n",
       "3  318  916386060           60        RL          73.0      9802   Pave   NaN   \n",
       "4  255  906425045           50        RL          82.0     14235   Pave   NaN   \n",
       "\n",
       "  Lot Shape Land Contour  ... Screen Porch Pool Area Pool QC Fence  \\\n",
       "0       IR1          Lvl  ...            0         0     NaN   NaN   \n",
       "1       IR1          Lvl  ...            0         0     NaN   NaN   \n",
       "2       Reg          Lvl  ...            0         0     NaN   NaN   \n",
       "3       Reg          Lvl  ...            0         0     NaN   NaN   \n",
       "4       IR1          Lvl  ...            0         0     NaN   NaN   \n",
       "\n",
       "  Misc Feature Misc Val Mo Sold Yr Sold  Sale Type  SalePrice  \n",
       "0          NaN        0       3    2010        WD      130500  \n",
       "1          NaN        0       4    2009        WD      220000  \n",
       "2          NaN        0       1    2010        WD      109000  \n",
       "3          NaN        0       4    2010        WD      174000  \n",
       "4          NaN        0       3    2010        WD      138500  \n",
       "\n",
       "[5 rows x 81 columns]"
      ]
     },
     "execution_count": 558,
     "metadata": {},
     "output_type": "execute_result"
    }
   ],
   "source": [
    "df.head()"
   ]
  },
  {
   "cell_type": "code",
   "execution_count": 559,
   "id": "1c99d566",
   "metadata": {
    "scrolled": true
   },
   "outputs": [
    {
     "name": "stdout",
     "output_type": "stream",
     "text": [
      "<class 'pandas.core.frame.DataFrame'>\n",
      "RangeIndex: 2051 entries, 0 to 2050\n",
      "Data columns (total 81 columns):\n",
      " #   Column           Non-Null Count  Dtype  \n",
      "---  ------           --------------  -----  \n",
      " 0   Id               2051 non-null   int64  \n",
      " 1   PID              2051 non-null   int64  \n",
      " 2   MS SubClass      2051 non-null   int64  \n",
      " 3   MS Zoning        2051 non-null   object \n",
      " 4   Lot Frontage     1721 non-null   float64\n",
      " 5   Lot Area         2051 non-null   int64  \n",
      " 6   Street           2051 non-null   object \n",
      " 7   Alley            140 non-null    object \n",
      " 8   Lot Shape        2051 non-null   object \n",
      " 9   Land Contour     2051 non-null   object \n",
      " 10  Utilities        2051 non-null   object \n",
      " 11  Lot Config       2051 non-null   object \n",
      " 12  Land Slope       2051 non-null   object \n",
      " 13  Neighborhood     2051 non-null   object \n",
      " 14  Condition 1      2051 non-null   object \n",
      " 15  Condition 2      2051 non-null   object \n",
      " 16  Bldg Type        2051 non-null   object \n",
      " 17  House Style      2051 non-null   object \n",
      " 18  Overall Qual     2051 non-null   int64  \n",
      " 19  Overall Cond     2051 non-null   int64  \n",
      " 20  Year Built       2051 non-null   int64  \n",
      " 21  Year Remod/Add   2051 non-null   int64  \n",
      " 22  Roof Style       2051 non-null   object \n",
      " 23  Roof Matl        2051 non-null   object \n",
      " 24  Exterior 1st     2051 non-null   object \n",
      " 25  Exterior 2nd     2051 non-null   object \n",
      " 26  Mas Vnr Type     2029 non-null   object \n",
      " 27  Mas Vnr Area     2029 non-null   float64\n",
      " 28  Exter Qual       2051 non-null   object \n",
      " 29  Exter Cond       2051 non-null   object \n",
      " 30  Foundation       2051 non-null   object \n",
      " 31  Bsmt Qual        1996 non-null   object \n",
      " 32  Bsmt Cond        1996 non-null   object \n",
      " 33  Bsmt Exposure    1993 non-null   object \n",
      " 34  BsmtFin Type 1   1996 non-null   object \n",
      " 35  BsmtFin SF 1     2050 non-null   float64\n",
      " 36  BsmtFin Type 2   1995 non-null   object \n",
      " 37  BsmtFin SF 2     2050 non-null   float64\n",
      " 38  Bsmt Unf SF      2050 non-null   float64\n",
      " 39  Total Bsmt SF    2050 non-null   float64\n",
      " 40  Heating          2051 non-null   object \n",
      " 41  Heating QC       2051 non-null   object \n",
      " 42  Central Air      2051 non-null   object \n",
      " 43  Electrical       2051 non-null   object \n",
      " 44  1st Flr SF       2051 non-null   int64  \n",
      " 45  2nd Flr SF       2051 non-null   int64  \n",
      " 46  Low Qual Fin SF  2051 non-null   int64  \n",
      " 47  Gr Liv Area      2051 non-null   int64  \n",
      " 48  Bsmt Full Bath   2049 non-null   float64\n",
      " 49  Bsmt Half Bath   2049 non-null   float64\n",
      " 50  Full Bath        2051 non-null   int64  \n",
      " 51  Half Bath        2051 non-null   int64  \n",
      " 52  Bedroom AbvGr    2051 non-null   int64  \n",
      " 53  Kitchen AbvGr    2051 non-null   int64  \n",
      " 54  Kitchen Qual     2051 non-null   object \n",
      " 55  TotRms AbvGrd    2051 non-null   int64  \n",
      " 56  Functional       2051 non-null   object \n",
      " 57  Fireplaces       2051 non-null   int64  \n",
      " 58  Fireplace Qu     1051 non-null   object \n",
      " 59  Garage Type      1938 non-null   object \n",
      " 60  Garage Yr Blt    1937 non-null   float64\n",
      " 61  Garage Finish    1937 non-null   object \n",
      " 62  Garage Cars      2050 non-null   float64\n",
      " 63  Garage Area      2050 non-null   float64\n",
      " 64  Garage Qual      1937 non-null   object \n",
      " 65  Garage Cond      1937 non-null   object \n",
      " 66  Paved Drive      2051 non-null   object \n",
      " 67  Wood Deck SF     2051 non-null   int64  \n",
      " 68  Open Porch SF    2051 non-null   int64  \n",
      " 69  Enclosed Porch   2051 non-null   int64  \n",
      " 70  3Ssn Porch       2051 non-null   int64  \n",
      " 71  Screen Porch     2051 non-null   int64  \n",
      " 72  Pool Area        2051 non-null   int64  \n",
      " 73  Pool QC          9 non-null      object \n",
      " 74  Fence            400 non-null    object \n",
      " 75  Misc Feature     65 non-null     object \n",
      " 76  Misc Val         2051 non-null   int64  \n",
      " 77  Mo Sold          2051 non-null   int64  \n",
      " 78  Yr Sold          2051 non-null   int64  \n",
      " 79  Sale Type        2051 non-null   object \n",
      " 80  SalePrice        2051 non-null   int64  \n",
      "dtypes: float64(11), int64(28), object(42)\n",
      "memory usage: 1.3+ MB\n"
     ]
    }
   ],
   "source": [
    "df.info()"
   ]
  },
  {
   "cell_type": "code",
   "execution_count": 560,
   "id": "c98ffd6f",
   "metadata": {},
   "outputs": [
    {
     "data": {
      "text/plain": [
       "Index(['Id', 'PID', 'MS SubClass', 'MS Zoning', 'Lot Frontage', 'Lot Area',\n",
       "       'Street', 'Alley', 'Lot Shape', 'Land Contour', 'Utilities',\n",
       "       'Lot Config', 'Land Slope', 'Neighborhood', 'Condition 1',\n",
       "       'Condition 2', 'Bldg Type', 'House Style', 'Overall Qual',\n",
       "       'Overall Cond', 'Year Built', 'Year Remod/Add', 'Roof Style',\n",
       "       'Roof Matl', 'Exterior 1st', 'Exterior 2nd', 'Mas Vnr Type',\n",
       "       'Mas Vnr Area', 'Exter Qual', 'Exter Cond', 'Foundation', 'Bsmt Qual',\n",
       "       'Bsmt Cond', 'Bsmt Exposure', 'BsmtFin Type 1', 'BsmtFin SF 1',\n",
       "       'BsmtFin Type 2', 'BsmtFin SF 2', 'Bsmt Unf SF', 'Total Bsmt SF',\n",
       "       'Heating', 'Heating QC', 'Central Air', 'Electrical', '1st Flr SF',\n",
       "       '2nd Flr SF', 'Low Qual Fin SF', 'Gr Liv Area', 'Bsmt Full Bath',\n",
       "       'Bsmt Half Bath', 'Full Bath', 'Half Bath', 'Bedroom AbvGr',\n",
       "       'Kitchen AbvGr', 'Kitchen Qual', 'TotRms AbvGrd', 'Functional',\n",
       "       'Fireplaces', 'Fireplace Qu', 'Garage Type', 'Garage Yr Blt',\n",
       "       'Garage Finish', 'Garage Cars', 'Garage Area', 'Garage Qual',\n",
       "       'Garage Cond', 'Paved Drive', 'Wood Deck SF', 'Open Porch SF',\n",
       "       'Enclosed Porch', '3Ssn Porch', 'Screen Porch', 'Pool Area', 'Pool QC',\n",
       "       'Fence', 'Misc Feature', 'Misc Val', 'Mo Sold', 'Yr Sold', 'Sale Type',\n",
       "       'SalePrice'],\n",
       "      dtype='object')"
      ]
     },
     "execution_count": 560,
     "metadata": {},
     "output_type": "execute_result"
    }
   ],
   "source": [
    "(df.columns)"
   ]
  },
  {
   "cell_type": "markdown",
   "id": "d8ab2e5f",
   "metadata": {},
   "source": [
    "### modification of column names"
   ]
  },
  {
   "cell_type": "code",
   "execution_count": 561,
   "id": "bbe58380",
   "metadata": {},
   "outputs": [],
   "source": [
    "df.columns = [col.lower() for col in df.columns]"
   ]
  },
  {
   "cell_type": "code",
   "execution_count": 562,
   "id": "7bd67601",
   "metadata": {},
   "outputs": [],
   "source": [
    "df.columns = [col.replace(' ', '_') for col in df.columns]"
   ]
  },
  {
   "cell_type": "code",
   "execution_count": 563,
   "id": "d97e80c5",
   "metadata": {},
   "outputs": [],
   "source": [
    "df.rename(columns={'3ssn_porch':'ssn3_porch', \n",
    "                   '2nd_flr_sf': 'flr2nd_sf'},inplace=True)"
   ]
  },
  {
   "cell_type": "code",
   "execution_count": 564,
   "id": "a23a0de8",
   "metadata": {},
   "outputs": [
    {
     "data": {
      "text/plain": [
       "Index(['id', 'pid', 'ms_subclass', 'ms_zoning', 'lot_frontage', 'lot_area',\n",
       "       'street', 'alley', 'lot_shape', 'land_contour', 'utilities',\n",
       "       'lot_config', 'land_slope', 'neighborhood', 'condition_1',\n",
       "       'condition_2', 'bldg_type', 'house_style', 'overall_qual',\n",
       "       'overall_cond', 'year_built', 'year_remod/add', 'roof_style',\n",
       "       'roof_matl', 'exterior_1st', 'exterior_2nd', 'mas_vnr_type',\n",
       "       'mas_vnr_area', 'exter_qual', 'exter_cond', 'foundation', 'bsmt_qual',\n",
       "       'bsmt_cond', 'bsmt_exposure', 'bsmtfin_type_1', 'bsmtfin_sf_1',\n",
       "       'bsmtfin_type_2', 'bsmtfin_sf_2', 'bsmt_unf_sf', 'total_bsmt_sf',\n",
       "       'heating', 'heating_qc', 'central_air', 'electrical', '1st_flr_sf',\n",
       "       'flr2nd_sf', 'low_qual_fin_sf', 'gr_liv_area', 'bsmt_full_bath',\n",
       "       'bsmt_half_bath', 'full_bath', 'half_bath', 'bedroom_abvgr',\n",
       "       'kitchen_abvgr', 'kitchen_qual', 'totrms_abvgrd', 'functional',\n",
       "       'fireplaces', 'fireplace_qu', 'garage_type', 'garage_yr_blt',\n",
       "       'garage_finish', 'garage_cars', 'garage_area', 'garage_qual',\n",
       "       'garage_cond', 'paved_drive', 'wood_deck_sf', 'open_porch_sf',\n",
       "       'enclosed_porch', 'ssn3_porch', 'screen_porch', 'pool_area', 'pool_qc',\n",
       "       'fence', 'misc_feature', 'misc_val', 'mo_sold', 'yr_sold', 'sale_type',\n",
       "       'saleprice'],\n",
       "      dtype='object')"
      ]
     },
     "execution_count": 564,
     "metadata": {},
     "output_type": "execute_result"
    }
   ],
   "source": [
    "df.columns"
   ]
  },
  {
   "cell_type": "code",
   "execution_count": 565,
   "id": "c10c0673",
   "metadata": {},
   "outputs": [
    {
     "data": {
      "text/plain": [
       "id                0\n",
       "pid               0\n",
       "ms_subclass       0\n",
       "ms_zoning         0\n",
       "lot_frontage    330\n",
       "               ... \n",
       "misc_val          0\n",
       "mo_sold           0\n",
       "yr_sold           0\n",
       "sale_type         0\n",
       "saleprice         0\n",
       "Length: 81, dtype: int64"
      ]
     },
     "execution_count": 565,
     "metadata": {},
     "output_type": "execute_result"
    }
   ],
   "source": [
    "df.isnull().sum()# missing values per column"
   ]
  },
  {
   "cell_type": "code",
   "execution_count": 566,
   "id": "c4c95d55",
   "metadata": {},
   "outputs": [
    {
     "data": {
      "text/plain": [
       "9822"
      ]
     },
     "execution_count": 566,
     "metadata": {},
     "output_type": "execute_result"
    }
   ],
   "source": [
    "df.isnull().sum().sum() #total number of missing values"
   ]
  },
  {
   "cell_type": "markdown",
   "id": "8561815a",
   "metadata": {},
   "source": [
    "### ms_subclass-Nominal"
   ]
  },
  {
   "cell_type": "code",
   "execution_count": 567,
   "id": "badde650",
   "metadata": {},
   "outputs": [],
   "source": [
    "#from data dictionary provided\n",
    "values_for_ms_subclass = ('020','030','040','045','045','050','060','070','075','080','085','090','120','150','160','180','190')"
   ]
  },
  {
   "cell_type": "code",
   "execution_count": 568,
   "id": "af374809",
   "metadata": {},
   "outputs": [],
   "source": [
    "df.ms_subclass = [str(entry) for entry in df.ms_subclass]"
   ]
  },
  {
   "cell_type": "code",
   "execution_count": 569,
   "id": "2e76f67b",
   "metadata": {},
   "outputs": [],
   "source": [
    "df.ms_subclass = ['0'+ entry if len(entry)==2 else entry for entry in df.ms_subclass]"
   ]
  },
  {
   "cell_type": "markdown",
   "id": "c2a3cdcb",
   "metadata": {},
   "source": [
    "**So ms_subclass has been modified as per data dictionary provided**"
   ]
  },
  {
   "cell_type": "code",
   "execution_count": 570,
   "id": "060fec27",
   "metadata": {},
   "outputs": [],
   "source": [
    "ms=sorted(df['ms_subclass'])"
   ]
  },
  {
   "cell_type": "code",
   "execution_count": 571,
   "id": "ac220c2f",
   "metadata": {
    "scrolled": true
   },
   "outputs": [
    {
     "data": {
      "image/png": "[encoded data removed]",
      "text/plain": [
       "<Figure size 432x288 with 1 Axes>"
      ]
     },
     "metadata": {
      "needs_background": "light"
     },
     "output_type": "display_data"
    }
   ],
   "source": [
    "#bargraphs using seaborn\n",
    "sns.barplot(x=ms, y= 'saleprice', data=df);"
   ]
  },
  {
   "cell_type": "code",
   "execution_count": 572,
   "id": "77a526d7",
   "metadata": {},
   "outputs": [
    {
     "data": {
      "image/png": "[encoded data removed]",
      "text/plain": [
       "<Figure size 432x288 with 1 Axes>"
      ]
     },
     "metadata": {
      "needs_background": "light"
     },
     "output_type": "display_data"
    }
   ],
   "source": [
    "#bargraphs using matplotlib\n",
    "plt.bar(sorted(df['ms_subclass']), df['saleprice'])\n",
    "plt.xlabel('MS_Subclass')\n",
    "plt.ylabel('Saleprice')\n",
    "plt.title('Saleprice of different MS_Subclass' );"
   ]
  },
  {
   "cell_type": "code",
   "execution_count": 573,
   "id": "fe0c2e85",
   "metadata": {},
   "outputs": [
    {
     "data": {
      "image/png": "[encoded data removed]",
      "text/plain": [
       "<Figure size 1080x720 with 1 Axes>"
      ]
     },
     "metadata": {
      "needs_background": "light"
     },
     "output_type": "display_data"
    }
   ],
   "source": [
    "#boxplots using seaborn\n",
    "fig=plt.subplots(figsize=(15,10))\n",
    "sns.boxplot(y=df['saleprice'], x= df['ms_subclass'], data=df, color='pink',width=0.3, saturation=0.75, notch =True)\n",
    "plt.title('Distribution of Saleprice by different MS_Subclass');"
   ]
  },
  {
   "cell_type": "code",
   "execution_count": 574,
   "id": "f89b4b5c",
   "metadata": {},
   "outputs": [
    {
     "data": {
      "image/png": "[encoded data removed]",
      "text/plain": [
       "<Figure size 1080x720 with 1 Axes>"
      ]
     },
     "metadata": {
      "needs_background": "light"
     },
     "output_type": "display_data"
    }
   ],
   "source": [
    "# boxplot using Pandas.boxplot\n",
    "df.boxplot(column ='saleprice',by= 'ms_subclass',figsize=(15,10), color='green',notch=True );\n",
    "#patch_artist=True,"
   ]
  },
  {
   "cell_type": "markdown",
   "id": "ff3b36be",
   "metadata": {},
   "source": [
    "### saleprice"
   ]
  },
  {
   "cell_type": "code",
   "execution_count": 575,
   "id": "6d4f0d2a",
   "metadata": {},
   "outputs": [
    {
     "data": {
      "image/png": "[encoded data removed]",
      "text/plain": [
       "<Figure size 432x288 with 1 Axes>"
      ]
     },
     "metadata": {
      "needs_background": "light"
     },
     "output_type": "display_data"
    }
   ],
   "source": [
    "sns.histplot(df.saleprice);"
   ]
  },
  {
   "cell_type": "code",
   "execution_count": 576,
   "id": "5a42b3e7",
   "metadata": {},
   "outputs": [
    {
     "data": {
      "image/png": "[encoded data removed]",
      "text/plain": [
       "<Figure size 432x288 with 1 Axes>"
      ]
     },
     "metadata": {
      "needs_background": "light"
     },
     "output_type": "display_data"
    }
   ],
   "source": [
    "sns.histplot(df.saleprice, stat='percent', color='orange');"
   ]
  },
  {
   "cell_type": "code",
   "execution_count": 577,
   "id": "7349c827",
   "metadata": {},
   "outputs": [
    {
     "data": {
      "text/plain": [
       "0"
      ]
     },
     "execution_count": 577,
     "metadata": {},
     "output_type": "execute_result"
    }
   ],
   "source": [
    "df.saleprice.isnull().sum() # No null values in the target column"
   ]
  },
  {
   "cell_type": "markdown",
   "id": "557e9c80",
   "metadata": {},
   "source": [
    "### ms_zoning column- Nominal"
   ]
  },
  {
   "cell_type": "code",
   "execution_count": 578,
   "id": "e5f35f5c",
   "metadata": {},
   "outputs": [
    {
     "data": {
      "text/plain": [
       "array(['RL', 'RM', 'FV', 'C (all)', 'A (agr)', 'RH', 'I (all)'],\n",
       "      dtype=object)"
      ]
     },
     "execution_count": 578,
     "metadata": {},
     "output_type": "execute_result"
    }
   ],
   "source": [
    "df.ms_zoning.unique()"
   ]
  },
  {
   "cell_type": "code",
   "execution_count": 579,
   "id": "1e02ae7d",
   "metadata": {},
   "outputs": [
    {
     "data": {
      "text/plain": [
       "0"
      ]
     },
     "execution_count": 579,
     "metadata": {},
     "output_type": "execute_result"
    }
   ],
   "source": [
    "df.ms_zoning.isnull().sum()# No null values in the column"
   ]
  },
  {
   "cell_type": "code",
   "execution_count": 580,
   "id": "ea1cbb8d",
   "metadata": {},
   "outputs": [
    {
     "data": {
      "text/plain": [
       "RL         1598\n",
       "RM          316\n",
       "FV          101\n",
       "C (all)      19\n",
       "RH           14\n",
       "A (agr)       2\n",
       "I (all)       1\n",
       "Name: ms_zoning, dtype: int64"
      ]
     },
     "execution_count": 580,
     "metadata": {},
     "output_type": "execute_result"
    }
   ],
   "source": [
    "df.ms_zoning.value_counts()"
   ]
  },
  {
   "cell_type": "code",
   "execution_count": 581,
   "id": "0d87caf6",
   "metadata": {},
   "outputs": [
    {
     "data": {
      "text/html": [
       "<div>\n",
       "<style scoped>\n",
       "    .dataframe tbody tr th:only-of-type {\n",
       "        vertical-align: middle;\n",
       "    }\n",
       "\n",
       "    .dataframe tbody tr th {\n",
       "        vertical-align: top;\n",
       "    }\n",
       "\n",
       "    .dataframe thead th {\n",
       "        text-align: right;\n",
       "    }\n",
       "</style>\n",
       "<table border=\"1\" class=\"dataframe\">\n",
       "  <thead>\n",
       "    <tr style=\"text-align: right;\">\n",
       "      <th></th>\n",
       "      <th>id</th>\n",
       "      <th>pid</th>\n",
       "      <th>ms_subclass</th>\n",
       "      <th>ms_zoning</th>\n",
       "      <th>lot_frontage</th>\n",
       "      <th>lot_area</th>\n",
       "      <th>street</th>\n",
       "      <th>alley</th>\n",
       "      <th>lot_shape</th>\n",
       "      <th>land_contour</th>\n",
       "      <th>...</th>\n",
       "      <th>screen_porch</th>\n",
       "      <th>pool_area</th>\n",
       "      <th>pool_qc</th>\n",
       "      <th>fence</th>\n",
       "      <th>misc_feature</th>\n",
       "      <th>misc_val</th>\n",
       "      <th>mo_sold</th>\n",
       "      <th>yr_sold</th>\n",
       "      <th>sale_type</th>\n",
       "      <th>saleprice</th>\n",
       "    </tr>\n",
       "  </thead>\n",
       "  <tbody>\n",
       "    <tr>\n",
       "      <th>0</th>\n",
       "      <td>109</td>\n",
       "      <td>533352170</td>\n",
       "      <td>060</td>\n",
       "      <td>RL</td>\n",
       "      <td>NaN</td>\n",
       "      <td>13517</td>\n",
       "      <td>Pave</td>\n",
       "      <td>NaN</td>\n",
       "      <td>IR1</td>\n",
       "      <td>Lvl</td>\n",
       "      <td>...</td>\n",
       "      <td>0</td>\n",
       "      <td>0</td>\n",
       "      <td>NaN</td>\n",
       "      <td>NaN</td>\n",
       "      <td>NaN</td>\n",
       "      <td>0</td>\n",
       "      <td>3</td>\n",
       "      <td>2010</td>\n",
       "      <td>WD</td>\n",
       "      <td>130500</td>\n",
       "    </tr>\n",
       "    <tr>\n",
       "      <th>1</th>\n",
       "      <td>544</td>\n",
       "      <td>531379050</td>\n",
       "      <td>060</td>\n",
       "      <td>RL</td>\n",
       "      <td>43.0</td>\n",
       "      <td>11492</td>\n",
       "      <td>Pave</td>\n",
       "      <td>NaN</td>\n",
       "      <td>IR1</td>\n",
       "      <td>Lvl</td>\n",
       "      <td>...</td>\n",
       "      <td>0</td>\n",
       "      <td>0</td>\n",
       "      <td>NaN</td>\n",
       "      <td>NaN</td>\n",
       "      <td>NaN</td>\n",
       "      <td>0</td>\n",
       "      <td>4</td>\n",
       "      <td>2009</td>\n",
       "      <td>WD</td>\n",
       "      <td>220000</td>\n",
       "    </tr>\n",
       "    <tr>\n",
       "      <th>2</th>\n",
       "      <td>153</td>\n",
       "      <td>535304180</td>\n",
       "      <td>020</td>\n",
       "      <td>RL</td>\n",
       "      <td>68.0</td>\n",
       "      <td>7922</td>\n",
       "      <td>Pave</td>\n",
       "      <td>NaN</td>\n",
       "      <td>Reg</td>\n",
       "      <td>Lvl</td>\n",
       "      <td>...</td>\n",
       "      <td>0</td>\n",
       "      <td>0</td>\n",
       "      <td>NaN</td>\n",
       "      <td>NaN</td>\n",
       "      <td>NaN</td>\n",
       "      <td>0</td>\n",
       "      <td>1</td>\n",
       "      <td>2010</td>\n",
       "      <td>WD</td>\n",
       "      <td>109000</td>\n",
       "    </tr>\n",
       "    <tr>\n",
       "      <th>3</th>\n",
       "      <td>318</td>\n",
       "      <td>916386060</td>\n",
       "      <td>060</td>\n",
       "      <td>RL</td>\n",
       "      <td>73.0</td>\n",
       "      <td>9802</td>\n",
       "      <td>Pave</td>\n",
       "      <td>NaN</td>\n",
       "      <td>Reg</td>\n",
       "      <td>Lvl</td>\n",
       "      <td>...</td>\n",
       "      <td>0</td>\n",
       "      <td>0</td>\n",
       "      <td>NaN</td>\n",
       "      <td>NaN</td>\n",
       "      <td>NaN</td>\n",
       "      <td>0</td>\n",
       "      <td>4</td>\n",
       "      <td>2010</td>\n",
       "      <td>WD</td>\n",
       "      <td>174000</td>\n",
       "    </tr>\n",
       "    <tr>\n",
       "      <th>4</th>\n",
       "      <td>255</td>\n",
       "      <td>906425045</td>\n",
       "      <td>050</td>\n",
       "      <td>RL</td>\n",
       "      <td>82.0</td>\n",
       "      <td>14235</td>\n",
       "      <td>Pave</td>\n",
       "      <td>NaN</td>\n",
       "      <td>IR1</td>\n",
       "      <td>Lvl</td>\n",
       "      <td>...</td>\n",
       "      <td>0</td>\n",
       "      <td>0</td>\n",
       "      <td>NaN</td>\n",
       "      <td>NaN</td>\n",
       "      <td>NaN</td>\n",
       "      <td>0</td>\n",
       "      <td>3</td>\n",
       "      <td>2010</td>\n",
       "      <td>WD</td>\n",
       "      <td>138500</td>\n",
       "    </tr>\n",
       "    <tr>\n",
       "      <th>...</th>\n",
       "      <td>...</td>\n",
       "      <td>...</td>\n",
       "      <td>...</td>\n",
       "      <td>...</td>\n",
       "      <td>...</td>\n",
       "      <td>...</td>\n",
       "      <td>...</td>\n",
       "      <td>...</td>\n",
       "      <td>...</td>\n",
       "      <td>...</td>\n",
       "      <td>...</td>\n",
       "      <td>...</td>\n",
       "      <td>...</td>\n",
       "      <td>...</td>\n",
       "      <td>...</td>\n",
       "      <td>...</td>\n",
       "      <td>...</td>\n",
       "      <td>...</td>\n",
       "      <td>...</td>\n",
       "      <td>...</td>\n",
       "      <td>...</td>\n",
       "    </tr>\n",
       "    <tr>\n",
       "      <th>2046</th>\n",
       "      <td>1587</td>\n",
       "      <td>921126030</td>\n",
       "      <td>020</td>\n",
       "      <td>RL</td>\n",
       "      <td>79.0</td>\n",
       "      <td>11449</td>\n",
       "      <td>Pave</td>\n",
       "      <td>NaN</td>\n",
       "      <td>IR1</td>\n",
       "      <td>HLS</td>\n",
       "      <td>...</td>\n",
       "      <td>0</td>\n",
       "      <td>0</td>\n",
       "      <td>NaN</td>\n",
       "      <td>NaN</td>\n",
       "      <td>NaN</td>\n",
       "      <td>0</td>\n",
       "      <td>1</td>\n",
       "      <td>2008</td>\n",
       "      <td>WD</td>\n",
       "      <td>298751</td>\n",
       "    </tr>\n",
       "    <tr>\n",
       "      <th>2047</th>\n",
       "      <td>785</td>\n",
       "      <td>905377130</td>\n",
       "      <td>030</td>\n",
       "      <td>RL</td>\n",
       "      <td>NaN</td>\n",
       "      <td>12342</td>\n",
       "      <td>Pave</td>\n",
       "      <td>NaN</td>\n",
       "      <td>IR1</td>\n",
       "      <td>Lvl</td>\n",
       "      <td>...</td>\n",
       "      <td>0</td>\n",
       "      <td>0</td>\n",
       "      <td>NaN</td>\n",
       "      <td>NaN</td>\n",
       "      <td>NaN</td>\n",
       "      <td>0</td>\n",
       "      <td>3</td>\n",
       "      <td>2009</td>\n",
       "      <td>WD</td>\n",
       "      <td>82500</td>\n",
       "    </tr>\n",
       "    <tr>\n",
       "      <th>2048</th>\n",
       "      <td>916</td>\n",
       "      <td>909253010</td>\n",
       "      <td>050</td>\n",
       "      <td>RL</td>\n",
       "      <td>57.0</td>\n",
       "      <td>7558</td>\n",
       "      <td>Pave</td>\n",
       "      <td>NaN</td>\n",
       "      <td>Reg</td>\n",
       "      <td>Bnk</td>\n",
       "      <td>...</td>\n",
       "      <td>0</td>\n",
       "      <td>0</td>\n",
       "      <td>NaN</td>\n",
       "      <td>NaN</td>\n",
       "      <td>NaN</td>\n",
       "      <td>0</td>\n",
       "      <td>3</td>\n",
       "      <td>2009</td>\n",
       "      <td>WD</td>\n",
       "      <td>177000</td>\n",
       "    </tr>\n",
       "    <tr>\n",
       "      <th>2049</th>\n",
       "      <td>639</td>\n",
       "      <td>535179160</td>\n",
       "      <td>020</td>\n",
       "      <td>RL</td>\n",
       "      <td>80.0</td>\n",
       "      <td>10400</td>\n",
       "      <td>Pave</td>\n",
       "      <td>NaN</td>\n",
       "      <td>Reg</td>\n",
       "      <td>Lvl</td>\n",
       "      <td>...</td>\n",
       "      <td>0</td>\n",
       "      <td>0</td>\n",
       "      <td>NaN</td>\n",
       "      <td>NaN</td>\n",
       "      <td>NaN</td>\n",
       "      <td>0</td>\n",
       "      <td>11</td>\n",
       "      <td>2009</td>\n",
       "      <td>WD</td>\n",
       "      <td>144000</td>\n",
       "    </tr>\n",
       "    <tr>\n",
       "      <th>2050</th>\n",
       "      <td>10</td>\n",
       "      <td>527162130</td>\n",
       "      <td>060</td>\n",
       "      <td>RL</td>\n",
       "      <td>60.0</td>\n",
       "      <td>7500</td>\n",
       "      <td>Pave</td>\n",
       "      <td>NaN</td>\n",
       "      <td>Reg</td>\n",
       "      <td>Lvl</td>\n",
       "      <td>...</td>\n",
       "      <td>0</td>\n",
       "      <td>0</td>\n",
       "      <td>NaN</td>\n",
       "      <td>NaN</td>\n",
       "      <td>NaN</td>\n",
       "      <td>0</td>\n",
       "      <td>6</td>\n",
       "      <td>2010</td>\n",
       "      <td>WD</td>\n",
       "      <td>189000</td>\n",
       "    </tr>\n",
       "  </tbody>\n",
       "</table>\n",
       "<p>1598 rows × 81 columns</p>\n",
       "</div>"
      ],
      "text/plain": [
       "        id        pid ms_subclass ms_zoning  lot_frontage  lot_area street  \\\n",
       "0      109  533352170         060        RL           NaN     13517   Pave   \n",
       "1      544  531379050         060        RL          43.0     11492   Pave   \n",
       "2      153  535304180         020        RL          68.0      7922   Pave   \n",
       "3      318  916386060         060        RL          73.0      9802   Pave   \n",
       "4      255  906425045         050        RL          82.0     14235   Pave   \n",
       "...    ...        ...         ...       ...           ...       ...    ...   \n",
       "2046  1587  921126030         020        RL          79.0     11449   Pave   \n",
       "2047   785  905377130         030        RL           NaN     12342   Pave   \n",
       "2048   916  909253010         050        RL          57.0      7558   Pave   \n",
       "2049   639  535179160         020        RL          80.0     10400   Pave   \n",
       "2050    10  527162130         060        RL          60.0      7500   Pave   \n",
       "\n",
       "     alley lot_shape land_contour  ... screen_porch pool_area pool_qc fence  \\\n",
       "0      NaN       IR1          Lvl  ...            0         0     NaN   NaN   \n",
       "1      NaN       IR1          Lvl  ...            0         0     NaN   NaN   \n",
       "2      NaN       Reg          Lvl  ...            0         0     NaN   NaN   \n",
       "3      NaN       Reg          Lvl  ...            0         0     NaN   NaN   \n",
       "4      NaN       IR1          Lvl  ...            0         0     NaN   NaN   \n",
       "...    ...       ...          ...  ...          ...       ...     ...   ...   \n",
       "2046   NaN       IR1          HLS  ...            0         0     NaN   NaN   \n",
       "2047   NaN       IR1          Lvl  ...            0         0     NaN   NaN   \n",
       "2048   NaN       Reg          Bnk  ...            0         0     NaN   NaN   \n",
       "2049   NaN       Reg          Lvl  ...            0         0     NaN   NaN   \n",
       "2050   NaN       Reg          Lvl  ...            0         0     NaN   NaN   \n",
       "\n",
       "     misc_feature misc_val mo_sold yr_sold  sale_type  saleprice  \n",
       "0             NaN        0       3    2010        WD      130500  \n",
       "1             NaN        0       4    2009        WD      220000  \n",
       "2             NaN        0       1    2010        WD      109000  \n",
       "3             NaN        0       4    2010        WD      174000  \n",
       "4             NaN        0       3    2010        WD      138500  \n",
       "...           ...      ...     ...     ...        ...        ...  \n",
       "2046          NaN        0       1    2008        WD      298751  \n",
       "2047          NaN        0       3    2009        WD       82500  \n",
       "2048          NaN        0       3    2009        WD      177000  \n",
       "2049          NaN        0      11    2009        WD      144000  \n",
       "2050          NaN        0       6    2010        WD      189000  \n",
       "\n",
       "[1598 rows x 81 columns]"
      ]
     },
     "execution_count": 581,
     "metadata": {},
     "output_type": "execute_result"
    }
   ],
   "source": [
    "df[df.ms_zoning=='RL'] "
   ]
  },
  {
   "cell_type": "markdown",
   "id": "e43606ac",
   "metadata": {},
   "source": [
    "**RL can be either residential or park as per data dictionary, not reflected here, to check**"
   ]
  },
  {
   "cell_type": "code",
   "execution_count": 582,
   "id": "18ced034",
   "metadata": {},
   "outputs": [],
   "source": [
    "dict_mszoning = {'C (all)':'C', \n",
    "                 'A (agr)':'A',\n",
    "                 'I (all)':'I',\n",
    "                 'RL':'RL',\n",
    "                 'RM':'RM',\n",
    "                 'FV':'FV',\n",
    "                 'RH':'RH'}"
   ]
  },
  {
   "cell_type": "code",
   "execution_count": 583,
   "id": "fa26e02e",
   "metadata": {},
   "outputs": [],
   "source": [
    "df.ms_zoning = [dict_mszoning[entry] for entry in df.ms_zoning]#cleaned entries "
   ]
  },
  {
   "cell_type": "code",
   "execution_count": 584,
   "id": "1e9edbd7",
   "metadata": {},
   "outputs": [
    {
     "name": "stderr",
     "output_type": "stream",
     "text": [
      "/var/folders/14/ql83cw_14pn_55xg8kg9ctcc0000gn/T/ipykernel_52037/2385313051.py:10: UserWarning: FixedFormatter should only be used together with FixedLocator\n",
      "  ax[0].set_xticklabels(my_labels,\n",
      "/var/folders/14/ql83cw_14pn_55xg8kg9ctcc0000gn/T/ipykernel_52037/2385313051.py:19: UserWarning: FixedFormatter should only be used together with FixedLocator\n",
      "  ax[1].set_xticklabels(my_labels,\n"
     ]
    },
    {
     "data": {
      "image/png": "[encoded data removed]",
      "text/plain": [
       "<Figure size 504x1080 with 3 Axes>"
      ]
     },
     "metadata": {
      "needs_background": "light"
     },
     "output_type": "display_data"
    }
   ],
   "source": [
    "figure, ax = plt.subplots(3,1,figsize = (7,15))\n",
    "my_labels= ['Agriculture','Commercial','Floating Village Residential','Industrial',\n",
    "       'Residential High Density','Residential Low Density',\n",
    "       'Residential Medium Density']\n",
    "ax[0].bar(df['ms_zoning'], df['saleprice'],label='frequencies')\n",
    "ax[0].set(xlabel='MS_Zoning',\n",
    "          ylabel='Saleprice',\n",
    "          title='Saleprice of different MS_Zones')\n",
    "          \n",
    "ax[0].set_xticklabels(my_labels,\n",
    "                  rotation = 45,\n",
    "                  horizontalalignment = 'right')\n",
    "\n",
    "ax[0].legend()\n",
    "ax[1].scatter(df['ms_zoning'], df['saleprice'],label='scatter')\n",
    "ax[1].set(xlabel='MS_Zoning',\n",
    "          ylabel='Saleprice',\n",
    "          title='Saleprice of different MS_Zones')\n",
    "ax[1].set_xticklabels(my_labels,\n",
    "                  rotation = 45,\n",
    "                  horizontalalignment = 'right')\n",
    "          \n",
    "ax[1].legend()\n",
    "df.boxplot(column ='saleprice',by= 'ms_zoning',color='green',notch=True, ax=ax[2] );\n",
    "ax[2].set(xlabel='MS_Zoning',\n",
    "          ylabel='Saleprice',\n",
    "          title='Saleprice of different MS_Zones')\n",
    "ax[2].set_xticklabels(my_labels,\n",
    "                  rotation = 45,\n",
    "                  horizontalalignment = 'right')\n",
    "# ax[2].legend()\n",
    "# plt.xticks(my_labels, ha='right')\n",
    "plt.tight_layout()\n",
    "plt.show()"
   ]
  },
  {
   "cell_type": "markdown",
   "id": "5c593b4d",
   "metadata": {},
   "source": [
    "### lotfrontage-Continuous-Linear feet of street connected to property"
   ]
  },
  {
   "cell_type": "code",
   "execution_count": 585,
   "id": "248c7f46",
   "metadata": {},
   "outputs": [
    {
     "data": {
      "text/plain": [
       "330"
      ]
     },
     "execution_count": 585,
     "metadata": {},
     "output_type": "execute_result"
    }
   ],
   "source": [
    "df.lot_frontage.isnull().sum()"
   ]
  },
  {
   "cell_type": "code",
   "execution_count": 586,
   "id": "af8db61a",
   "metadata": {},
   "outputs": [
    {
     "data": {
      "text/plain": [
       "array([ nan,  43.,  68.,  73.,  82., 137.,  35.,  70.,  21.,  64., 120.,\n",
       "        24.,  74.,  93.,  34.,  80.,  71.,  72., 109.,  40., 103., 100.,\n",
       "        92.,  65.,  75.,  60.,  30.,  79.,  41., 105., 107.,  81.,  36.,\n",
       "        63.,  32.,  94.,  44.,  50.,  48.,  67.,  88.,  83.,  53.,  58.,\n",
       "        57.,  52.,  87., 134.,  56.,  54., 140.,  78.,  85.,  90.,  96.,\n",
       "        62.,  49.,  59., 155.,  91.,  61.,  86., 128.,  77.,  42.,  89.,\n",
       "        51.,  69.,  55., 112.,  76., 125.,  98., 113., 102.,  22., 122.,\n",
       "        84., 119., 118.,  66.,  95., 108., 195., 106.,  39., 110., 130.,\n",
       "        97.,  45.,  37., 123.,  38., 129., 115.,  47., 114., 104.,  46.,\n",
       "       121., 124., 313., 141., 101.,  99., 160., 174.,  26., 144., 138.,\n",
       "       111.,  25.,  33., 200., 150., 117., 153., 116., 135.])"
      ]
     },
     "execution_count": 586,
     "metadata": {},
     "output_type": "execute_result"
    }
   ],
   "source": [
    "df.lot_frontage.unique()"
   ]
  },
  {
   "cell_type": "code",
   "execution_count": 587,
   "id": "3b9043b8",
   "metadata": {},
   "outputs": [],
   "source": [
    "df.lot_frontage.interpolate(method='nearest',inplace=True)\n",
    "#interpolation of values"
   ]
  },
  {
   "cell_type": "code",
   "execution_count": 588,
   "id": "3d616855",
   "metadata": {},
   "outputs": [
    {
     "data": {
      "text/plain": [
       "1"
      ]
     },
     "execution_count": 588,
     "metadata": {},
     "output_type": "execute_result"
    }
   ],
   "source": [
    "df.lot_frontage.isnull().sum()"
   ]
  },
  {
   "cell_type": "code",
   "execution_count": 589,
   "id": "b156a321",
   "metadata": {},
   "outputs": [
    {
     "data": {
      "text/html": [
       "<div>\n",
       "<style scoped>\n",
       "    .dataframe tbody tr th:only-of-type {\n",
       "        vertical-align: middle;\n",
       "    }\n",
       "\n",
       "    .dataframe tbody tr th {\n",
       "        vertical-align: top;\n",
       "    }\n",
       "\n",
       "    .dataframe thead th {\n",
       "        text-align: right;\n",
       "    }\n",
       "</style>\n",
       "<table border=\"1\" class=\"dataframe\">\n",
       "  <thead>\n",
       "    <tr style=\"text-align: right;\">\n",
       "      <th></th>\n",
       "      <th>id</th>\n",
       "      <th>pid</th>\n",
       "      <th>ms_subclass</th>\n",
       "      <th>ms_zoning</th>\n",
       "      <th>lot_frontage</th>\n",
       "      <th>lot_area</th>\n",
       "      <th>street</th>\n",
       "      <th>alley</th>\n",
       "      <th>lot_shape</th>\n",
       "      <th>land_contour</th>\n",
       "      <th>...</th>\n",
       "      <th>screen_porch</th>\n",
       "      <th>pool_area</th>\n",
       "      <th>pool_qc</th>\n",
       "      <th>fence</th>\n",
       "      <th>misc_feature</th>\n",
       "      <th>misc_val</th>\n",
       "      <th>mo_sold</th>\n",
       "      <th>yr_sold</th>\n",
       "      <th>sale_type</th>\n",
       "      <th>saleprice</th>\n",
       "    </tr>\n",
       "  </thead>\n",
       "  <tbody>\n",
       "    <tr>\n",
       "      <th>0</th>\n",
       "      <td>109</td>\n",
       "      <td>533352170</td>\n",
       "      <td>060</td>\n",
       "      <td>RL</td>\n",
       "      <td>NaN</td>\n",
       "      <td>13517</td>\n",
       "      <td>Pave</td>\n",
       "      <td>NaN</td>\n",
       "      <td>IR1</td>\n",
       "      <td>Lvl</td>\n",
       "      <td>...</td>\n",
       "      <td>0</td>\n",
       "      <td>0</td>\n",
       "      <td>NaN</td>\n",
       "      <td>NaN</td>\n",
       "      <td>NaN</td>\n",
       "      <td>0</td>\n",
       "      <td>3</td>\n",
       "      <td>2010</td>\n",
       "      <td>WD</td>\n",
       "      <td>130500</td>\n",
       "    </tr>\n",
       "  </tbody>\n",
       "</table>\n",
       "<p>1 rows × 81 columns</p>\n",
       "</div>"
      ],
      "text/plain": [
       "    id        pid ms_subclass ms_zoning  lot_frontage  lot_area street alley  \\\n",
       "0  109  533352170         060        RL           NaN     13517   Pave   NaN   \n",
       "\n",
       "  lot_shape land_contour  ... screen_porch pool_area pool_qc fence  \\\n",
       "0       IR1          Lvl  ...            0         0     NaN   NaN   \n",
       "\n",
       "  misc_feature misc_val mo_sold yr_sold  sale_type  saleprice  \n",
       "0          NaN        0       3    2010        WD      130500  \n",
       "\n",
       "[1 rows x 81 columns]"
      ]
     },
     "execution_count": 589,
     "metadata": {},
     "output_type": "execute_result"
    }
   ],
   "source": [
    "df[df.lot_frontage.isnull()]\n",
    "#first entry#"
   ]
  },
  {
   "cell_type": "code",
   "execution_count": 590,
   "id": "8d2b45c9",
   "metadata": {},
   "outputs": [],
   "source": [
    "df.iloc[0,4]=df.iloc[1,4]\n",
    "#changing first entry based on second entry which lies in same ms_subclass\n"
   ]
  },
  {
   "cell_type": "code",
   "execution_count": 591,
   "id": "d9ea10ae",
   "metadata": {},
   "outputs": [
    {
     "data": {
      "text/html": [
       "<div>\n",
       "<style scoped>\n",
       "    .dataframe tbody tr th:only-of-type {\n",
       "        vertical-align: middle;\n",
       "    }\n",
       "\n",
       "    .dataframe tbody tr th {\n",
       "        vertical-align: top;\n",
       "    }\n",
       "\n",
       "    .dataframe thead th {\n",
       "        text-align: right;\n",
       "    }\n",
       "</style>\n",
       "<table border=\"1\" class=\"dataframe\">\n",
       "  <thead>\n",
       "    <tr style=\"text-align: right;\">\n",
       "      <th></th>\n",
       "      <th>id</th>\n",
       "      <th>pid</th>\n",
       "      <th>ms_subclass</th>\n",
       "      <th>ms_zoning</th>\n",
       "      <th>lot_frontage</th>\n",
       "      <th>lot_area</th>\n",
       "      <th>street</th>\n",
       "      <th>alley</th>\n",
       "      <th>lot_shape</th>\n",
       "      <th>land_contour</th>\n",
       "      <th>...</th>\n",
       "      <th>screen_porch</th>\n",
       "      <th>pool_area</th>\n",
       "      <th>pool_qc</th>\n",
       "      <th>fence</th>\n",
       "      <th>misc_feature</th>\n",
       "      <th>misc_val</th>\n",
       "      <th>mo_sold</th>\n",
       "      <th>yr_sold</th>\n",
       "      <th>sale_type</th>\n",
       "      <th>saleprice</th>\n",
       "    </tr>\n",
       "  </thead>\n",
       "  <tbody>\n",
       "  </tbody>\n",
       "</table>\n",
       "<p>0 rows × 81 columns</p>\n",
       "</div>"
      ],
      "text/plain": [
       "Empty DataFrame\n",
       "Columns: [id, pid, ms_subclass, ms_zoning, lot_frontage, lot_area, street, alley, lot_shape, land_contour, utilities, lot_config, land_slope, neighborhood, condition_1, condition_2, bldg_type, house_style, overall_qual, overall_cond, year_built, year_remod/add, roof_style, roof_matl, exterior_1st, exterior_2nd, mas_vnr_type, mas_vnr_area, exter_qual, exter_cond, foundation, bsmt_qual, bsmt_cond, bsmt_exposure, bsmtfin_type_1, bsmtfin_sf_1, bsmtfin_type_2, bsmtfin_sf_2, bsmt_unf_sf, total_bsmt_sf, heating, heating_qc, central_air, electrical, 1st_flr_sf, flr2nd_sf, low_qual_fin_sf, gr_liv_area, bsmt_full_bath, bsmt_half_bath, full_bath, half_bath, bedroom_abvgr, kitchen_abvgr, kitchen_qual, totrms_abvgrd, functional, fireplaces, fireplace_qu, garage_type, garage_yr_blt, garage_finish, garage_cars, garage_area, garage_qual, garage_cond, paved_drive, wood_deck_sf, open_porch_sf, enclosed_porch, ssn3_porch, screen_porch, pool_area, pool_qc, fence, misc_feature, misc_val, mo_sold, yr_sold, sale_type, saleprice]\n",
       "Index: []\n",
       "\n",
       "[0 rows x 81 columns]"
      ]
     },
     "execution_count": 591,
     "metadata": {},
     "output_type": "execute_result"
    }
   ],
   "source": [
    "df[df.lot_frontage<0]"
   ]
  },
  {
   "cell_type": "code",
   "execution_count": 592,
   "id": "aa9d218e",
   "metadata": {},
   "outputs": [
    {
     "data": {
      "image/png": "[encoded data removed]",
      "text/plain": [
       "<Figure size 504x360 with 1 Axes>"
      ]
     },
     "metadata": {
      "needs_background": "light"
     },
     "output_type": "display_data"
    }
   ],
   "source": [
    "figure, ax = plt.subplots(1,1,figsize = (7,5))\n",
    "\n",
    "ax.scatter(df['lot_frontage'], df['saleprice'],color='pink', alpha=0.5)\n",
    "ax.set(xlabel='Lot Frontage',\n",
    "          ylabel='Saleprice',\n",
    "          title='Saleprice vs Lot Frontage')\n",
    "\n",
    "plt.show()"
   ]
  },
  {
   "cell_type": "markdown",
   "id": "ac6d2265",
   "metadata": {},
   "source": [
    "### lot_area-continuous"
   ]
  },
  {
   "cell_type": "code",
   "execution_count": 593,
   "id": "65291a77",
   "metadata": {},
   "outputs": [
    {
     "data": {
      "text/plain": [
       "0"
      ]
     },
     "execution_count": 593,
     "metadata": {},
     "output_type": "execute_result"
    }
   ],
   "source": [
    "df.lot_area.isnull().sum()"
   ]
  },
  {
   "cell_type": "code",
   "execution_count": 594,
   "id": "0daa3b32",
   "metadata": {},
   "outputs": [
    {
     "data": {
      "text/html": [
       "<div>\n",
       "<style scoped>\n",
       "    .dataframe tbody tr th:only-of-type {\n",
       "        vertical-align: middle;\n",
       "    }\n",
       "\n",
       "    .dataframe tbody tr th {\n",
       "        vertical-align: top;\n",
       "    }\n",
       "\n",
       "    .dataframe thead th {\n",
       "        text-align: right;\n",
       "    }\n",
       "</style>\n",
       "<table border=\"1\" class=\"dataframe\">\n",
       "  <thead>\n",
       "    <tr style=\"text-align: right;\">\n",
       "      <th></th>\n",
       "      <th>id</th>\n",
       "      <th>pid</th>\n",
       "      <th>ms_subclass</th>\n",
       "      <th>ms_zoning</th>\n",
       "      <th>lot_frontage</th>\n",
       "      <th>lot_area</th>\n",
       "      <th>street</th>\n",
       "      <th>alley</th>\n",
       "      <th>lot_shape</th>\n",
       "      <th>land_contour</th>\n",
       "      <th>...</th>\n",
       "      <th>screen_porch</th>\n",
       "      <th>pool_area</th>\n",
       "      <th>pool_qc</th>\n",
       "      <th>fence</th>\n",
       "      <th>misc_feature</th>\n",
       "      <th>misc_val</th>\n",
       "      <th>mo_sold</th>\n",
       "      <th>yr_sold</th>\n",
       "      <th>sale_type</th>\n",
       "      <th>saleprice</th>\n",
       "    </tr>\n",
       "  </thead>\n",
       "  <tbody>\n",
       "  </tbody>\n",
       "</table>\n",
       "<p>0 rows × 81 columns</p>\n",
       "</div>"
      ],
      "text/plain": [
       "Empty DataFrame\n",
       "Columns: [id, pid, ms_subclass, ms_zoning, lot_frontage, lot_area, street, alley, lot_shape, land_contour, utilities, lot_config, land_slope, neighborhood, condition_1, condition_2, bldg_type, house_style, overall_qual, overall_cond, year_built, year_remod/add, roof_style, roof_matl, exterior_1st, exterior_2nd, mas_vnr_type, mas_vnr_area, exter_qual, exter_cond, foundation, bsmt_qual, bsmt_cond, bsmt_exposure, bsmtfin_type_1, bsmtfin_sf_1, bsmtfin_type_2, bsmtfin_sf_2, bsmt_unf_sf, total_bsmt_sf, heating, heating_qc, central_air, electrical, 1st_flr_sf, flr2nd_sf, low_qual_fin_sf, gr_liv_area, bsmt_full_bath, bsmt_half_bath, full_bath, half_bath, bedroom_abvgr, kitchen_abvgr, kitchen_qual, totrms_abvgrd, functional, fireplaces, fireplace_qu, garage_type, garage_yr_blt, garage_finish, garage_cars, garage_area, garage_qual, garage_cond, paved_drive, wood_deck_sf, open_porch_sf, enclosed_porch, ssn3_porch, screen_porch, pool_area, pool_qc, fence, misc_feature, misc_val, mo_sold, yr_sold, sale_type, saleprice]\n",
       "Index: []\n",
       "\n",
       "[0 rows x 81 columns]"
      ]
     },
     "execution_count": 594,
     "metadata": {},
     "output_type": "execute_result"
    }
   ],
   "source": [
    "df[df.lot_area<0]"
   ]
  },
  {
   "cell_type": "code",
   "execution_count": 595,
   "id": "cbdaaba6",
   "metadata": {},
   "outputs": [
    {
     "data": {
      "image/png": "[encoded data removed]",
      "text/plain": [
       "<Figure size 504x360 with 1 Axes>"
      ]
     },
     "metadata": {
      "needs_background": "light"
     },
     "output_type": "display_data"
    }
   ],
   "source": [
    "figure, ax = plt.subplots(1,1,figsize = (7,5))\n",
    "\n",
    "ax.scatter(df['lot_area'], df['saleprice'],color='g', alpha=0.2)\n",
    "ax.set(xlabel='Lot Area',\n",
    "          ylabel='Saleprice',\n",
    "          title='Saleprice vs Lot Area')\n",
    "\n",
    "plt.show()"
   ]
  },
  {
   "cell_type": "markdown",
   "id": "750d3205",
   "metadata": {},
   "source": [
    "### street-nominal"
   ]
  },
  {
   "cell_type": "code",
   "execution_count": 596,
   "id": "4f5e8839",
   "metadata": {},
   "outputs": [
    {
     "data": {
      "text/plain": [
       "array(['Pave', 'Grvl'], dtype=object)"
      ]
     },
     "execution_count": 596,
     "metadata": {},
     "output_type": "execute_result"
    }
   ],
   "source": [
    "df.street.unique()"
   ]
  },
  {
   "cell_type": "code",
   "execution_count": 597,
   "id": "b31ebed0",
   "metadata": {},
   "outputs": [
    {
     "data": {
      "text/plain": [
       "0"
      ]
     },
     "execution_count": 597,
     "metadata": {},
     "output_type": "execute_result"
    }
   ],
   "source": [
    "df.street.isnull().sum()"
   ]
  },
  {
   "cell_type": "code",
   "execution_count": 598,
   "id": "0da82da5",
   "metadata": {},
   "outputs": [
    {
     "data": {
      "image/png": "[encoded data removed]",
      "text/plain": [
       "<Figure size 504x360 with 1 Axes>"
      ]
     },
     "metadata": {
      "needs_background": "light"
     },
     "output_type": "display_data"
    }
   ],
   "source": [
    "fig,ax=plt.subplots(1,1,figsize=(7,5))\n",
    "ax.scatter(df['street'], df['saleprice'],label='scatter')\n",
    "ax.set(xlabel='Street',\n",
    "          ylabel='Saleprice',\n",
    "          title='Saleprice vs Streets')\n",
    "# my_labels=['Paved']\n",
    "# ax.set_xticklabels(my_labels,\n",
    "#                   rotation = 45,\n",
    "#                   horizontalalignment = 'right')\n",
    "plt.show()"
   ]
  },
  {
   "cell_type": "markdown",
   "id": "429c47ec",
   "metadata": {},
   "source": [
    "### Alley (Nominal): Type of alley access to property"
   ]
  },
  {
   "cell_type": "code",
   "execution_count": 599,
   "id": "0fdbebe8",
   "metadata": {},
   "outputs": [
    {
     "data": {
      "text/plain": [
       "array([nan, 'Pave', 'Grvl'], dtype=object)"
      ]
     },
     "execution_count": 599,
     "metadata": {},
     "output_type": "execute_result"
    }
   ],
   "source": [
    "df.alley.unique()"
   ]
  },
  {
   "cell_type": "code",
   "execution_count": 600,
   "id": "2feae23d",
   "metadata": {},
   "outputs": [
    {
     "data": {
      "text/plain": [
       "Grvl    85\n",
       "Pave    55\n",
       "Name: alley, dtype: int64"
      ]
     },
     "execution_count": 600,
     "metadata": {},
     "output_type": "execute_result"
    }
   ],
   "source": [
    "df.alley.value_counts()"
   ]
  },
  {
   "cell_type": "code",
   "execution_count": 601,
   "id": "257fd934",
   "metadata": {},
   "outputs": [
    {
     "data": {
      "text/plain": [
       "1911"
      ]
     },
     "execution_count": 601,
     "metadata": {},
     "output_type": "execute_result"
    }
   ],
   "source": [
    "df.alley.isnull().sum()#too many missing values so I will frop the entire column"
   ]
  },
  {
   "cell_type": "code",
   "execution_count": 602,
   "id": "f90f7290",
   "metadata": {},
   "outputs": [],
   "source": [
    "df.drop(columns='alley',inplace=True)"
   ]
  },
  {
   "cell_type": "code",
   "execution_count": 603,
   "id": "01c60906",
   "metadata": {},
   "outputs": [],
   "source": [
    "#"
   ]
  },
  {
   "cell_type": "markdown",
   "id": "e83d009d",
   "metadata": {},
   "source": [
    "### Lot Shape (Ordinal): General shape of property"
   ]
  },
  {
   "cell_type": "code",
   "execution_count": 604,
   "id": "44975682",
   "metadata": {},
   "outputs": [
    {
     "data": {
      "text/plain": [
       "array(['IR1', 'Reg', 'IR2', 'IR3'], dtype=object)"
      ]
     },
     "execution_count": 604,
     "metadata": {},
     "output_type": "execute_result"
    }
   ],
   "source": [
    "df.lot_shape.unique()"
   ]
  },
  {
   "cell_type": "code",
   "execution_count": 605,
   "id": "d3c95985",
   "metadata": {},
   "outputs": [
    {
     "data": {
      "text/plain": [
       "0"
      ]
     },
     "execution_count": 605,
     "metadata": {},
     "output_type": "execute_result"
    }
   ],
   "source": [
    "df.lot_shape.isnull().sum()"
   ]
  },
  {
   "cell_type": "code",
   "execution_count": 606,
   "id": "20eb1025",
   "metadata": {},
   "outputs": [
    {
     "data": {
      "image/png": "[encoded data removed]",
      "text/plain": [
       "<Figure size 504x360 with 1 Axes>"
      ]
     },
     "metadata": {
      "needs_background": "light"
     },
     "output_type": "display_data"
    }
   ],
   "source": [
    "fig,ax=plt.subplots(1,1,figsize=(7,5))\n",
    "ax.scatter(df['lot_shape'], df['saleprice'],label='scatter')\n",
    "ax.set(xlabel='Lot Shape',\n",
    "          ylabel='Saleprice',\n",
    "          title='Saleprice vs Lot Shape');"
   ]
  },
  {
   "cell_type": "markdown",
   "id": "8903fb0a",
   "metadata": {},
   "source": [
    "### Land Contour (Nominal): Flatness of the property"
   ]
  },
  {
   "cell_type": "code",
   "execution_count": 607,
   "id": "9c8ab07b",
   "metadata": {},
   "outputs": [
    {
     "data": {
      "text/plain": [
       "array(['Lvl', 'HLS', 'Bnk', 'Low'], dtype=object)"
      ]
     },
     "execution_count": 607,
     "metadata": {},
     "output_type": "execute_result"
    }
   ],
   "source": [
    "df.land_contour.unique()"
   ]
  },
  {
   "cell_type": "code",
   "execution_count": 608,
   "id": "30f2edca",
   "metadata": {},
   "outputs": [
    {
     "data": {
      "text/plain": [
       "0"
      ]
     },
     "execution_count": 608,
     "metadata": {},
     "output_type": "execute_result"
    }
   ],
   "source": [
    "df.land_contour.isna().sum()"
   ]
  },
  {
   "cell_type": "code",
   "execution_count": 609,
   "id": "5a134ac3",
   "metadata": {},
   "outputs": [
    {
     "data": {
      "image/png": "[encoded data removed]",
      "text/plain": [
       "<Figure size 504x360 with 1 Axes>"
      ]
     },
     "metadata": {
      "needs_background": "light"
     },
     "output_type": "display_data"
    }
   ],
   "source": [
    "fig,ax=plt.subplots(1,1,figsize=(7,5))\n",
    "ax.scatter(df['land_contour'], df['saleprice'],label='scatter', c='g')\n",
    "ax.set(xlabel='Land Contour',\n",
    "          ylabel='Saleprice',\n",
    "          title='Saleprice vs Land Contour');"
   ]
  },
  {
   "cell_type": "markdown",
   "id": "81ffb52d",
   "metadata": {},
   "source": [
    "### Utilities (Ordinal): Type of utilities available"
   ]
  },
  {
   "cell_type": "code",
   "execution_count": 610,
   "id": "bdec5ef5",
   "metadata": {},
   "outputs": [
    {
     "data": {
      "text/plain": [
       "array(['AllPub', 'NoSeWa', 'NoSewr'], dtype=object)"
      ]
     },
     "execution_count": 610,
     "metadata": {},
     "output_type": "execute_result"
    }
   ],
   "source": [
    "df.utilities.unique()"
   ]
  },
  {
   "cell_type": "code",
   "execution_count": 611,
   "id": "8ef2e580",
   "metadata": {},
   "outputs": [
    {
     "data": {
      "text/plain": [
       "AllPub    2049\n",
       "NoSeWa       1\n",
       "NoSewr       1\n",
       "Name: utilities, dtype: int64"
      ]
     },
     "execution_count": 611,
     "metadata": {},
     "output_type": "execute_result"
    }
   ],
   "source": [
    "df.utilities.value_counts()"
   ]
  },
  {
   "cell_type": "code",
   "execution_count": 612,
   "id": "a5d7dfa9",
   "metadata": {},
   "outputs": [
    {
     "data": {
      "text/plain": [
       "0"
      ]
     },
     "execution_count": 612,
     "metadata": {},
     "output_type": "execute_result"
    }
   ],
   "source": [
    "df.utilities.isna().sum()\n"
   ]
  },
  {
   "cell_type": "code",
   "execution_count": 613,
   "id": "0b6dc1df",
   "metadata": {},
   "outputs": [
    {
     "data": {
      "image/png": "[encoded data removed]",
      "text/plain": [
       "<Figure size 504x360 with 1 Axes>"
      ]
     },
     "metadata": {
      "needs_background": "light"
     },
     "output_type": "display_data"
    }
   ],
   "source": [
    "fig,ax=plt.subplots(1,1,figsize=(7,5))\n",
    "ax.scatter(df['utilities'], df['saleprice'],label='scatter', c='orange', alpha=0.5)\n",
    "ax.set(xlabel='Utilities',\n",
    "          ylabel='Saleprice',\n",
    "          title='Saleprice vs Utilities');"
   ]
  },
  {
   "cell_type": "markdown",
   "id": "9523e5e4",
   "metadata": {},
   "source": [
    "### Lot Config (Nominal): Lot configuration"
   ]
  },
  {
   "cell_type": "code",
   "execution_count": 614,
   "id": "c09f86fa",
   "metadata": {},
   "outputs": [
    {
     "data": {
      "text/plain": [
       "array(['CulDSac', 'Inside', 'Corner', 'FR2', 'FR3'], dtype=object)"
      ]
     },
     "execution_count": 614,
     "metadata": {},
     "output_type": "execute_result"
    }
   ],
   "source": [
    "df.lot_config.unique()"
   ]
  },
  {
   "cell_type": "code",
   "execution_count": 615,
   "id": "56a58ece",
   "metadata": {},
   "outputs": [
    {
     "data": {
      "text/plain": [
       "Inside     1503\n",
       "Corner      348\n",
       "CulDSac     131\n",
       "FR2          60\n",
       "FR3           9\n",
       "Name: lot_config, dtype: int64"
      ]
     },
     "execution_count": 615,
     "metadata": {},
     "output_type": "execute_result"
    }
   ],
   "source": [
    "df.lot_config.value_counts()"
   ]
  },
  {
   "cell_type": "code",
   "execution_count": 616,
   "id": "f20be739",
   "metadata": {},
   "outputs": [
    {
     "data": {
      "text/plain": [
       "0"
      ]
     },
     "execution_count": 616,
     "metadata": {},
     "output_type": "execute_result"
    }
   ],
   "source": [
    "df.lot_config.isna().sum()"
   ]
  },
  {
   "cell_type": "code",
   "execution_count": null,
   "id": "03d5e924",
   "metadata": {},
   "outputs": [],
   "source": []
  },
  {
   "cell_type": "markdown",
   "id": "eb8eedcd",
   "metadata": {},
   "source": [
    "Completed till now\n",
    "- [x]'id'\n",
    "- [x]'pid'\n",
    "- [x]'ms_subclass'\n",
    "- [x]'ms_zoning'\n",
    "- [x]'lot_frontage'\n",
    "- [x]'lot_area'\n",
    "- [x]'street'\n",
    "- [x]'lot_shape'\n",
    "- [x]'land_contour'\n",
    "- [x]'utilities'\n",
    "- [x]'lot_config'"
   ]
  },
  {
   "cell_type": "markdown",
   "id": "43ae8dce",
   "metadata": {},
   "source": [
    "### Automation for other columns"
   ]
  },
  {
   "cell_type": "code",
   "execution_count": 617,
   "id": "c36324c9",
   "metadata": {},
   "outputs": [],
   "source": [
    "nominal=['pid','ms_subclass','ms_zoning','street','alley','land_contour','lot_config','neighborhood','condition_1','condition_2', 'bldg_type',\n",
    "       'house_style', 'overall_cond','roof_style', 'roof_matl', 'exterior_1st',\n",
    "       'exterior_2nd', 'mas_vnr_type','foundation','heating','central_air',\n",
    "        'garage_type','misc_feature','sale_type']\n",
    "nominal_dict = {col: [] for col in nominal}\n",
    "ordinal=['lot_shape','utilities','land_slope','overall_qual','overall_cond','exter_qual','exter_cond',\n",
    "        'bsmt_qual','bsmt_cond','bsmt_exposure','bsmtfin_type_1','bsmtfin_type_2',\n",
    "         'heating_qc','electrical','kitchen_qual','functional','fireplace_qu',\n",
    "         'garage_finish','garage_qual','garage_cond','paved_drive','pool_qc',\n",
    "         'fence']\n",
    "discrete =['year_built','year_remod/add','bsmt_full_bath', 'bsmt_half_bath', 'full_bath',\n",
    "       'half_bath', 'bedroom_abvgr', 'kitchen_abvgr','totrms_abvgrd',\n",
    "          'fireplaces','garage_yr_blt','garage_cars','mo_sold', 'yr_sold']\n",
    "continuous= ['lot_frontage','lot_area','mas_vnr_area','bsmtfin_sf_1',\n",
    "             'bsmtfin_sf_2','bsmt_unf_sf', 'total_bsmt_sf','1st_flr_sf', 'flr2nd_sf', 'low_qual_fin_sf',\n",
    "       'gr_liv_area','garage_area','wood_deck_sf', 'open_porch_sf', 'enclosed_porch', 'ssn3_porch',\n",
    "       'screen_porch', 'pool_area','misc_val','saleprice']"
   ]
  },
  {
   "cell_type": "code",
   "execution_count": 618,
   "id": "f3ef906a",
   "metadata": {},
   "outputs": [
    {
     "name": "stdout",
     "output_type": "stream",
     "text": [
      "1     alley\n",
      "42       id\n",
      "dtype: object\n"
     ]
    }
   ],
   "source": [
    "#Checking for uncommong elements\n",
    "#union\n",
    "union = pd.Series(np.union1d(t, df.columns))\n",
    "  \n",
    "# intersection of the series\n",
    "intersect = pd.Series(np.intersect1d(t, df.columns))\n",
    "  \n",
    "# uncommon elements in both the series \n",
    "notcommonseries = union[~union.isin(intersect)]\n",
    "  \n",
    "# displaying the result\n",
    "print(notcommonseries)"
   ]
  },
  {
   "cell_type": "code",
   "execution_count": 619,
   "id": "0a6b993e",
   "metadata": {},
   "outputs": [
    {
     "ename": "KeyError",
     "evalue": "'alley'",
     "output_type": "error",
     "traceback": [
      "\u001b[0;31m---------------------------------------------------------------------------\u001b[0m",
      "\u001b[0;31mKeyError\u001b[0m                                  Traceback (most recent call last)",
      "File \u001b[0;32m/usr/local/anaconda3/lib/python3.9/site-packages/pandas/core/indexes/base.py:3621\u001b[0m, in \u001b[0;36mIndex.get_loc\u001b[0;34m(self, key, method, tolerance)\u001b[0m\n\u001b[1;32m   3620\u001b[0m \u001b[38;5;28;01mtry\u001b[39;00m:\n\u001b[0;32m-> 3621\u001b[0m     \u001b[38;5;28;01mreturn\u001b[39;00m \u001b[38;5;28;43mself\u001b[39;49m\u001b[38;5;241;43m.\u001b[39;49m\u001b[43m_engine\u001b[49m\u001b[38;5;241;43m.\u001b[39;49m\u001b[43mget_loc\u001b[49m\u001b[43m(\u001b[49m\u001b[43mcasted_key\u001b[49m\u001b[43m)\u001b[49m\n\u001b[1;32m   3622\u001b[0m \u001b[38;5;28;01mexcept\u001b[39;00m \u001b[38;5;167;01mKeyError\u001b[39;00m \u001b[38;5;28;01mas\u001b[39;00m err:\n",
      "File \u001b[0;32m/usr/local/anaconda3/lib/python3.9/site-packages/pandas/_libs/index.pyx:136\u001b[0m, in \u001b[0;36mpandas._libs.index.IndexEngine.get_loc\u001b[0;34m()\u001b[0m\n",
      "File \u001b[0;32m/usr/local/anaconda3/lib/python3.9/site-packages/pandas/_libs/index.pyx:163\u001b[0m, in \u001b[0;36mpandas._libs.index.IndexEngine.get_loc\u001b[0;34m()\u001b[0m\n",
      "File \u001b[0;32mpandas/_libs/hashtable_class_helper.pxi:5198\u001b[0m, in \u001b[0;36mpandas._libs.hashtable.PyObjectHashTable.get_item\u001b[0;34m()\u001b[0m\n",
      "File \u001b[0;32mpandas/_libs/hashtable_class_helper.pxi:5206\u001b[0m, in \u001b[0;36mpandas._libs.hashtable.PyObjectHashTable.get_item\u001b[0;34m()\u001b[0m\n",
      "\u001b[0;31mKeyError\u001b[0m: 'alley'",
      "\nThe above exception was the direct cause of the following exception:\n",
      "\u001b[0;31mKeyError\u001b[0m                                  Traceback (most recent call last)",
      "Input \u001b[0;32mIn [619]\u001b[0m, in \u001b[0;36m<cell line: 3>\u001b[0;34m()\u001b[0m\n\u001b[1;32m      1\u001b[0m \u001b[38;5;66;03m# for nominal entries\u001b[39;00m\n\u001b[0;32m----> 3\u001b[0m result \u001b[38;5;241m=\u001b[39m pd\u001b[38;5;241m.\u001b[39mDataFrame([[col, df[col]\u001b[38;5;241m.\u001b[39munique(),\u001b[38;5;28mlen\u001b[39m(df[col]\u001b[38;5;241m.\u001b[39munique()), df[col]\u001b[38;5;241m.\u001b[39misnull()\u001b[38;5;241m.\u001b[39msum()] \u001b[38;5;28;01mfor\u001b[39;00m col \u001b[38;5;129;01min\u001b[39;00m nominal], columns\u001b[38;5;241m=\u001b[39m[\u001b[38;5;124m'\u001b[39m\u001b[38;5;124mcolumn\u001b[39m\u001b[38;5;124m'\u001b[39m,\u001b[38;5;124m'\u001b[39m\u001b[38;5;124munique_values\u001b[39m\u001b[38;5;124m'\u001b[39m,\u001b[38;5;124m'\u001b[39m\u001b[38;5;124m#unique_values\u001b[39m\u001b[38;5;124m'\u001b[39m,\u001b[38;5;124m'\u001b[39m\u001b[38;5;124m#missing_values\u001b[39m\u001b[38;5;124m'\u001b[39m])\n\u001b[1;32m      4\u001b[0m result\n",
      "Input \u001b[0;32mIn [619]\u001b[0m, in \u001b[0;36m<listcomp>\u001b[0;34m(.0)\u001b[0m\n\u001b[1;32m      1\u001b[0m \u001b[38;5;66;03m# for nominal entries\u001b[39;00m\n\u001b[0;32m----> 3\u001b[0m result \u001b[38;5;241m=\u001b[39m pd\u001b[38;5;241m.\u001b[39mDataFrame([[col, \u001b[43mdf\u001b[49m\u001b[43m[\u001b[49m\u001b[43mcol\u001b[49m\u001b[43m]\u001b[49m\u001b[38;5;241m.\u001b[39munique(),\u001b[38;5;28mlen\u001b[39m(df[col]\u001b[38;5;241m.\u001b[39munique()), df[col]\u001b[38;5;241m.\u001b[39misnull()\u001b[38;5;241m.\u001b[39msum()] \u001b[38;5;28;01mfor\u001b[39;00m col \u001b[38;5;129;01min\u001b[39;00m nominal], columns\u001b[38;5;241m=\u001b[39m[\u001b[38;5;124m'\u001b[39m\u001b[38;5;124mcolumn\u001b[39m\u001b[38;5;124m'\u001b[39m,\u001b[38;5;124m'\u001b[39m\u001b[38;5;124munique_values\u001b[39m\u001b[38;5;124m'\u001b[39m,\u001b[38;5;124m'\u001b[39m\u001b[38;5;124m#unique_values\u001b[39m\u001b[38;5;124m'\u001b[39m,\u001b[38;5;124m'\u001b[39m\u001b[38;5;124m#missing_values\u001b[39m\u001b[38;5;124m'\u001b[39m])\n\u001b[1;32m      4\u001b[0m result\n",
      "File \u001b[0;32m/usr/local/anaconda3/lib/python3.9/site-packages/pandas/core/frame.py:3505\u001b[0m, in \u001b[0;36mDataFrame.__getitem__\u001b[0;34m(self, key)\u001b[0m\n\u001b[1;32m   3503\u001b[0m \u001b[38;5;28;01mif\u001b[39;00m \u001b[38;5;28mself\u001b[39m\u001b[38;5;241m.\u001b[39mcolumns\u001b[38;5;241m.\u001b[39mnlevels \u001b[38;5;241m>\u001b[39m \u001b[38;5;241m1\u001b[39m:\n\u001b[1;32m   3504\u001b[0m     \u001b[38;5;28;01mreturn\u001b[39;00m \u001b[38;5;28mself\u001b[39m\u001b[38;5;241m.\u001b[39m_getitem_multilevel(key)\n\u001b[0;32m-> 3505\u001b[0m indexer \u001b[38;5;241m=\u001b[39m \u001b[38;5;28;43mself\u001b[39;49m\u001b[38;5;241;43m.\u001b[39;49m\u001b[43mcolumns\u001b[49m\u001b[38;5;241;43m.\u001b[39;49m\u001b[43mget_loc\u001b[49m\u001b[43m(\u001b[49m\u001b[43mkey\u001b[49m\u001b[43m)\u001b[49m\n\u001b[1;32m   3506\u001b[0m \u001b[38;5;28;01mif\u001b[39;00m is_integer(indexer):\n\u001b[1;32m   3507\u001b[0m     indexer \u001b[38;5;241m=\u001b[39m [indexer]\n",
      "File \u001b[0;32m/usr/local/anaconda3/lib/python3.9/site-packages/pandas/core/indexes/base.py:3623\u001b[0m, in \u001b[0;36mIndex.get_loc\u001b[0;34m(self, key, method, tolerance)\u001b[0m\n\u001b[1;32m   3621\u001b[0m     \u001b[38;5;28;01mreturn\u001b[39;00m \u001b[38;5;28mself\u001b[39m\u001b[38;5;241m.\u001b[39m_engine\u001b[38;5;241m.\u001b[39mget_loc(casted_key)\n\u001b[1;32m   3622\u001b[0m \u001b[38;5;28;01mexcept\u001b[39;00m \u001b[38;5;167;01mKeyError\u001b[39;00m \u001b[38;5;28;01mas\u001b[39;00m err:\n\u001b[0;32m-> 3623\u001b[0m     \u001b[38;5;28;01mraise\u001b[39;00m \u001b[38;5;167;01mKeyError\u001b[39;00m(key) \u001b[38;5;28;01mfrom\u001b[39;00m \u001b[38;5;21;01merr\u001b[39;00m\n\u001b[1;32m   3624\u001b[0m \u001b[38;5;28;01mexcept\u001b[39;00m \u001b[38;5;167;01mTypeError\u001b[39;00m:\n\u001b[1;32m   3625\u001b[0m     \u001b[38;5;66;03m# If we have a listlike key, _check_indexing_error will raise\u001b[39;00m\n\u001b[1;32m   3626\u001b[0m     \u001b[38;5;66;03m#  InvalidIndexError. Otherwise we fall through and re-raise\u001b[39;00m\n\u001b[1;32m   3627\u001b[0m     \u001b[38;5;66;03m#  the TypeError.\u001b[39;00m\n\u001b[1;32m   3628\u001b[0m     \u001b[38;5;28mself\u001b[39m\u001b[38;5;241m.\u001b[39m_check_indexing_error(key)\n",
      "\u001b[0;31mKeyError\u001b[0m: 'alley'"
     ]
    }
   ],
   "source": [
    "# for nominal entries\n",
    "\n",
    "result = pd.DataFrame([[col, df[col].unique(),len(df[col].unique()), df[col].isnull().sum()] for col in nominal], columns=['column','unique_values','#unique_values','#missing_values'])\n",
    "result"
   ]
  },
  {
   "cell_type": "code",
   "execution_count": null,
   "id": "3a8a8f03",
   "metadata": {},
   "outputs": [],
   "source": [
    "df.drop(columns='misc_feature',inplace=True)"
   ]
  },
  {
   "cell_type": "markdown",
   "id": "fd121be1",
   "metadata": {},
   "source": [
    "**Misc Feature column dropped**"
   ]
  },
  {
   "cell_type": "code",
   "execution_count": null,
   "id": "33909690",
   "metadata": {},
   "outputs": [],
   "source": [
    "\n",
    "#Neighbourhood-Nominal\n",
    "string = \"\"\"    Blmngtn\tBloomington Heights\n",
    "       Blueste\tBluestem\n",
    "       BrDale\tBriardale\n",
    "       BrkSide\tBrookside\n",
    "       ClearCr\tClear Creek\n",
    "       CollgCr\tCollege Creek\n",
    "       Crawfor\tCrawford\n",
    "       Edwards\tEdwards\n",
    "       Gilbert\tGilbert\n",
    "       Greens\tGreens\n",
    "       GrnHill\tGreen Hills\n",
    "       IDOTRR\tIowa DOT and Rail Road\n",
    "       Landmrk\tLandmark\n",
    "       MeadowV\tMeadow Village\n",
    "       Mitchel\tMitchell\n",
    "       Names\tNorth Ames\n",
    "       NoRidge\tNorthridge\n",
    "       NPkVill\tNorthpark Villa\n",
    "       NridgHt\tNorthridge Heights\n",
    "       NWAmes\tNorthwest Ames\n",
    "       OldTown\tOld Town\n",
    "       SWISU\tSouth & West of Iowa State University\n",
    "       Sawyer\tSawyer\n",
    "       SawyerW\tSawyer West\n",
    "       Somerst\tSomerset\n",
    "       StoneBr\tStone Brook\n",
    "       Timber\tTimberland\n",
    "       Veenker\tVeenker\"\"\"\n",
    "\n",
    "dict_neighborhood = {s.strip().split('\\t')[0]:s.strip().split('\\t')[1] for s in string.split(\"\\n\")}\n",
    "\n",
    "\n",
    "\n",
    "# result[]"
   ]
  },
  {
   "cell_type": "code",
   "execution_count": null,
   "id": "4a1dca7f",
   "metadata": {},
   "outputs": [],
   "source": [
    "#Lot Config (Nominal): Lot configuration\n",
    "string=\"\"\"Inside\tInside lot\n",
    "       Corner\tCorner lot\n",
    "       CulDSac\tCul-de-sac\n",
    "       FR2\tFrontage on 2 sides of property\n",
    "       FR3\tFrontage on 3 sides of property\"\"\"   \n",
    "dict_lot_config = {s.strip().split('\\t')[0]:s.strip().split('\\t')[1] for s in string.split(\"\\n\")}\n"
   ]
  },
  {
   "cell_type": "code",
   "execution_count": null,
   "id": "14317bf7",
   "metadata": {},
   "outputs": [],
   "source": [
    "#Condition 1 (Nominal): Proximity to various conditions\n",
    "\n",
    "string=\"\"\"Artery\tAdjacent to arterial street\n",
    "       Feedr\tAdjacent to feeder street\t\n",
    "       Norm\tNormal\t\n",
    "       RRNn\tWithin 200' of North-South Railroad\n",
    "       RRAn\tAdjacent to North-South Railroad\n",
    "       PosN\tNear positive off-site feature--park, greenbelt, etc.\n",
    "       PosA\tAdjacent to postive off-site feature\n",
    "       RRNe\tWithin 200' of East-West Railroad\n",
    "       RRAe\tAdjacent to East-West Railroad\"\"\"\n",
    "dict_condition_1 = {s.strip().split('\\t')[0]:s.strip().split('\\t')[1] for s in string.split(\"\\n\")}\n"
   ]
  },
  {
   "cell_type": "code",
   "execution_count": null,
   "id": "be52f304",
   "metadata": {},
   "outputs": [],
   "source": [
    "#Condition 2 (Nominal): Proximity to various conditions (if more than one is present)\n",
    "\n",
    "string=\"\"\"Artery\tAdjacent to arterial street\n",
    "       Feedr\tAdjacent to feeder street\t\n",
    "       Norm\tNormal\t\n",
    "       RRNn\tWithin 200' of North-South Railroad\n",
    "       RRAn\tAdjacent to North-South Railroad\n",
    "       PosN\tNear positive off-site feature--park, greenbelt, etc.\n",
    "       PosA\tAdjacent to postive off-site feature\n",
    "       RRNe\tWithin 200' of East-West Railroad\n",
    "       RRAe\tAdjacent to East-West Railroad\"\"\" \n",
    "dict_condition_2 = {s.strip().split('\\t')[0]:s.strip().split('\\t')[1] for s in string.split(\"\\n\")}\n",
    "# dict_condition2"
   ]
  },
  {
   "cell_type": "code",
   "execution_count": null,
   "id": "b0786fe9",
   "metadata": {},
   "outputs": [],
   "source": [
    "#Land Slope (Ordinal): Slope of property\n",
    "\t\t\n",
    "string=\"\"\"Gtl\tGentle slope\n",
    "       Mod\tModerate Slope\t\n",
    "       Sev\tSevere Slope\"\"\"\n",
    "\t\n",
    "dict_land_slope = {s.strip().split('\\t')[0]:s.strip().split('\\t')[1] for s in string.split(\"\\n\")}"
   ]
  },
  {
   "cell_type": "code",
   "execution_count": null,
   "id": "db5e7530",
   "metadata": {},
   "outputs": [],
   "source": [
    "#Bldg Type (Nominal): Type of dwelling\n",
    "\t\t\n",
    "string=\"\"\"1Fam\tSingle-family Detached\t\n",
    "       2FmCon\tTwo-family Conversion; originally built as one-family dwelling\n",
    "       Duplx\tDuplex\n",
    "       TwnhsE\tTownhouse End Unit\n",
    "       TwnhsI\tTownhouse Inside Unit\"\"\"\n",
    "\t\n",
    "dict_bldg_type = {s.strip().split('\\t')[0]:s.strip().split('\\t')[1] for s in string.split(\"\\n\")}\n"
   ]
  },
  {
   "cell_type": "code",
   "execution_count": null,
   "id": "d9851249",
   "metadata": {},
   "outputs": [],
   "source": [
    "#House Style (Nominal): Style of dwelling\n",
    "\t\n",
    "string=\"\"\"1Story\tOne story\n",
    "       1.5Fin\tOne and one-half story: 2nd level finished\n",
    "       1.5Unf\tOne and one-half story: 2nd level unfinished\n",
    "       2Story\tTwo story\n",
    "       2.5Fin\tTwo and one-half story: 2nd level finished\n",
    "       2.5Unf\tTwo and one-half story: 2nd level unfinished\n",
    "       SFoyer\tSplit Foyer\n",
    "       SLvl\tSplit Level\"\"\"\n",
    "dict_house_style = {s.strip().split('\\t')[0]:s.strip().split('\\t')[1] for s in string.split(\"\\n\")}\n",
    "# dict_house_style"
   ]
  },
  {
   "cell_type": "code",
   "execution_count": null,
   "id": "ce1ab990",
   "metadata": {},
   "outputs": [],
   "source": [
    "#Overall Qual (Ordinal): Rates the overall material and finish of the house\n",
    "string=\"\"\"10\tVery Excellent\n",
    "       9\tExcellent\n",
    "       8\tVery Good\n",
    "       7\tGood\n",
    "       6\tAbove Average\n",
    "       5\tAverage\n",
    "       4\tBelow Average\n",
    "       3\tFair\n",
    "       2\tPoor\n",
    "       1\tVery Poor\"\"\"\n",
    "# [s.strip().split('\\t') for s in string.split('\\n')]\n",
    "dict_overall_qual = {s.strip().split('\\t')[0]:s.strip().split('\\t')[1] for s in string.split(\"\\n\")}\n",
    "# dict_overall_qual"
   ]
  },
  {
   "cell_type": "code",
   "execution_count": null,
   "id": "1f8d6f30",
   "metadata": {},
   "outputs": [],
   "source": [
    "#Overall Cond (Ordinal): Rates the overall condition of the house\n",
    "\n",
    "string=\"\"\"10\tVery Excellent\n",
    "       9\tExcellent\n",
    "       8\tVery Good\n",
    "       7\tGood\n",
    "       6\tAbove Average\t\n",
    "       5\tAverage\n",
    "       4\tBelow Average\t\n",
    "       3\tFair\n",
    "       2\tPoor\n",
    "       1\tVery Poor\"\"\"\n",
    "dict_overall_cond = {s.strip().split('\\t')[0]:s.strip().split('\\t')[1] for s in string.split(\"\\n\")}\n",
    "# dict_overall_cond"
   ]
  },
  {
   "cell_type": "code",
   "execution_count": null,
   "id": "cd2da003",
   "metadata": {},
   "outputs": [],
   "source": [
    "#Roof Style (Nominal): Type of roof\n",
    "\n",
    "string=\"\"\"Flat\tFlat\n",
    "       Gable\tGable\n",
    "       Gambrel\tGabrel (Barn)\n",
    "       Hip\tHip\n",
    "       Mansard\tMansard\n",
    "       Shed\tShed\"\"\"\n",
    "dict_roof_style = {s.strip().split('\\t')[0]:s.strip().split('\\t')[1] for s in string.split(\"\\n\")}\n",
    "# dict_roof_style"
   ]
  },
  {
   "cell_type": "code",
   "execution_count": null,
   "id": "5a02d0fd",
   "metadata": {},
   "outputs": [],
   "source": [
    "#Roof Matl (Nominal): Roof material\n",
    "\n",
    "string=\"\"\"ClyTile\tClay or Tile\n",
    "       CompShg\tStandard (Composite) Shingle\n",
    "       Membran\tMembrane\n",
    "       Metal\tMetal\n",
    "       Roll\tRoll\n",
    "       Tar&Grv\tGravel & Tar\n",
    "       WdShake\tWood Shakes\n",
    "       WdShngl\tWood Shingles\"\"\"\n",
    "dict_roof_mat1 = {s.strip().split('\\t')[0]:s.strip().split('\\t')[1] for s in string.split(\"\\n\")}\n",
    "# dict_roof_mat1"
   ]
  },
  {
   "cell_type": "code",
   "execution_count": null,
   "id": "49be4d10",
   "metadata": {},
   "outputs": [],
   "source": [
    "#Exterior 1 (Nominal): Exterior covering on house\n",
    "\n",
    "string=\"\"\"AsbShng\tAsbestos Shingles\n",
    "       AsphShn\tAsphalt Shingles\n",
    "       BrkComm\tBrick Common\n",
    "       BrkFace\tBrick Face\n",
    "       CBlock\tCinder Block\n",
    "       CemntBd\tCement Board\n",
    "       HdBoard\tHard Board\n",
    "       ImStucc\tImitation Stucco\n",
    "       MetalSd\tMetal Siding\n",
    "       Other\tOther\n",
    "       Plywood\tPlywood\n",
    "       PreCast\tPreCast\t\n",
    "       Stone\tStone\n",
    "       Stucco\tStucco\n",
    "       VinylSd\tVinyl Siding\n",
    "       Wd Sdng\tWood Siding\n",
    "       WdShing\tWood Shingles\"\"\"\n",
    "dict_exterior_1 = {s.strip().split('\\t')[0]:s.strip().split('\\t')[1] for s in string.split(\"\\n\")}\n",
    "# dict_exterior_1"
   ]
  },
  {
   "cell_type": "code",
   "execution_count": null,
   "id": "5c29b973",
   "metadata": {},
   "outputs": [],
   "source": [
    "#Exterior 2 (Nominal): Exterior covering on house (if more than one material)\n",
    "\n",
    "string=\"\"\"AsbShng\tAsbestos Shingles\n",
    "       AsphShn\tAsphalt Shingles\n",
    "       BrkComm\tBrick Common\n",
    "       BrkFace\tBrick Face\n",
    "       CBlock\tCinder Block\n",
    "       CemntBd\tCement Board\n",
    "       HdBoard\tHard Board\n",
    "       ImStucc\tImitation Stucco\n",
    "       MetalSd\tMetal Siding\n",
    "       Other\tOther\n",
    "       Plywood\tPlywood\n",
    "       PreCast\tPreCast\n",
    "       Stone\tStone\n",
    "       Stucco\tStucco\n",
    "       VinylSd\tVinyl Siding\n",
    "       Wd Sdng\tWood Siding\n",
    "       WdShing\tWood Shingles\"\"\"\n",
    "dict_exterior_2 = {s.strip().split('\\t')[0]:s.strip().split('\\t')[1] for s in string.split(\"\\n\")}\n",
    "# dict_exterior_2"
   ]
  },
  {
   "cell_type": "code",
   "execution_count": null,
   "id": "c358c12e",
   "metadata": {},
   "outputs": [],
   "source": [
    "#Mas Vnr Type (Nominal): Masonry veneer type\n",
    "\n",
    "string=\"\"\"BrkCmn\tBrick Common\n",
    "       BrkFace\tBrick Face\n",
    "       CBlock\tCinder Block\n",
    "       None\tNone\n",
    "       Stone\tStone\"\"\"\n",
    "dict_mas_vnr = {s.strip().split('\\t')[0]:s.strip().split('\\t')[1] for s in string.split(\"\\n\")}\n",
    "# dict_mas_vnr"
   ]
  },
  {
   "cell_type": "code",
   "execution_count": null,
   "id": "d3fb0bd3",
   "metadata": {},
   "outputs": [],
   "source": [
    "#Exter Qual (Ordinal): Evaluates the quality of the material on the exterior \n",
    "\t\t\n",
    "string=\"\"\"Ex\tExcellent\n",
    "       Gd\tGood\n",
    "       TA\tAverage/Typical\n",
    "       Fa\tFair\n",
    "       Po\tPoor\"\"\"\n",
    "dict_exter_qual = {s.strip().split('\\t')[0]:s.strip().split('\\t')[1] for s in string.split(\"\\n\")}\n",
    "# dict_exter_qual"
   ]
  },
  {
   "cell_type": "code",
   "execution_count": null,
   "id": "e1e3ba77",
   "metadata": {},
   "outputs": [],
   "source": [
    "#Exter Cond (Ordinal): Evaluates the present condition of the material on the exterior\n",
    "\n",
    "string=\"\"\"Ex\tExcellent\n",
    "       Gd\tGood\n",
    "       TA\tAverage/Typical\n",
    "       Fa\tFair\n",
    "       Po\tPoor\"\"\"\n",
    "dict_exter_cond = {s.strip().split('\\t')[0]:s.strip().split('\\t')[1] for s in string.split(\"\\n\")}\n",
    "# dict_exter_cond"
   ]
  },
  {
   "cell_type": "code",
   "execution_count": null,
   "id": "e09d2383",
   "metadata": {},
   "outputs": [],
   "source": [
    "#Foundation (Nominal): Type of foundation\n",
    "\n",
    "string=\"\"\"BrkTil\tBrick & Tile\n",
    "       CBlock\tCinder Block\n",
    "       PConc\tPoured Contrete\t\n",
    "       Slab\tSlab\n",
    "       Stone\tStone\n",
    "       Wood\tWood\"\"\"\n",
    "dict_foundation = {s.strip().split('\\t')[0]:s.strip().split('\\t')[1] for s in string.split(\"\\n\")}\n",
    "# dict_foundation"
   ]
  },
  {
   "cell_type": "code",
   "execution_count": null,
   "id": "c54b3cf4",
   "metadata": {},
   "outputs": [],
   "source": [
    "#Bsmt Qual (Ordinal): Evaluates the height of the basement\n",
    "\n",
    "string=\"\"\"Ex\tExcellent (100+ inches)\t\n",
    "       Gd\tGood (90-99 inches)\n",
    "       TA\tTypical (80-89 inches)\n",
    "       Fa\tFair (70-79 inches)\n",
    "       Po\tPoor (<70 inches\n",
    "       NA\tNo Basement\"\"\"\n",
    "dict_bsmt_qual = {s.strip().split('\\t')[0]:s.strip().split('\\t')[1] for s in string.split(\"\\n\")}\n",
    "# dict_bsmt_qual"
   ]
  },
  {
   "cell_type": "code",
   "execution_count": null,
   "id": "cec14639",
   "metadata": {},
   "outputs": [],
   "source": [
    "#Bsmt Cond (Ordinal): Evaluates the general condition of the basement\n",
    "\n",
    "string=\"\"\"Ex\tExcellent\n",
    "       Gd\tGood\n",
    "       TA\tTypical - slight dampness allowed\n",
    "       Fa\tFair - dampness or some cracking or settling\n",
    "       Po\tPoor - Severe cracking, settling, or wetness\n",
    "       NA\tNo Basement\"\"\"\n",
    "dict_bsmt_cond = {s.strip().split('\\t')[0]:s.strip().split('\\t')[1] for s in string.split(\"\\n\")}\n",
    "# dict_bsmt_cond"
   ]
  },
  {
   "cell_type": "code",
   "execution_count": null,
   "id": "5189137f",
   "metadata": {},
   "outputs": [],
   "source": [
    "#Bsmt Exposure\t(Ordinal): Refers to walkout or garden level walls\n",
    "\n",
    "string=\"\"\"Gd\tGood Exposure\n",
    "       Av\tAverage Exposure (split levels or foyers typically score average or above)\t\n",
    "       Mn\tMimimum Exposure\n",
    "       No\tNo Exposure\n",
    "       NA\tNo Basement\"\"\"\n",
    "dict_bsmt_exposure = {s.strip().split('\\t')[0]:s.strip().split('\\t')[1] for s in string.split(\"\\n\")}\n",
    "# dict_bsmt_exposure"
   ]
  },
  {
   "cell_type": "code",
   "execution_count": null,
   "id": "b9300e2e",
   "metadata": {},
   "outputs": [],
   "source": [
    "#BsmtFin Type 1\t(Ordinal): Rating of basement finished area\n",
    "\n",
    "string=\"\"\"GLQ\tGood Living Quarters\n",
    "       ALQ\tAverage Living Quarters\n",
    "       BLQ\tBelow Average Living Quarters\t\n",
    "       Rec\tAverage Rec Room\n",
    "       LwQ\tLow Quality\n",
    "       Unf\tUnfinshed\n",
    "       NA\tNo Basement\"\"\"\n",
    "dict_bsmt_fin_type1 = {s.strip().split('\\t')[0]:s.strip().split('\\t')[1] for s in string.split(\"\\n\")}\n",
    "# dict_bsmt_fin_type1"
   ]
  },
  {
   "cell_type": "code",
   "execution_count": null,
   "id": "3a905c78",
   "metadata": {},
   "outputs": [],
   "source": [
    "#BsmtFinType 2\t(Ordinal): Rating of basement finished area (if multiple types)\n",
    "\n",
    "string=\"\"\"GLQ\tGood Living Quarters\n",
    "       ALQ\tAverage Living Quarters\n",
    "       BLQ\tBelow Average Living Quarters\t\n",
    "       Rec\tAverage Rec Room\n",
    "       LwQ\tLow Quality\n",
    "       Unf\tUnfinshed\n",
    "       NA\tNo Basement\"\"\"\n",
    "dict_bsmt_fin_type2 = {s.strip().split('\\t')[0]:s.strip().split('\\t')[1] for s in string.split(\"\\n\")}\n",
    "# dict_bsmt_fin_type2"
   ]
  },
  {
   "cell_type": "code",
   "execution_count": null,
   "id": "e047c780",
   "metadata": {},
   "outputs": [],
   "source": [
    "#Heating\t(Nominal): Type of heating\n",
    "\n",
    "string=\"\"\"Floor\tFloor Furnace\n",
    "       GasA\tGas forced warm air furnace\n",
    "       GasW\tGas hot water or steam heat\n",
    "       Grav\tGravity furnace\t\n",
    "       OthW\tHot water or steam heat other than gas\n",
    "       Wall\tWall furnace\"\"\"\n",
    "dict_heating = {s.strip().split('\\t')[0]:s.strip().split('\\t')[1] for s in string.split(\"\\n\")}\n",
    "# dict_heating"
   ]
  },
  {
   "cell_type": "code",
   "execution_count": null,
   "id": "1af7afd5",
   "metadata": {},
   "outputs": [],
   "source": [
    "#HeatingQC (Ordinal): Heating quality and condition\n",
    "\n",
    "string=\"\"\"Ex\tExcellent\n",
    "       Gd\tGood\n",
    "       TA\tAverage/Typical\n",
    "       Fa\tFair\n",
    "       Po\tPoor\"\"\"\n",
    "dict_heatingQC = {s.strip().split('\\t')[0]:s.strip().split('\\t')[1] for s in string.split(\"\\n\")}\n",
    "# dict_heatingQC"
   ]
  },
  {
   "cell_type": "code",
   "execution_count": null,
   "id": "09fd96b0",
   "metadata": {},
   "outputs": [],
   "source": [
    "#Central Air (Nominal): Central air conditioning\n",
    "\n",
    "string=\"\"\"N\tNo\n",
    "       Y\tYes\"\"\"\n",
    "dict_central_air = {s.strip().split('\\t')[0]:s.strip().split('\\t')[1] for s in string.split(\"\\n\")}\n",
    "# dict_central_air"
   ]
  },
  {
   "cell_type": "code",
   "execution_count": null,
   "id": "2946ec26",
   "metadata": {},
   "outputs": [],
   "source": [
    "#Electrical (Ordinal): Electrical system\n",
    "\n",
    "string=\"\"\"SBrkr\tStandard Circuit Breakers & Romex\n",
    "       FuseA\tFuse Box over 60 AMP and all Romex wiring (Average)\t\n",
    "       FuseF\t60 AMP Fuse Box and mostly Romex wiring (Fair)\n",
    "       FuseP\t60 AMP Fuse Box and mostly knob & tube wiring (poor)\n",
    "       Mix\tMixed\"\"\"\n",
    "dict_electrical = {s.strip().split('\\t')[0]:s.strip().split('\\t')[1] for s in string.split(\"\\n\")}\n",
    "# dict_electrical"
   ]
  },
  {
   "cell_type": "code",
   "execution_count": null,
   "id": "2716afe6",
   "metadata": {},
   "outputs": [],
   "source": [
    "#KitchenQual (Ordinal): Kitchen quality\n",
    "\n",
    "string=\"\"\"Ex\tExcellent\n",
    "       Gd\tGood\n",
    "       TA\tTypical/Average\n",
    "       Fa\tFair\n",
    "       Po\tPoor\"\"\"\n",
    "dict_kitchen_qual = {s.strip().split('\\t')[0]:s.strip().split('\\t')[1] for s in string.split(\"\\n\")}\n",
    "# dict_kitchen_qual"
   ]
  },
  {
   "cell_type": "code",
   "execution_count": null,
   "id": "2481e300",
   "metadata": {},
   "outputs": [],
   "source": [
    "#Functional (Ordinal): Home functionality (Assume typical unless deductions are warranted)\n",
    "\n",
    "string=\"\"\"Typ\tTypical Functionality\n",
    "       Min1\tMinor Deductions 1\n",
    "       Min2\tMinor Deductions 2\n",
    "       Mod\tModerate Deductions\n",
    "       Maj1\tMajor Deductions 1\n",
    "       Maj2\tMajor Deductions 2\n",
    "       Sev\tSeverely Damaged\n",
    "       Sal\tSalvage only\"\"\"\n",
    "dict_functional = {s.strip().split('\\t')[0]:s.strip().split('\\t')[1] for s in string.split(\"\\n\")}\n",
    "# dict_functional"
   ]
  },
  {
   "cell_type": "code",
   "execution_count": null,
   "id": "f841a64c",
   "metadata": {},
   "outputs": [],
   "source": [
    "#FireplaceQu (Ordinal): Fireplace quality\n",
    "\n",
    "string=\"\"\"Ex\tExcellent - Exceptional Masonry Fireplace\n",
    "       Gd\tGood - Masonry Fireplace in main level\n",
    "       TA\tAverage - Prefabricated Fireplace in main living area or Masonry Fireplace in basement\n",
    "       Fa\tFair - Prefabricated Fireplace in basement\n",
    "       Po\tPoor - Ben Franklin Stove\n",
    "       NA\tNo Fireplace\"\"\"\n",
    "dict_fireplaceQu = {s.strip().split('\\t')[0]:s.strip().split('\\t')[1] for s in string.split(\"\\n\")}\n",
    "# dict_fireplaceQu"
   ]
  },
  {
   "cell_type": "code",
   "execution_count": null,
   "id": "343ba6cd",
   "metadata": {},
   "outputs": [],
   "source": [
    "#Garage Type (Nominal): Garage location\n",
    "\n",
    "string=\"\"\"2Types\tMore than one type of garage\n",
    "       Attchd\tAttached to home\n",
    "       Basment\tBasement Garage\n",
    "       BuiltIn\tBuilt-In (Garage part of house - typically has room above garage)\n",
    "       CarPort\tCar Port\n",
    "       Detchd\tDetached from home\n",
    "       NA\tNo Garage\"\"\"\n",
    "dict_garage_type = {s.strip().split('\\t')[0]:s.strip().split('\\t')[1] for s in string.split(\"\\n\")}\n",
    "# dict_garage_type"
   ]
  },
  {
   "cell_type": "code",
   "execution_count": null,
   "id": "1b014f2a",
   "metadata": {},
   "outputs": [],
   "source": [
    "#Garage Finish (Ordinal)\t: Interior finish of the garage\n",
    "\n",
    "string=\"\"\"Fin\tFinished\n",
    "       RFn\tRough Finished\t\n",
    "       Unf\tUnfinished\n",
    "       NA\tNo Garage\"\"\"\n",
    "dict_garage_finish = {s.strip().split('\\t')[0]:s.strip().split('\\t')[1] for s in string.split(\"\\n\")}\n",
    "# dict_garage_finish"
   ]
  },
  {
   "cell_type": "code",
   "execution_count": null,
   "id": "5538bc50",
   "metadata": {},
   "outputs": [],
   "source": [
    "#Garage Qual (Ordinal): Garage quality\n",
    "\n",
    "string=\"\"\"Ex\tExcellent\n",
    "       Gd\tGood\n",
    "       TA\tTypical/Average\n",
    "       Fa\tFair\n",
    "       Po\tPoor\n",
    "       NA\tNo Garage\"\"\"\n",
    "dict_garage_qual = {s.strip().split('\\t')[0]:s.strip().split('\\t')[1] for s in string.split(\"\\n\")}\n",
    "# dict_garage_qual"
   ]
  },
  {
   "cell_type": "code",
   "execution_count": null,
   "id": "789c0642",
   "metadata": {},
   "outputs": [],
   "source": [
    "#Garage Cond (Ordinal): Garage condition\n",
    "\n",
    "string=\"\"\"Ex\tExcellent\n",
    "       Gd\tGood\n",
    "       TA\tTypical/Average\n",
    "       Fa\tFair\n",
    "       Po\tPoor\n",
    "       NA\tNo Garage\"\"\"\n",
    "dict_garage_cond = {s.strip().split('\\t')[0]:s.strip().split('\\t')[1] for s in string.split(\"\\n\")}\n",
    "# dict_garage_cond"
   ]
  },
  {
   "cell_type": "code",
   "execution_count": null,
   "id": "05095ca5",
   "metadata": {},
   "outputs": [],
   "source": [
    "#Pool QC (Ordinal): Pool quality\n",
    "\n",
    "string=\"\"\"Ex\tExcellent\n",
    "       Gd\tGood\n",
    "       TA\tAverage/Typical\n",
    "       Fa\tFair\n",
    "       NA\tNo Pool\"\"\"\n",
    "dict_pool_qc = {s.strip().split('\\t')[0]:s.strip().split('\\t')[1] for s in string.split(\"\\n\")}\n",
    "# dict_pool_qc"
   ]
  },
  {
   "cell_type": "code",
   "execution_count": null,
   "id": "9b3d57d9",
   "metadata": {},
   "outputs": [],
   "source": [
    "#Misc Feature (Nominal): Miscellaneous feature not covered in other categories\n",
    "string=\"\"\"Elev\tElevator\n",
    "       Gar2\t2nd Garage (if not described in garage section)\n",
    "       Othr\tOther\n",
    "       Shed\tShed (over 100 SF)\n",
    "       TenC\tTennis Court\n",
    "       NA\tNone\"\"\"\n",
    "dict_misc_feature = {s.strip().split('\\t')[0]:s.strip().split('\\t')[1] for s in string.split(\"\\n\")}\n",
    "# dict_misc_feature"
   ]
  },
  {
   "cell_type": "code",
   "execution_count": null,
   "id": "e42dbf50",
   "metadata": {},
   "outputs": [],
   "source": [
    "#Sale Type (Nominal): Type of sale\n",
    "\n",
    "string=\"\"\"WD \tWarranty Deed - Conventional\n",
    "       CWD\tWarranty Deed - Cash\n",
    "       VWD\tWarranty Deed - VA Loan\n",
    "       New\tHome just constructed and sold\n",
    "       COD\tCourt Officer Deed/Estate\n",
    "       Con\tContract 15% Down payment regular terms\n",
    "       ConLw\tContract Low Down payment and low interest\n",
    "       ConLI\tContract Low Interest\n",
    "       ConLD\tContract Low Down\n",
    "       Oth\tOther\"\"\" \n",
    "dict_sale_type = {s.strip().split('\\t')[0]:s.strip().split('\\t')[1] for s in string.split(\"\\n\")}\n",
    "# dict_sale_type.keys()"
   ]
  },
  {
   "cell_type": "code",
   "execution_count": null,
   "id": "cd5b94e6",
   "metadata": {},
   "outputs": [],
   "source": [
    "value_validation_nominal={}\n",
    "for col in nominal:\n",
    "    try:\n",
    "        keys = eval('dict_' + col).keys()\n",
    "        flag = set(df[col].unique()).issubset(keys)\n",
    "        value_validation_nominal[col] = flag\n",
    "    except NameError:\n",
    "        pass\n",
    "value_validation_nominal\n"
   ]
  },
  {
   "cell_type": "code",
   "execution_count": null,
   "id": "9b0d1a68",
   "metadata": {},
   "outputs": [],
   "source": [
    "t1 = set(df['neighborhood'].unique())\n",
    "t2= set(dict_neighborhood.keys())\n",
    "t1 - t2"
   ]
  },
  {
   "cell_type": "code",
   "execution_count": null,
   "id": "093c1ceb",
   "metadata": {},
   "outputs": [],
   "source": [
    "df.loc[df[\"neighborhood\"] == \"NAmes\", \"neighborhood\"] = 'Names'"
   ]
  },
  {
   "cell_type": "code",
   "execution_count": 552,
   "id": "22869568",
   "metadata": {},
   "outputs": [],
   "source": [
    "t1=set(df['bldg_type'].unique())\n"
   ]
  },
  {
   "cell_type": "code",
   "execution_count": 553,
   "id": "a1a670dd",
   "metadata": {},
   "outputs": [
    {
     "data": {
      "text/plain": [
       "{'1Fam', '2FmCon', 'Duplx', 'TwnhsE', 'TwnhsI'}"
      ]
     },
     "execution_count": 553,
     "metadata": {},
     "output_type": "execute_result"
    }
   ],
   "source": [
    "t2=set(dict_bldg_type.keys())\n",
    "t2"
   ]
  },
  {
   "cell_type": "code",
   "execution_count": 554,
   "id": "8adeaac4",
   "metadata": {},
   "outputs": [],
   "source": [
    "df.loc[df[\"bldg_type\"] == \"Twnhs\", \"bldg_type\"] = 'TwnhsE'"
   ]
  },
  {
   "cell_type": "code",
   "execution_count": 555,
   "id": "f65d8888",
   "metadata": {},
   "outputs": [
    {
     "data": {
      "text/plain": [
       "{'1Fam', '2fmCon', 'Duplex', 'TwnhsE'}"
      ]
     },
     "execution_count": 555,
     "metadata": {},
     "output_type": "execute_result"
    }
   ],
   "source": [
    "set(df['bldg_type'].unique())"
   ]
  },
  {
   "cell_type": "code",
   "execution_count": 494,
   "id": "39e37e19",
   "metadata": {},
   "outputs": [
    {
     "data": {
      "text/plain": [
       "{1, 2, 3, 4, 5, 6, 7, 8, 9}"
      ]
     },
     "execution_count": 494,
     "metadata": {},
     "output_type": "execute_result"
    }
   ],
   "source": [
    "t1=set(df['overall_cond'].unique())\n",
    "t1"
   ]
  },
  {
   "cell_type": "code",
   "execution_count": 495,
   "id": "5c3940d4",
   "metadata": {},
   "outputs": [
    {
     "data": {
      "text/plain": [
       "{'1', '10', '2', '3', '4', '5', '6', '7', '8', '9'}"
      ]
     },
     "execution_count": 495,
     "metadata": {},
     "output_type": "execute_result"
    }
   ],
   "source": [
    "t2=set(dict_overall_cond.keys())\n",
    "t2"
   ]
  },
  {
   "cell_type": "code",
   "execution_count": 499,
   "id": "374e8486",
   "metadata": {},
   "outputs": [],
   "source": [
    "df['overall_cond']=df['overall_cond'].apply(lambda x: str(x))"
   ]
  },
  {
   "cell_type": "code",
   "execution_count": 500,
   "id": "afc65676",
   "metadata": {},
   "outputs": [
    {
     "data": {
      "text/plain": [
       "{'1', '2', '3', '4', '5', '6', '7', '8', '9'}"
      ]
     },
     "execution_count": 500,
     "metadata": {},
     "output_type": "execute_result"
    }
   ],
   "source": [
    "set(df['overall_cond'].unique())\n"
   ]
  },
  {
   "cell_type": "code",
   "execution_count": 502,
   "id": "dbe9fdf8",
   "metadata": {},
   "outputs": [
    {
     "data": {
      "text/plain": [
       "{'2Types', 'Attchd', 'Basment', 'BuiltIn', 'CarPort', 'Detchd', nan}"
      ]
     },
     "execution_count": 502,
     "metadata": {},
     "output_type": "execute_result"
    }
   ],
   "source": [
    "t1=set(df['garage_type'].unique())\n",
    "t1"
   ]
  },
  {
   "cell_type": "code",
   "execution_count": 504,
   "id": "0c4e5122",
   "metadata": {},
   "outputs": [
    {
     "data": {
      "text/plain": [
       "{'2Types', 'Attchd', 'Basment', 'BuiltIn', 'CarPort', 'Detchd', 'NA'}"
      ]
     },
     "execution_count": 504,
     "metadata": {},
     "output_type": "execute_result"
    }
   ],
   "source": [
    "t2=set(dict_garage_type.keys())\n",
    "t2"
   ]
  },
  {
   "cell_type": "code",
   "execution_count": 546,
   "id": "58f9026f",
   "metadata": {},
   "outputs": [],
   "source": [
    "df.loc[df[\"garage_type\"].isin(set(dict_garage_type.keys())) == False, \"garage_type\"] = 'NA'\n"
   ]
  },
  {
   "cell_type": "code",
   "execution_count": 547,
   "id": "0a29bc32",
   "metadata": {},
   "outputs": [
    {
     "data": {
      "text/plain": [
       "{'2Types', 'Attchd', 'Basment', 'BuiltIn', 'CarPort', 'Detchd', 'NA'}"
      ]
     },
     "execution_count": 547,
     "metadata": {},
     "output_type": "execute_result"
    }
   ],
   "source": [
    "set(df['garage_type'].unique())\n"
   ]
  },
  {
   "cell_type": "code",
   "execution_count": 551,
   "id": "960b298c",
   "metadata": {},
   "outputs": [
    {
     "data": {
      "text/plain": [
       "{'lot_config': True,\n",
       " 'neighborhood': True,\n",
       " 'condition_1': True,\n",
       " 'condition_2': True,\n",
       " 'bldg_type': False,\n",
       " 'house_style': True,\n",
       " 'overall_cond': True,\n",
       " 'roof_style': True,\n",
       " 'foundation': True,\n",
       " 'heating': True,\n",
       " 'central_air': True,\n",
       " 'garage_type': True,\n",
       " 'sale_type': True}"
      ]
     },
     "execution_count": 551,
     "metadata": {},
     "output_type": "execute_result"
    }
   ],
   "source": [
    "value_validation_nominal={}\n",
    "for col in nominal:\n",
    "    try:\n",
    "        keys = eval('dict_' + col).keys()\n",
    "        flag = set(df[col].unique()).issubset(keys)\n",
    "        value_validation_nominal[col] = flag\n",
    "    except NameError :\n",
    "        pass\n",
    "    except KeyError:\n",
    "        pass\n",
    "value_validation_nominal\n"
   ]
  },
  {
   "cell_type": "code",
   "execution_count": null,
   "id": "62f3c2d7",
   "metadata": {},
   "outputs": [],
   "source": []
  }
 ],
 "metadata": {
  "kernelspec": {
   "display_name": "Python 3 (ipykernel)",
   "language": "python",
   "name": "python3"
  },
  "language_info": {
   "codemirror_mode": {
    "name": "ipython",
    "version": 3
   },
   "file_extension": ".py",
   "mimetype": "text/x-python",
   "name": "python",
   "nbconvert_exporter": "python",
   "pygments_lexer": "ipython3",
   "version": "3.9.7"
  },
  "toc": {
   "base_numbering": 1,
   "nav_menu": {},
   "number_sections": true,
   "sideBar": true,
   "skip_h1_title": false,
   "title_cell": "Table of Contents",
   "title_sidebar": "Contents",
   "toc_cell": false,
   "toc_position": {},
   "toc_section_display": true,
   "toc_window_display": true
  }
 },
 "nbformat": 4,
 "nbformat_minor": 5
}
